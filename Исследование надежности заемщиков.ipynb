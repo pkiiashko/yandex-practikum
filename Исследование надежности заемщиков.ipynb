{
 "cells": [
  {
   "cell_type": "markdown",
   "id": "0394abc8",
   "metadata": {},
   "source": [
    "<div style=\"border:solid green 3px; padding: 20px\">\n",
    "<b>Привет Полина! 👋</b>\n",
    "\n",
    "Меня зовут Александр Базилевич и я буду проверять твой проект. Предлагаю общаться на «ты» 🙂 Если это не удобно на ты - дай знать, и мы перейдем на \"вы\". Моя основная цель — не указать на совершенные тобою ошибки, а поделиться своим опытом и помочь тебе стать аналитиком данных\n",
    "\n",
    "Вижу выполнение всех заданий и наличие выводов. Все ключевые этапы в работе выполнены, так что в целом справиться с задачей тебе удалось. Есть ещё некоторые вопросы, которые требуют твоего внимания. Комментарии по ним помечены <font color='red'>красным цветом</font> ❌. После их доработки проект будет принят. Осталось совсем немного, буду ждать твою работу на повторное ревью 🙂\n",
    "\n",
    "Давай работать над проектом в диалоге: если ты <b>что-то меняешь</b> в проекте по моим рекомендациям — <b>пиши об этом</b>. Выбери для своих комментариев какой-то заметный цвет, так мне будет легче отследить изменения. Пожалуйста, <b>не перемещай, не изменяй и не удаляй мои комментарии</b>. Всё это поможет выполнить повторную проверку твоего проекта оперативнее\n",
    "\n",
    "Ты также можешь реагировать на мои комментарии своими, выделяя их цветами и наиболее понравившимся тебе способом оформления, но явно  отличающимся от моих комментариев. Это нужно, чтобы не создавалась путаница 😉\n",
    "\n",
    "<div class=\"alert alert-success\">\n",
    "<b>Комментарий ревьюера - все отлично! ✅</b>\n",
    "\n",
    "В случае, если решение на отдельном шаге является полностью правильным 👍 Так будут отмечены удачные и элегантные решения, на которые можно опираться в будущих проектах\n",
    "</div>\n",
    "\n",
    "<div class=\"alert alert-warning\">\n",
    "<b>Комментарий ревьюера - замечания и рекомендации ⚠️</b>\n",
    "\n",
    "В случае, когда решение на отдельном шаге станет еще лучше, если внести небольшие коррективы. Ты можешь учесть эти комментарии при выполнении будущих заданий или доработать проект сейчас (однако это не обязательно)\n",
    "</div>\n",
    "    \n",
    "<div class=\"alert alert-block alert-danger\">\n",
    "<b>Комментарий ревьюера - на доработку ❌</b>   \n",
    "\n",
    "В случае, когда решение на отдельном шаге требует существенной переработки и внесения правок. Напоминаю, что проект не может быть принят с первого раза, если ревью содержит комментарии, рекомендующие доработать шаги\n",
    "</div>\n",
    "    \n",
    "Увидев у тебя неточность, в первый раз я лишь укажу на ее наличие и дам тебе возможность найти и исправить ее. На реальной работе твой руководитель будет поступать также, и я пытаюсь подготовить тебя именно к работе аналитиком. Но если ты пока не справишься с такой задачей - при следующей проверке я дам более точную подсказку! 🤓\n",
    "</div> "
   ]
  },
  {
   "cell_type": "markdown",
   "id": "18ff7101",
   "metadata": {
    "deletable": false,
    "editable": false,
    "id": "c81daeeb"
   },
   "source": [
    "# Исследование надежности заемщиков\n"
   ]
  },
  {
   "cell_type": "markdown",
   "id": "11fb0694",
   "metadata": {
    "deletable": false,
    "editable": false,
    "id": "827c20bf"
   },
   "source": [
    "Во второй части проекта вы выполните шаги 3 и 4. Их вручную проверит ревьюер.\n",
    "Чтобы вам не пришлось писать код заново для шагов 1 и 2, мы добавили авторские решения в ячейки с кодом. \n",
    "\n"
   ]
  },
  {
   "cell_type": "markdown",
   "id": "ce655904",
   "metadata": {
    "deletable": false,
    "editable": false,
    "id": "744d7639"
   },
   "source": [
    "## Откройте таблицу и изучите общую информацию о данных"
   ]
  },
  {
   "cell_type": "markdown",
   "id": "43e064bb",
   "metadata": {
    "deletable": false,
    "editable": false,
    "id": "e7a14c31"
   },
   "source": [
    "**Задание 1. Импортируйте библиотеку pandas. Считайте данные из csv-файла в датафрейм и сохраните в переменную `data`. Путь к файлу:**\n",
    "\n",
    "`/datasets/data.csv`"
   ]
  },
  {
   "cell_type": "code",
   "execution_count": 1,
   "id": "761fc78a",
   "metadata": {
    "deletable": false,
    "id": "7bcf75c9"
   },
   "outputs": [],
   "source": [
    "import pandas as pd\n",
    "\n",
    "try:\n",
    "    data = pd.read_csv('/datasets/data.csv')\n",
    "except:\n",
    "    data = pd.read_csv('https://code.s3.yandex.net/datasets/data.csv')"
   ]
  },
  {
   "cell_type": "markdown",
   "id": "29397ad2",
   "metadata": {
    "deletable": false,
    "editable": false,
    "id": "b8038fe3"
   },
   "source": [
    "**Задание 2. Выведите первые 20 строчек датафрейма `data` на экран.**"
   ]
  },
  {
   "cell_type": "code",
   "execution_count": 2,
   "id": "70b7ac7c",
   "metadata": {
    "deletable": false,
    "id": "2a7cab99",
    "outputId": "1a8f3ef2-d323-4ec2-ddf7-89670b5944c4"
   },
   "outputs": [
    {
     "data": {
      "text/html": [
       "<div>\n",
       "<style scoped>\n",
       "    .dataframe tbody tr th:only-of-type {\n",
       "        vertical-align: middle;\n",
       "    }\n",
       "\n",
       "    .dataframe tbody tr th {\n",
       "        vertical-align: top;\n",
       "    }\n",
       "\n",
       "    .dataframe thead th {\n",
       "        text-align: right;\n",
       "    }\n",
       "</style>\n",
       "<table border=\"1\" class=\"dataframe\">\n",
       "  <thead>\n",
       "    <tr style=\"text-align: right;\">\n",
       "      <th></th>\n",
       "      <th>children</th>\n",
       "      <th>days_employed</th>\n",
       "      <th>dob_years</th>\n",
       "      <th>education</th>\n",
       "      <th>education_id</th>\n",
       "      <th>family_status</th>\n",
       "      <th>family_status_id</th>\n",
       "      <th>gender</th>\n",
       "      <th>income_type</th>\n",
       "      <th>debt</th>\n",
       "      <th>total_income</th>\n",
       "      <th>purpose</th>\n",
       "    </tr>\n",
       "  </thead>\n",
       "  <tbody>\n",
       "    <tr>\n",
       "      <th>0</th>\n",
       "      <td>1</td>\n",
       "      <td>-8437.673028</td>\n",
       "      <td>42</td>\n",
       "      <td>высшее</td>\n",
       "      <td>0</td>\n",
       "      <td>женат / замужем</td>\n",
       "      <td>0</td>\n",
       "      <td>F</td>\n",
       "      <td>сотрудник</td>\n",
       "      <td>0</td>\n",
       "      <td>253875.639453</td>\n",
       "      <td>покупка жилья</td>\n",
       "    </tr>\n",
       "    <tr>\n",
       "      <th>1</th>\n",
       "      <td>1</td>\n",
       "      <td>-4024.803754</td>\n",
       "      <td>36</td>\n",
       "      <td>среднее</td>\n",
       "      <td>1</td>\n",
       "      <td>женат / замужем</td>\n",
       "      <td>0</td>\n",
       "      <td>F</td>\n",
       "      <td>сотрудник</td>\n",
       "      <td>0</td>\n",
       "      <td>112080.014102</td>\n",
       "      <td>приобретение автомобиля</td>\n",
       "    </tr>\n",
       "    <tr>\n",
       "      <th>2</th>\n",
       "      <td>0</td>\n",
       "      <td>-5623.422610</td>\n",
       "      <td>33</td>\n",
       "      <td>Среднее</td>\n",
       "      <td>1</td>\n",
       "      <td>женат / замужем</td>\n",
       "      <td>0</td>\n",
       "      <td>M</td>\n",
       "      <td>сотрудник</td>\n",
       "      <td>0</td>\n",
       "      <td>145885.952297</td>\n",
       "      <td>покупка жилья</td>\n",
       "    </tr>\n",
       "    <tr>\n",
       "      <th>3</th>\n",
       "      <td>3</td>\n",
       "      <td>-4124.747207</td>\n",
       "      <td>32</td>\n",
       "      <td>среднее</td>\n",
       "      <td>1</td>\n",
       "      <td>женат / замужем</td>\n",
       "      <td>0</td>\n",
       "      <td>M</td>\n",
       "      <td>сотрудник</td>\n",
       "      <td>0</td>\n",
       "      <td>267628.550329</td>\n",
       "      <td>дополнительное образование</td>\n",
       "    </tr>\n",
       "    <tr>\n",
       "      <th>4</th>\n",
       "      <td>0</td>\n",
       "      <td>340266.072047</td>\n",
       "      <td>53</td>\n",
       "      <td>среднее</td>\n",
       "      <td>1</td>\n",
       "      <td>гражданский брак</td>\n",
       "      <td>1</td>\n",
       "      <td>F</td>\n",
       "      <td>пенсионер</td>\n",
       "      <td>0</td>\n",
       "      <td>158616.077870</td>\n",
       "      <td>сыграть свадьбу</td>\n",
       "    </tr>\n",
       "    <tr>\n",
       "      <th>5</th>\n",
       "      <td>0</td>\n",
       "      <td>-926.185831</td>\n",
       "      <td>27</td>\n",
       "      <td>высшее</td>\n",
       "      <td>0</td>\n",
       "      <td>гражданский брак</td>\n",
       "      <td>1</td>\n",
       "      <td>M</td>\n",
       "      <td>компаньон</td>\n",
       "      <td>0</td>\n",
       "      <td>255763.565419</td>\n",
       "      <td>покупка жилья</td>\n",
       "    </tr>\n",
       "    <tr>\n",
       "      <th>6</th>\n",
       "      <td>0</td>\n",
       "      <td>-2879.202052</td>\n",
       "      <td>43</td>\n",
       "      <td>высшее</td>\n",
       "      <td>0</td>\n",
       "      <td>женат / замужем</td>\n",
       "      <td>0</td>\n",
       "      <td>F</td>\n",
       "      <td>компаньон</td>\n",
       "      <td>0</td>\n",
       "      <td>240525.971920</td>\n",
       "      <td>операции с жильем</td>\n",
       "    </tr>\n",
       "    <tr>\n",
       "      <th>7</th>\n",
       "      <td>0</td>\n",
       "      <td>-152.779569</td>\n",
       "      <td>50</td>\n",
       "      <td>СРЕДНЕЕ</td>\n",
       "      <td>1</td>\n",
       "      <td>женат / замужем</td>\n",
       "      <td>0</td>\n",
       "      <td>M</td>\n",
       "      <td>сотрудник</td>\n",
       "      <td>0</td>\n",
       "      <td>135823.934197</td>\n",
       "      <td>образование</td>\n",
       "    </tr>\n",
       "    <tr>\n",
       "      <th>8</th>\n",
       "      <td>2</td>\n",
       "      <td>-6929.865299</td>\n",
       "      <td>35</td>\n",
       "      <td>ВЫСШЕЕ</td>\n",
       "      <td>0</td>\n",
       "      <td>гражданский брак</td>\n",
       "      <td>1</td>\n",
       "      <td>F</td>\n",
       "      <td>сотрудник</td>\n",
       "      <td>0</td>\n",
       "      <td>95856.832424</td>\n",
       "      <td>на проведение свадьбы</td>\n",
       "    </tr>\n",
       "    <tr>\n",
       "      <th>9</th>\n",
       "      <td>0</td>\n",
       "      <td>-2188.756445</td>\n",
       "      <td>41</td>\n",
       "      <td>среднее</td>\n",
       "      <td>1</td>\n",
       "      <td>женат / замужем</td>\n",
       "      <td>0</td>\n",
       "      <td>M</td>\n",
       "      <td>сотрудник</td>\n",
       "      <td>0</td>\n",
       "      <td>144425.938277</td>\n",
       "      <td>покупка жилья для семьи</td>\n",
       "    </tr>\n",
       "    <tr>\n",
       "      <th>10</th>\n",
       "      <td>2</td>\n",
       "      <td>-4171.483647</td>\n",
       "      <td>36</td>\n",
       "      <td>высшее</td>\n",
       "      <td>0</td>\n",
       "      <td>женат / замужем</td>\n",
       "      <td>0</td>\n",
       "      <td>M</td>\n",
       "      <td>компаньон</td>\n",
       "      <td>0</td>\n",
       "      <td>113943.491460</td>\n",
       "      <td>покупка недвижимости</td>\n",
       "    </tr>\n",
       "    <tr>\n",
       "      <th>11</th>\n",
       "      <td>0</td>\n",
       "      <td>-792.701887</td>\n",
       "      <td>40</td>\n",
       "      <td>среднее</td>\n",
       "      <td>1</td>\n",
       "      <td>женат / замужем</td>\n",
       "      <td>0</td>\n",
       "      <td>F</td>\n",
       "      <td>сотрудник</td>\n",
       "      <td>0</td>\n",
       "      <td>77069.234271</td>\n",
       "      <td>покупка коммерческой недвижимости</td>\n",
       "    </tr>\n",
       "    <tr>\n",
       "      <th>12</th>\n",
       "      <td>0</td>\n",
       "      <td>NaN</td>\n",
       "      <td>65</td>\n",
       "      <td>среднее</td>\n",
       "      <td>1</td>\n",
       "      <td>гражданский брак</td>\n",
       "      <td>1</td>\n",
       "      <td>M</td>\n",
       "      <td>пенсионер</td>\n",
       "      <td>0</td>\n",
       "      <td>NaN</td>\n",
       "      <td>сыграть свадьбу</td>\n",
       "    </tr>\n",
       "    <tr>\n",
       "      <th>13</th>\n",
       "      <td>0</td>\n",
       "      <td>-1846.641941</td>\n",
       "      <td>54</td>\n",
       "      <td>неоконченное высшее</td>\n",
       "      <td>2</td>\n",
       "      <td>женат / замужем</td>\n",
       "      <td>0</td>\n",
       "      <td>F</td>\n",
       "      <td>сотрудник</td>\n",
       "      <td>0</td>\n",
       "      <td>130458.228857</td>\n",
       "      <td>приобретение автомобиля</td>\n",
       "    </tr>\n",
       "    <tr>\n",
       "      <th>14</th>\n",
       "      <td>0</td>\n",
       "      <td>-1844.956182</td>\n",
       "      <td>56</td>\n",
       "      <td>высшее</td>\n",
       "      <td>0</td>\n",
       "      <td>гражданский брак</td>\n",
       "      <td>1</td>\n",
       "      <td>F</td>\n",
       "      <td>компаньон</td>\n",
       "      <td>1</td>\n",
       "      <td>165127.911772</td>\n",
       "      <td>покупка жилой недвижимости</td>\n",
       "    </tr>\n",
       "    <tr>\n",
       "      <th>15</th>\n",
       "      <td>1</td>\n",
       "      <td>-972.364419</td>\n",
       "      <td>26</td>\n",
       "      <td>среднее</td>\n",
       "      <td>1</td>\n",
       "      <td>женат / замужем</td>\n",
       "      <td>0</td>\n",
       "      <td>F</td>\n",
       "      <td>сотрудник</td>\n",
       "      <td>0</td>\n",
       "      <td>116820.904450</td>\n",
       "      <td>строительство собственной недвижимости</td>\n",
       "    </tr>\n",
       "    <tr>\n",
       "      <th>16</th>\n",
       "      <td>0</td>\n",
       "      <td>-1719.934226</td>\n",
       "      <td>35</td>\n",
       "      <td>среднее</td>\n",
       "      <td>1</td>\n",
       "      <td>женат / замужем</td>\n",
       "      <td>0</td>\n",
       "      <td>F</td>\n",
       "      <td>сотрудник</td>\n",
       "      <td>0</td>\n",
       "      <td>289202.704229</td>\n",
       "      <td>недвижимость</td>\n",
       "    </tr>\n",
       "    <tr>\n",
       "      <th>17</th>\n",
       "      <td>0</td>\n",
       "      <td>-2369.999720</td>\n",
       "      <td>33</td>\n",
       "      <td>высшее</td>\n",
       "      <td>0</td>\n",
       "      <td>гражданский брак</td>\n",
       "      <td>1</td>\n",
       "      <td>M</td>\n",
       "      <td>сотрудник</td>\n",
       "      <td>0</td>\n",
       "      <td>90410.586745</td>\n",
       "      <td>строительство недвижимости</td>\n",
       "    </tr>\n",
       "    <tr>\n",
       "      <th>18</th>\n",
       "      <td>0</td>\n",
       "      <td>400281.136913</td>\n",
       "      <td>53</td>\n",
       "      <td>среднее</td>\n",
       "      <td>1</td>\n",
       "      <td>вдовец / вдова</td>\n",
       "      <td>2</td>\n",
       "      <td>F</td>\n",
       "      <td>пенсионер</td>\n",
       "      <td>0</td>\n",
       "      <td>56823.777243</td>\n",
       "      <td>на покупку подержанного автомобиля</td>\n",
       "    </tr>\n",
       "    <tr>\n",
       "      <th>19</th>\n",
       "      <td>0</td>\n",
       "      <td>-10038.818549</td>\n",
       "      <td>48</td>\n",
       "      <td>СРЕДНЕЕ</td>\n",
       "      <td>1</td>\n",
       "      <td>в разводе</td>\n",
       "      <td>3</td>\n",
       "      <td>F</td>\n",
       "      <td>сотрудник</td>\n",
       "      <td>0</td>\n",
       "      <td>242831.107982</td>\n",
       "      <td>на покупку своего автомобиля</td>\n",
       "    </tr>\n",
       "  </tbody>\n",
       "</table>\n",
       "</div>"
      ],
      "text/plain": [
       "    children  days_employed  dob_years            education  education_id  \\\n",
       "0          1   -8437.673028         42               высшее             0   \n",
       "1          1   -4024.803754         36              среднее             1   \n",
       "2          0   -5623.422610         33              Среднее             1   \n",
       "3          3   -4124.747207         32              среднее             1   \n",
       "4          0  340266.072047         53              среднее             1   \n",
       "5          0    -926.185831         27               высшее             0   \n",
       "6          0   -2879.202052         43               высшее             0   \n",
       "7          0    -152.779569         50              СРЕДНЕЕ             1   \n",
       "8          2   -6929.865299         35               ВЫСШЕЕ             0   \n",
       "9          0   -2188.756445         41              среднее             1   \n",
       "10         2   -4171.483647         36               высшее             0   \n",
       "11         0    -792.701887         40              среднее             1   \n",
       "12         0            NaN         65              среднее             1   \n",
       "13         0   -1846.641941         54  неоконченное высшее             2   \n",
       "14         0   -1844.956182         56               высшее             0   \n",
       "15         1    -972.364419         26              среднее             1   \n",
       "16         0   -1719.934226         35              среднее             1   \n",
       "17         0   -2369.999720         33               высшее             0   \n",
       "18         0  400281.136913         53              среднее             1   \n",
       "19         0  -10038.818549         48              СРЕДНЕЕ             1   \n",
       "\n",
       "       family_status  family_status_id gender income_type  debt  \\\n",
       "0    женат / замужем                 0      F   сотрудник     0   \n",
       "1    женат / замужем                 0      F   сотрудник     0   \n",
       "2    женат / замужем                 0      M   сотрудник     0   \n",
       "3    женат / замужем                 0      M   сотрудник     0   \n",
       "4   гражданский брак                 1      F   пенсионер     0   \n",
       "5   гражданский брак                 1      M   компаньон     0   \n",
       "6    женат / замужем                 0      F   компаньон     0   \n",
       "7    женат / замужем                 0      M   сотрудник     0   \n",
       "8   гражданский брак                 1      F   сотрудник     0   \n",
       "9    женат / замужем                 0      M   сотрудник     0   \n",
       "10   женат / замужем                 0      M   компаньон     0   \n",
       "11   женат / замужем                 0      F   сотрудник     0   \n",
       "12  гражданский брак                 1      M   пенсионер     0   \n",
       "13   женат / замужем                 0      F   сотрудник     0   \n",
       "14  гражданский брак                 1      F   компаньон     1   \n",
       "15   женат / замужем                 0      F   сотрудник     0   \n",
       "16   женат / замужем                 0      F   сотрудник     0   \n",
       "17  гражданский брак                 1      M   сотрудник     0   \n",
       "18    вдовец / вдова                 2      F   пенсионер     0   \n",
       "19         в разводе                 3      F   сотрудник     0   \n",
       "\n",
       "     total_income                                 purpose  \n",
       "0   253875.639453                           покупка жилья  \n",
       "1   112080.014102                 приобретение автомобиля  \n",
       "2   145885.952297                           покупка жилья  \n",
       "3   267628.550329              дополнительное образование  \n",
       "4   158616.077870                         сыграть свадьбу  \n",
       "5   255763.565419                           покупка жилья  \n",
       "6   240525.971920                       операции с жильем  \n",
       "7   135823.934197                             образование  \n",
       "8    95856.832424                   на проведение свадьбы  \n",
       "9   144425.938277                 покупка жилья для семьи  \n",
       "10  113943.491460                    покупка недвижимости  \n",
       "11   77069.234271       покупка коммерческой недвижимости  \n",
       "12            NaN                         сыграть свадьбу  \n",
       "13  130458.228857                 приобретение автомобиля  \n",
       "14  165127.911772              покупка жилой недвижимости  \n",
       "15  116820.904450  строительство собственной недвижимости  \n",
       "16  289202.704229                            недвижимость  \n",
       "17   90410.586745              строительство недвижимости  \n",
       "18   56823.777243      на покупку подержанного автомобиля  \n",
       "19  242831.107982            на покупку своего автомобиля  "
      ]
     },
     "execution_count": 2,
     "metadata": {},
     "output_type": "execute_result"
    }
   ],
   "source": [
    "data.head(20)"
   ]
  },
  {
   "cell_type": "markdown",
   "id": "4faa55be",
   "metadata": {
    "deletable": false,
    "editable": false,
    "id": "1c12e233"
   },
   "source": [
    "**Задание 3. Выведите основную информацию о датафрейме с помощью метода `info()`.**"
   ]
  },
  {
   "cell_type": "code",
   "execution_count": 3,
   "id": "642ff11e",
   "metadata": {
    "deletable": false,
    "id": "2b757bca",
    "outputId": "15376089-8dad-46c9-b520-c05248d43158"
   },
   "outputs": [
    {
     "name": "stdout",
     "output_type": "stream",
     "text": [
      "<class 'pandas.core.frame.DataFrame'>\n",
      "RangeIndex: 21525 entries, 0 to 21524\n",
      "Data columns (total 12 columns):\n",
      " #   Column            Non-Null Count  Dtype  \n",
      "---  ------            --------------  -----  \n",
      " 0   children          21525 non-null  int64  \n",
      " 1   days_employed     19351 non-null  float64\n",
      " 2   dob_years         21525 non-null  int64  \n",
      " 3   education         21525 non-null  object \n",
      " 4   education_id      21525 non-null  int64  \n",
      " 5   family_status     21525 non-null  object \n",
      " 6   family_status_id  21525 non-null  int64  \n",
      " 7   gender            21525 non-null  object \n",
      " 8   income_type       21525 non-null  object \n",
      " 9   debt              21525 non-null  int64  \n",
      " 10  total_income      19351 non-null  float64\n",
      " 11  purpose           21525 non-null  object \n",
      "dtypes: float64(2), int64(5), object(5)\n",
      "memory usage: 2.0+ MB\n"
     ]
    }
   ],
   "source": [
    "data.info()"
   ]
  },
  {
   "cell_type": "markdown",
   "id": "87e792c4",
   "metadata": {
    "deletable": false,
    "editable": false,
    "id": "333ec665"
   },
   "source": [
    "## Предобработка данных"
   ]
  },
  {
   "cell_type": "markdown",
   "id": "c1894b56",
   "metadata": {
    "deletable": false,
    "editable": false,
    "id": "02d92d53"
   },
   "source": [
    "### Удаление пропусков"
   ]
  },
  {
   "cell_type": "markdown",
   "id": "595d1670",
   "metadata": {
    "deletable": false,
    "editable": false,
    "id": "cd84967c"
   },
   "source": [
    "**Задание 4. Выведите количество пропущенных значений для каждого столбца. Используйте комбинацию двух методов.**"
   ]
  },
  {
   "cell_type": "code",
   "execution_count": 4,
   "id": "b3d602e2",
   "metadata": {
    "deletable": false,
    "id": "7f9b2309",
    "outputId": "81f4d817-781c-465c-ed15-91ce4446810d"
   },
   "outputs": [
    {
     "data": {
      "text/plain": [
       "children               0\n",
       "days_employed       2174\n",
       "dob_years              0\n",
       "education              0\n",
       "education_id           0\n",
       "family_status          0\n",
       "family_status_id       0\n",
       "gender                 0\n",
       "income_type            0\n",
       "debt                   0\n",
       "total_income        2174\n",
       "purpose                0\n",
       "dtype: int64"
      ]
     },
     "execution_count": 4,
     "metadata": {},
     "output_type": "execute_result"
    }
   ],
   "source": [
    "data.isna().sum()"
   ]
  },
  {
   "cell_type": "markdown",
   "id": "236850a3",
   "metadata": {
    "deletable": false,
    "editable": false,
    "id": "db86e27b"
   },
   "source": [
    "**Задание 5. В двух столбцах есть пропущенные значения. Один из них — `days_employed`. Пропуски в этом столбце вы обработаете на следующем этапе. Другой столбец с пропущенными значениями — `total_income` — хранит данные о доходах. На сумму дохода сильнее всего влияет тип занятости, поэтому заполнить пропуски в этом столбце нужно медианным значением по каждому типу из столбца `income_type`. Например, у человека с типом занятости `сотрудник` пропуск в столбце `total_income` должен быть заполнен медианным доходом среди всех записей с тем же типом.**"
   ]
  },
  {
   "cell_type": "code",
   "execution_count": 5,
   "id": "454cdceb",
   "metadata": {
    "deletable": false,
    "id": "42006a93"
   },
   "outputs": [],
   "source": [
    "for t in data['income_type'].unique():\n",
    "    data.loc[(data['income_type'] == t) & (data['total_income'].isna()), 'total_income'] = \\\n",
    "    data.loc[(data['income_type'] == t), 'total_income'].median()"
   ]
  },
  {
   "cell_type": "markdown",
   "id": "5f7ee5a3",
   "metadata": {
    "deletable": false,
    "editable": false,
    "id": "89da5ece"
   },
   "source": [
    "### Обработка аномальных значений"
   ]
  },
  {
   "cell_type": "markdown",
   "id": "9abb6cc9",
   "metadata": {
    "deletable": false,
    "editable": false,
    "id": "57964554"
   },
   "source": [
    "**Задание 6. В данных могут встречаться артефакты (аномалии) — значения, которые не отражают действительность и появились по какой-то ошибке. таким артефактом будет отрицательное количество дней трудового стажа в столбце `days_employed`. Для реальных данных это нормально. Обработайте значения в этом столбце: замените все отрицательные значения положительными с помощью метода `abs()`.**"
   ]
  },
  {
   "cell_type": "code",
   "execution_count": 6,
   "id": "cc6b5c1a",
   "metadata": {
    "deletable": false,
    "id": "f6f055bf"
   },
   "outputs": [],
   "source": [
    "data['days_employed'] = data['days_employed'].abs()"
   ]
  },
  {
   "cell_type": "markdown",
   "id": "b8f3cbcd",
   "metadata": {
    "deletable": false,
    "editable": false,
    "id": "6107dd2f"
   },
   "source": [
    "**Задание 7. Для каждого типа занятости выведите медианное значение трудового стажа `days_employed` в днях.**"
   ]
  },
  {
   "cell_type": "code",
   "execution_count": 7,
   "id": "57390a0a",
   "metadata": {
    "deletable": false,
    "id": "85a5faf6",
    "outputId": "801ef80e-522b-4668-f34e-565af7432bcf"
   },
   "outputs": [
    {
     "data": {
      "text/plain": [
       "income_type\n",
       "безработный        366413.652744\n",
       "в декрете            3296.759962\n",
       "госслужащий          2689.368353\n",
       "компаньон            1547.382223\n",
       "пенсионер          365213.306266\n",
       "предприниматель       520.848083\n",
       "сотрудник            1574.202821\n",
       "студент               578.751554\n",
       "Name: days_employed, dtype: float64"
      ]
     },
     "execution_count": 7,
     "metadata": {},
     "output_type": "execute_result"
    }
   ],
   "source": [
    "data.groupby('income_type')['days_employed'].agg('median')"
   ]
  },
  {
   "cell_type": "markdown",
   "id": "69fba069",
   "metadata": {
    "deletable": false,
    "editable": false,
    "id": "38d1a030"
   },
   "source": [
    "У двух типов (безработные и пенсионеры) получатся аномально большие значения. Исправить такие значения сложно, поэтому оставьте их как есть. Тем более этот столбец не понадобится вам для исследования."
   ]
  },
  {
   "cell_type": "markdown",
   "id": "ee8a71a3",
   "metadata": {
    "deletable": false,
    "editable": false,
    "id": "d8a9f147"
   },
   "source": [
    "**Задание 8. Выведите перечень уникальных значений столбца `children`.**"
   ]
  },
  {
   "cell_type": "code",
   "execution_count": 8,
   "id": "a651bec3",
   "metadata": {
    "deletable": false,
    "id": "ef5056eb",
    "outputId": "6975b15c-7f95-4697-d16d-a0c79b657b03"
   },
   "outputs": [
    {
     "data": {
      "text/plain": [
       "array([ 1,  0,  3,  2, -1,  4, 20,  5])"
      ]
     },
     "execution_count": 8,
     "metadata": {},
     "output_type": "execute_result"
    }
   ],
   "source": [
    "data['children'].unique()"
   ]
  },
  {
   "cell_type": "markdown",
   "id": "325a7846",
   "metadata": {
    "deletable": false,
    "editable": false,
    "id": "40b9ebf2"
   },
   "source": [
    "**Задание 9. В столбце `children` есть два аномальных значения. Удалите строки, в которых встречаются такие аномальные значения из датафрейма `data`.**"
   ]
  },
  {
   "cell_type": "code",
   "execution_count": 9,
   "id": "2502411f",
   "metadata": {
    "deletable": false,
    "id": "3ff9801d"
   },
   "outputs": [],
   "source": [
    "data = data[(data['children'] != -1) & (data['children'] != 20)]"
   ]
  },
  {
   "cell_type": "markdown",
   "id": "5043a443",
   "metadata": {
    "deletable": false,
    "editable": false,
    "id": "bbc4d0ce"
   },
   "source": [
    "**Задание 10. Ещё раз выведите перечень уникальных значений столбца `children`, чтобы убедиться, что артефакты удалены.**"
   ]
  },
  {
   "cell_type": "code",
   "execution_count": 10,
   "id": "05dae34c",
   "metadata": {
    "deletable": false,
    "id": "ad4fa8b7",
    "outputId": "b2097101-d49d-44d9-901b-32a65c9463d1"
   },
   "outputs": [
    {
     "data": {
      "text/plain": [
       "array([1, 0, 3, 2, 4, 5])"
      ]
     },
     "execution_count": 10,
     "metadata": {},
     "output_type": "execute_result"
    }
   ],
   "source": [
    "data['children'].unique()"
   ]
  },
  {
   "cell_type": "markdown",
   "id": "16238916",
   "metadata": {
    "deletable": false,
    "editable": false,
    "id": "75440b63"
   },
   "source": [
    "### Удаление пропусков (продолжение)"
   ]
  },
  {
   "cell_type": "markdown",
   "id": "aadd3a81",
   "metadata": {
    "deletable": false,
    "editable": false,
    "id": "f4ea573f"
   },
   "source": [
    "**Задание 11. Заполните пропуски в столбце `days_employed` медианными значениями по каждого типа занятости `income_type`.**"
   ]
  },
  {
   "cell_type": "code",
   "execution_count": 11,
   "id": "8c532f87",
   "metadata": {
    "deletable": false,
    "id": "af6b1a7e"
   },
   "outputs": [],
   "source": [
    "for t in data['income_type'].unique():\n",
    "    data.loc[(data['income_type'] == t) & (data['days_employed'].isna()), 'days_employed'] = \\\n",
    "    data.loc[(data['income_type'] == t), 'days_employed'].median()"
   ]
  },
  {
   "cell_type": "markdown",
   "id": "f02ea2c1",
   "metadata": {
    "deletable": false,
    "editable": false,
    "id": "2753f40d"
   },
   "source": [
    "**Задание 12. Убедитесь, что все пропуски заполнены. Проверьте себя и ещё раз выведите количество пропущенных значений для каждого столбца с помощью двух методов.**"
   ]
  },
  {
   "cell_type": "code",
   "execution_count": 12,
   "id": "d94d35ee",
   "metadata": {
    "deletable": false,
    "id": "55f78bc2",
    "outputId": "8da1e4e1-358e-4e87-98c9-f261bce0a7b2"
   },
   "outputs": [
    {
     "data": {
      "text/plain": [
       "children            0\n",
       "days_employed       0\n",
       "dob_years           0\n",
       "education           0\n",
       "education_id        0\n",
       "family_status       0\n",
       "family_status_id    0\n",
       "gender              0\n",
       "income_type         0\n",
       "debt                0\n",
       "total_income        0\n",
       "purpose             0\n",
       "dtype: int64"
      ]
     },
     "execution_count": 12,
     "metadata": {},
     "output_type": "execute_result"
    }
   ],
   "source": [
    "data.isna().sum()"
   ]
  },
  {
   "cell_type": "markdown",
   "id": "589b9c43",
   "metadata": {
    "deletable": false,
    "editable": false,
    "id": "ddc81e43"
   },
   "source": [
    "### Изменение типов данных"
   ]
  },
  {
   "cell_type": "markdown",
   "id": "d051600a",
   "metadata": {
    "deletable": false,
    "editable": false,
    "id": "42d19d24"
   },
   "source": [
    "**Задание 13. Замените вещественный тип данных в столбце `total_income` на целочисленный с помощью метода `astype()`.**"
   ]
  },
  {
   "cell_type": "code",
   "execution_count": 13,
   "id": "470e935a",
   "metadata": {
    "deletable": false,
    "id": "920b65ad"
   },
   "outputs": [],
   "source": [
    "data['total_income'] = data['total_income'].astype(int)"
   ]
  },
  {
   "cell_type": "markdown",
   "id": "b2447b3a",
   "metadata": {
    "deletable": false,
    "editable": false,
    "id": "80c420ba"
   },
   "source": [
    "### Обработка дубликатов"
   ]
  },
  {
   "cell_type": "markdown",
   "id": "2c6f92f0",
   "metadata": {
    "deletable": false,
    "editable": false
   },
   "source": [
    "**Задание 14. Обработайте неявные дубликаты в столбце `education`. В этом столбце есть одни и те же значения, но записанные по-разному: с использованием заглавных и строчных букв. Приведите их к нижнему регистру. Проверьте остальные столбцы.**"
   ]
  },
  {
   "cell_type": "code",
   "execution_count": 14,
   "id": "c8e56b05",
   "metadata": {
    "deletable": false
   },
   "outputs": [],
   "source": [
    "data['education'] = data['education'].str.lower()"
   ]
  },
  {
   "cell_type": "markdown",
   "id": "1768ec1c",
   "metadata": {
    "deletable": false,
    "editable": false,
    "id": "dc587695"
   },
   "source": [
    "**Задание 15. Выведите на экран количество строк-дубликатов в данных. Если такие строки присутствуют, удалите их.**"
   ]
  },
  {
   "cell_type": "code",
   "execution_count": 15,
   "id": "4eb923a1",
   "metadata": {
    "deletable": false,
    "id": "3ee445e4",
    "outputId": "9684deba-1934-42d1-99e1-cda61740f822"
   },
   "outputs": [
    {
     "data": {
      "text/plain": [
       "71"
      ]
     },
     "execution_count": 15,
     "metadata": {},
     "output_type": "execute_result"
    }
   ],
   "source": [
    "data.duplicated().sum()"
   ]
  },
  {
   "cell_type": "code",
   "execution_count": 16,
   "id": "397029e6",
   "metadata": {
    "deletable": false,
    "id": "8575fe05"
   },
   "outputs": [],
   "source": [
    "data = data.drop_duplicates()"
   ]
  },
  {
   "cell_type": "markdown",
   "id": "6dab13d3",
   "metadata": {
    "deletable": false,
    "editable": false,
    "id": "9904cf55"
   },
   "source": [
    "### Категоризация данных"
   ]
  },
  {
   "cell_type": "markdown",
   "id": "a094269d",
   "metadata": {
    "deletable": false,
    "editable": false,
    "id": "72fcc8a2"
   },
   "source": [
    "**Задание 16. На основании диапазонов, указанных ниже, создайте в датафрейме `data` столбец `total_income_category` с категориями:**\n",
    "\n",
    "- 0–30000 — `'E'`;\n",
    "- 30001–50000 — `'D'`;\n",
    "- 50001–200000 — `'C'`;\n",
    "- 200001–1000000 — `'B'`;\n",
    "- 1000001 и выше — `'A'`.\n",
    "\n",
    "\n",
    "**Например, кредитополучателю с доходом 25000 нужно назначить категорию `'E'`, а клиенту, получающему 235000, — `'B'`. Используйте собственную функцию с именем `categorize_income()` и метод `apply()`.**"
   ]
  },
  {
   "cell_type": "code",
   "execution_count": 17,
   "id": "14123676",
   "metadata": {
    "deletable": false,
    "id": "e1771346"
   },
   "outputs": [],
   "source": [
    "def categorize_income(income):\n",
    "    try:\n",
    "        if 0 <= income <= 30000:\n",
    "            return 'E'\n",
    "        elif 30001 <= income <= 50000:\n",
    "            return 'D'\n",
    "        elif 50001 <= income <= 200000:\n",
    "            return 'C'\n",
    "        elif 200001 <= income <= 1000000:\n",
    "            return 'B'\n",
    "        elif income >= 1000001:\n",
    "            return 'A'\n",
    "    except:\n",
    "        pass"
   ]
  },
  {
   "cell_type": "code",
   "execution_count": 18,
   "id": "d06dd08e",
   "metadata": {
    "deletable": false,
    "id": "d5f3586d"
   },
   "outputs": [],
   "source": [
    "data['total_income_category'] = data['total_income'].apply(categorize_income)"
   ]
  },
  {
   "cell_type": "markdown",
   "id": "79785465",
   "metadata": {
    "deletable": false,
    "editable": false,
    "id": "dde49b5c"
   },
   "source": [
    "**Задание 17. Выведите на экран перечень уникальных целей взятия кредита из столбца `purpose`.**"
   ]
  },
  {
   "cell_type": "code",
   "execution_count": 19,
   "id": "0b5e7e7e",
   "metadata": {
    "deletable": false,
    "id": "f67ce9b3",
    "outputId": "673c12d9-7d7e-4ae0-9812-c622c89dd244"
   },
   "outputs": [
    {
     "data": {
      "text/plain": [
       "array(['покупка жилья', 'приобретение автомобиля',\n",
       "       'дополнительное образование', 'сыграть свадьбу',\n",
       "       'операции с жильем', 'образование', 'на проведение свадьбы',\n",
       "       'покупка жилья для семьи', 'покупка недвижимости',\n",
       "       'покупка коммерческой недвижимости', 'покупка жилой недвижимости',\n",
       "       'строительство собственной недвижимости', 'недвижимость',\n",
       "       'строительство недвижимости', 'на покупку подержанного автомобиля',\n",
       "       'на покупку своего автомобиля',\n",
       "       'операции с коммерческой недвижимостью',\n",
       "       'строительство жилой недвижимости', 'жилье',\n",
       "       'операции со своей недвижимостью', 'автомобили',\n",
       "       'заняться образованием', 'сделка с подержанным автомобилем',\n",
       "       'получение образования', 'автомобиль', 'свадьба',\n",
       "       'получение дополнительного образования', 'покупка своего жилья',\n",
       "       'операции с недвижимостью', 'получение высшего образования',\n",
       "       'свой автомобиль', 'сделка с автомобилем',\n",
       "       'профильное образование', 'высшее образование',\n",
       "       'покупка жилья для сдачи', 'на покупку автомобиля', 'ремонт жилью',\n",
       "       'заняться высшим образованием'], dtype=object)"
      ]
     },
     "execution_count": 19,
     "metadata": {},
     "output_type": "execute_result"
    }
   ],
   "source": [
    "data['purpose'].unique()"
   ]
  },
  {
   "cell_type": "markdown",
   "id": "eab7cc64",
   "metadata": {
    "deletable": false,
    "editable": false,
    "id": "85d0aef0"
   },
   "source": [
    "**Задание 18. Создайте функцию, которая на основании данных из столбца `purpose` сформирует новый столбец `purpose_category`, в который войдут следующие категории:**\n",
    "\n",
    "- `'операции с автомобилем'`,\n",
    "- `'операции с недвижимостью'`,\n",
    "- `'проведение свадьбы'`,\n",
    "- `'получение образования'`.\n",
    "\n",
    "**Например, если в столбце `purpose` находится подстрока `'на покупку автомобиля'`, то в столбце `purpose_category` должна появиться строка `'операции с автомобилем'`.**\n",
    "\n",
    "**Используйте собственную функцию с именем `categorize_purpose()` и метод `apply()`. Изучите данные в столбце `purpose` и определите, какие подстроки помогут вам правильно определить категорию.**"
   ]
  },
  {
   "cell_type": "code",
   "execution_count": 20,
   "id": "cfa4d125",
   "metadata": {
    "deletable": false,
    "id": "e149fab4"
   },
   "outputs": [],
   "source": [
    "def categorize_purpose(row):\n",
    "    try:\n",
    "        if 'автом' in row:\n",
    "            return 'операции с автомобилем'\n",
    "        elif 'жил' in row or 'недвиж' in row:\n",
    "            return 'операции с недвижимостью'\n",
    "        elif 'свад' in row:\n",
    "            return 'проведение свадьбы'\n",
    "        elif 'образов' in row:\n",
    "            return 'получение образования'\n",
    "    except:\n",
    "        return 'нет категории'"
   ]
  },
  {
   "cell_type": "code",
   "execution_count": 21,
   "id": "38426a9c",
   "metadata": {
    "deletable": false,
    "id": "bf36e69b"
   },
   "outputs": [],
   "source": [
    "data['purpose_category'] = data['purpose'].apply(categorize_purpose)"
   ]
  },
  {
   "cell_type": "markdown",
   "id": "4ca56ccd",
   "metadata": {},
   "source": [
    "<div class=\"alert alert-success\">\n",
    "<b>Комментарий ревьюера - все отлично! ✅ </b>\n",
    "\n",
    "Да, авторское решение и вправду очень изящно! Давай посмотрим что получилось у тебя!\n",
    "</div>"
   ]
  },
  {
   "cell_type": "markdown",
   "id": "eb0b0548",
   "metadata": {
    "deletable": false,
    "editable": false,
    "id": "09b242bf"
   },
   "source": [
    "### Шаг 3. Исследуйте данные и ответьте на вопросы"
   ]
  },
  {
   "cell_type": "markdown",
   "id": "af95366d",
   "metadata": {
    "deletable": false,
    "editable": false,
    "id": "c5d66278"
   },
   "source": [
    "#### 3.1 Есть ли зависимость между количеством детей и возвратом кредита в срок?"
   ]
  },
  {
   "cell_type": "code",
   "execution_count": 22,
   "id": "2d7b1bc6",
   "metadata": {
    "deletable": false,
    "id": "2cacfc4a"
   },
   "outputs": [
    {
     "data": {
      "text/html": [
       "<div>\n",
       "<style scoped>\n",
       "    .dataframe tbody tr th:only-of-type {\n",
       "        vertical-align: middle;\n",
       "    }\n",
       "\n",
       "    .dataframe tbody tr th {\n",
       "        vertical-align: top;\n",
       "    }\n",
       "\n",
       "    .dataframe thead th {\n",
       "        text-align: right;\n",
       "    }\n",
       "</style>\n",
       "<table border=\"1\" class=\"dataframe\">\n",
       "  <thead>\n",
       "    <tr style=\"text-align: right;\">\n",
       "      <th></th>\n",
       "      <th>debt</th>\n",
       "      <th>count</th>\n",
       "      <th>rate</th>\n",
       "    </tr>\n",
       "    <tr>\n",
       "      <th>children</th>\n",
       "      <th></th>\n",
       "      <th></th>\n",
       "      <th></th>\n",
       "    </tr>\n",
       "  </thead>\n",
       "  <tbody>\n",
       "    <tr>\n",
       "      <th>5</th>\n",
       "      <td>0</td>\n",
       "      <td>9</td>\n",
       "      <td>0.000000</td>\n",
       "    </tr>\n",
       "    <tr>\n",
       "      <th>0</th>\n",
       "      <td>1063</td>\n",
       "      <td>14091</td>\n",
       "      <td>7.543822</td>\n",
       "    </tr>\n",
       "    <tr>\n",
       "      <th>3</th>\n",
       "      <td>27</td>\n",
       "      <td>330</td>\n",
       "      <td>8.181818</td>\n",
       "    </tr>\n",
       "    <tr>\n",
       "      <th>1</th>\n",
       "      <td>444</td>\n",
       "      <td>4808</td>\n",
       "      <td>9.234609</td>\n",
       "    </tr>\n",
       "    <tr>\n",
       "      <th>2</th>\n",
       "      <td>194</td>\n",
       "      <td>2052</td>\n",
       "      <td>9.454191</td>\n",
       "    </tr>\n",
       "    <tr>\n",
       "      <th>4</th>\n",
       "      <td>4</td>\n",
       "      <td>41</td>\n",
       "      <td>9.756098</td>\n",
       "    </tr>\n",
       "  </tbody>\n",
       "</table>\n",
       "</div>"
      ],
      "text/plain": [
       "          debt  count      rate\n",
       "children                       \n",
       "5            0      9  0.000000\n",
       "0         1063  14091  7.543822\n",
       "3           27    330  8.181818\n",
       "1          444   4808  9.234609\n",
       "2          194   2052  9.454191\n",
       "4            4     41  9.756098"
      ]
     },
     "execution_count": 22,
     "metadata": {},
     "output_type": "execute_result"
    }
   ],
   "source": [
    "\n",
    "def rate(row,param):\n",
    "    data = row.groupby(param).agg({'debt':'sum'})\n",
    "    data['count'] = row.groupby(param)['debt'].count()\n",
    "    data['rate'] = data['debt'] / data['count'] * 100\n",
    "    return data\n",
    "data_children = rate(data,'children')\n",
    "data_children.sort_values(by='rate',ascending=True)"
   ]
  },
  {
   "cell_type": "code",
   "execution_count": 23,
   "id": "f4e92d66",
   "metadata": {},
   "outputs": [
    {
     "data": {
      "text/html": [
       "<div>\n",
       "<style scoped>\n",
       "    .dataframe tbody tr th:only-of-type {\n",
       "        vertical-align: middle;\n",
       "    }\n",
       "\n",
       "    .dataframe tbody tr th {\n",
       "        vertical-align: top;\n",
       "    }\n",
       "\n",
       "    .dataframe thead th {\n",
       "        text-align: right;\n",
       "    }\n",
       "</style>\n",
       "<table border=\"1\" class=\"dataframe\">\n",
       "  <thead>\n",
       "    <tr style=\"text-align: right;\">\n",
       "      <th></th>\n",
       "      <th>all_credits</th>\n",
       "      <th>all_debtors</th>\n",
       "      <th>share_debtors</th>\n",
       "    </tr>\n",
       "    <tr>\n",
       "      <th>children</th>\n",
       "      <th></th>\n",
       "      <th></th>\n",
       "      <th></th>\n",
       "    </tr>\n",
       "  </thead>\n",
       "  <tbody>\n",
       "    <tr>\n",
       "      <th>0</th>\n",
       "      <td>14091</td>\n",
       "      <td>1063</td>\n",
       "      <td>0.075438</td>\n",
       "    </tr>\n",
       "    <tr>\n",
       "      <th>1</th>\n",
       "      <td>4808</td>\n",
       "      <td>444</td>\n",
       "      <td>0.092346</td>\n",
       "    </tr>\n",
       "    <tr>\n",
       "      <th>2</th>\n",
       "      <td>2052</td>\n",
       "      <td>194</td>\n",
       "      <td>0.094542</td>\n",
       "    </tr>\n",
       "    <tr>\n",
       "      <th>3</th>\n",
       "      <td>330</td>\n",
       "      <td>27</td>\n",
       "      <td>0.081818</td>\n",
       "    </tr>\n",
       "    <tr>\n",
       "      <th>4</th>\n",
       "      <td>41</td>\n",
       "      <td>4</td>\n",
       "      <td>0.097561</td>\n",
       "    </tr>\n",
       "    <tr>\n",
       "      <th>5</th>\n",
       "      <td>9</td>\n",
       "      <td>0</td>\n",
       "      <td>0.000000</td>\n",
       "    </tr>\n",
       "  </tbody>\n",
       "</table>\n",
       "</div>"
      ],
      "text/plain": [
       "          all_credits  all_debtors  share_debtors\n",
       "children                                         \n",
       "0               14091         1063       0.075438\n",
       "1                4808          444       0.092346\n",
       "2                2052          194       0.094542\n",
       "3                 330           27       0.081818\n",
       "4                  41            4       0.097561\n",
       "5                   9            0       0.000000"
      ]
     },
     "execution_count": 23,
     "metadata": {},
     "output_type": "execute_result"
    }
   ],
   "source": [
    "def rate_pivot(variable):\n",
    "    data_pivot = data.pivot_table(index=variable, values='debt', aggfunc=['count', 'sum', 'mean'])\n",
    "    data_pivot.columns = ['all_credits', 'all_debtors','share_debtors']\n",
    "    return data_pivot\n",
    "rate_pivot('children')"
   ]
  },
  {
   "cell_type": "markdown",
   "id": "09e0c877",
   "metadata": {},
   "source": [
    "<div class=\"alert alert-success\">\n",
    "<b>Комментарий 2 ревьюера - все отлично! ✅ </b>\n",
    "\n",
    "Прекрасно! Ты большой молодец - быстро и качественно все сделала 🤗\n",
    "</div>"
   ]
  },
  {
   "cell_type": "markdown",
   "id": "030491fc",
   "metadata": {},
   "source": [
    "<div class=\"alert alert-success\">\n",
    "<b>Комментарий ревьюера - все отлично! ✅ </b>\n",
    "\n",
    "Во-первых хочу сказать что ты большой молодец! Все сделано правильно и аккуратно. Просто хотел тебе написать об этом!\n",
    "</div>"
   ]
  },
  {
   "cell_type": "markdown",
   "id": "ffe8d3f7",
   "metadata": {},
   "source": [
    "<div class=\"alert alert-block alert-danger\">\n",
    "<b>Комментарий ревьюера - на доработку ❌</b>   \n",
    "\n",
    "Твой код дает правильный результат. Но наша задача еще и научиться быстрым и эффективным алгоритмам, поэтому:\n",
    "1. Сводные таблицы - главный инструмент датасаентиста. Он делается двумя способами `.groupby` или `.pivot_table`. Первый - более популярен, но не все можно через него сделать. Их основное отличие в том, что при множественной группировке (по двум и более целевым переменным - например дети и образование...) groupby делает сводную таблицу вниз по строкам. А вот pivot_table делает его вширь, по столбцам. Поэтому эти инструменты разные и например для визуализации hitmap нам  в будущем нужен будет именно pivot_table. Поэтому давай попробуем сделать в виде pivot_table. \n",
    "    \n",
    "1. Давай разберемся с данными. Это проще всего сделать одной строкой с помощью чуть более сложной сводной таблицы. Как ты правильно сделала 'Всего кредитополучателей' - это `count`. 'Всего должников' - это `sum`. А вот долю должников можно подсчитать через `mean` (потому что у нас данные 0 или 1 в поле `dept`). Таким образом в `data.pivot_table` агрегация будет иметь вид `aggfunc=['count', 'sum', 'mean']`.\n",
    "\n",
    "2. Спасибо за функцию, ведь мы 4 раза выполняем один и тот же алгоритм. Поэтому давай попробуем сделать функцию (назови ее как тебе больше нравится, только не системными названиями) на вход которой принимается одна переменная категория (например, `variable`). В `pivot_table` присвой `index=variable`. То есть мы будем в сводную таблицу передавать разные переменные и она будет строить нам разные сводные таблицы\n",
    "    \n",
    "Внутри три строки - первая это твой новый код со сводной таблицей из пункта 2 выше. Вторая - это переименование колонок тоже из твоего нового кода пункта 3, что был выше. Третья - вызов функции `display()` с переменной в скобках того имени, которое ты присваиваешь в первом пункте. Возвращать (то есть писать `return`) в конце функции не надо. Мы передаем в функцию переменную столбца датасета, а она нам рассчитывает и выводит на экран нужные данные\n",
    "\n",
    "При создании сводных таблиц получаются странные названия заголовков. Они на разных уровнях и в несколько строк иногда. Это называется мультииндексом и это особенность нашей програмной среды. Чтобы в дальнейшем работать с полученной таблицей (не в этом задании, но все же), обращаться к данным через названия столбцов необходимо в этой задаче просто переименовать полученные данные таким кодом data.columns = с значениями ['all_credits', 'all_debtors','share_debtors'] или (на будущее) выполнить такой код data.columns = ['_'.join(col).strip() for col in temp.columns.values]. Более подробно тут https://stackoverflow.com/questions/14507794/pandas-how-to-flatten-a-hierarchical-index-in-columns\n",
    "    \n",
    "3. А чтобы запустить твою функцию в следующей пустой ячейке напиши имя своей функции и в скобках передай ей аргумент имени колонки датасета `data` (это будет `'children'` или `'family_status'` и так далее)\n",
    "    \n",
    "Попробуй это сделать в новых ячейках чтобы сравнить полученные данные\n",
    " \n",
    "</div>"
   ]
  },
  {
   "cell_type": "markdown",
   "id": "beaa128b",
   "metadata": {
    "deletable": false,
    "id": "3a6b99ec"
   },
   "source": [
    "Вывод: Да, люди без детей с большей вероятностью вернут кредит, чем люди без детей (количество семей с 4 и 5 детьми несущественно для анализа)."
   ]
  },
  {
   "cell_type": "markdown",
   "id": "efb02253",
   "metadata": {},
   "source": [
    "<div class=\"alert alert-success\">\n",
    "<b>Комментарий ревьюера - все отлично! ✅ </b>\n",
    "\n",
    "Супер! Все верно с выводами по бездетным и по многодетным!\n",
    "</div>"
   ]
  },
  {
   "cell_type": "markdown",
   "id": "d86ee96b",
   "metadata": {
    "deletable": false,
    "editable": false,
    "id": "97be82ca"
   },
   "source": [
    "#### 3.2 Есть ли зависимость между семейным положением и возвратом кредита в срок?"
   ]
  },
  {
   "cell_type": "code",
   "execution_count": 24,
   "id": "a323bcff",
   "metadata": {
    "deletable": false,
    "id": "dc3f7ee8"
   },
   "outputs": [
    {
     "data": {
      "text/html": [
       "<div>\n",
       "<style scoped>\n",
       "    .dataframe tbody tr th:only-of-type {\n",
       "        vertical-align: middle;\n",
       "    }\n",
       "\n",
       "    .dataframe tbody tr th {\n",
       "        vertical-align: top;\n",
       "    }\n",
       "\n",
       "    .dataframe thead th {\n",
       "        text-align: right;\n",
       "    }\n",
       "</style>\n",
       "<table border=\"1\" class=\"dataframe\">\n",
       "  <thead>\n",
       "    <tr style=\"text-align: right;\">\n",
       "      <th></th>\n",
       "      <th>debt</th>\n",
       "      <th>count</th>\n",
       "      <th>rate</th>\n",
       "    </tr>\n",
       "    <tr>\n",
       "      <th>family_status</th>\n",
       "      <th></th>\n",
       "      <th></th>\n",
       "      <th></th>\n",
       "    </tr>\n",
       "  </thead>\n",
       "  <tbody>\n",
       "    <tr>\n",
       "      <th>вдовец / вдова</th>\n",
       "      <td>63</td>\n",
       "      <td>951</td>\n",
       "      <td>6.624606</td>\n",
       "    </tr>\n",
       "    <tr>\n",
       "      <th>в разводе</th>\n",
       "      <td>84</td>\n",
       "      <td>1189</td>\n",
       "      <td>7.064760</td>\n",
       "    </tr>\n",
       "    <tr>\n",
       "      <th>женат / замужем</th>\n",
       "      <td>927</td>\n",
       "      <td>12261</td>\n",
       "      <td>7.560558</td>\n",
       "    </tr>\n",
       "    <tr>\n",
       "      <th>гражданский брак</th>\n",
       "      <td>385</td>\n",
       "      <td>4134</td>\n",
       "      <td>9.313014</td>\n",
       "    </tr>\n",
       "    <tr>\n",
       "      <th>Не женат / не замужем</th>\n",
       "      <td>273</td>\n",
       "      <td>2796</td>\n",
       "      <td>9.763948</td>\n",
       "    </tr>\n",
       "  </tbody>\n",
       "</table>\n",
       "</div>"
      ],
      "text/plain": [
       "                       debt  count      rate\n",
       "family_status                               \n",
       "вдовец / вдова           63    951  6.624606\n",
       "в разводе                84   1189  7.064760\n",
       "женат / замужем         927  12261  7.560558\n",
       "гражданский брак        385   4134  9.313014\n",
       "Не женат / не замужем   273   2796  9.763948"
      ]
     },
     "execution_count": 24,
     "metadata": {},
     "output_type": "execute_result"
    }
   ],
   "source": [
    "data_family = rate(data,'family_status')\n",
    "data_family.sort_values(by='rate',ascending=True)"
   ]
  },
  {
   "cell_type": "code",
   "execution_count": 25,
   "id": "f06d7800",
   "metadata": {},
   "outputs": [
    {
     "data": {
      "text/html": [
       "<div>\n",
       "<style scoped>\n",
       "    .dataframe tbody tr th:only-of-type {\n",
       "        vertical-align: middle;\n",
       "    }\n",
       "\n",
       "    .dataframe tbody tr th {\n",
       "        vertical-align: top;\n",
       "    }\n",
       "\n",
       "    .dataframe thead th {\n",
       "        text-align: right;\n",
       "    }\n",
       "</style>\n",
       "<table border=\"1\" class=\"dataframe\">\n",
       "  <thead>\n",
       "    <tr style=\"text-align: right;\">\n",
       "      <th></th>\n",
       "      <th>all_credits</th>\n",
       "      <th>all_debtors</th>\n",
       "      <th>share_debtors</th>\n",
       "    </tr>\n",
       "    <tr>\n",
       "      <th>family_status</th>\n",
       "      <th></th>\n",
       "      <th></th>\n",
       "      <th></th>\n",
       "    </tr>\n",
       "  </thead>\n",
       "  <tbody>\n",
       "    <tr>\n",
       "      <th>Не женат / не замужем</th>\n",
       "      <td>2796</td>\n",
       "      <td>273</td>\n",
       "      <td>0.097639</td>\n",
       "    </tr>\n",
       "    <tr>\n",
       "      <th>в разводе</th>\n",
       "      <td>1189</td>\n",
       "      <td>84</td>\n",
       "      <td>0.070648</td>\n",
       "    </tr>\n",
       "    <tr>\n",
       "      <th>вдовец / вдова</th>\n",
       "      <td>951</td>\n",
       "      <td>63</td>\n",
       "      <td>0.066246</td>\n",
       "    </tr>\n",
       "    <tr>\n",
       "      <th>гражданский брак</th>\n",
       "      <td>4134</td>\n",
       "      <td>385</td>\n",
       "      <td>0.093130</td>\n",
       "    </tr>\n",
       "    <tr>\n",
       "      <th>женат / замужем</th>\n",
       "      <td>12261</td>\n",
       "      <td>927</td>\n",
       "      <td>0.075606</td>\n",
       "    </tr>\n",
       "  </tbody>\n",
       "</table>\n",
       "</div>"
      ],
      "text/plain": [
       "                       all_credits  all_debtors  share_debtors\n",
       "family_status                                                 \n",
       "Не женат / не замужем         2796          273       0.097639\n",
       "в разводе                     1189           84       0.070648\n",
       "вдовец / вдова                 951           63       0.066246\n",
       "гражданский брак              4134          385       0.093130\n",
       "женат / замужем              12261          927       0.075606"
      ]
     },
     "execution_count": 25,
     "metadata": {},
     "output_type": "execute_result"
    }
   ],
   "source": [
    "rate_pivot('family_status')"
   ]
  },
  {
   "cell_type": "markdown",
   "id": "b3db1d99",
   "metadata": {},
   "source": [
    "<div class=\"alert alert-success\">\n",
    "<b>Комментарий 2 ревьюера - все отлично! ✅ </b>\n",
    "\n",
    "Да, это именно то, что требуется!\n",
    "</div>"
   ]
  },
  {
   "cell_type": "markdown",
   "id": "1a33d1d4",
   "metadata": {},
   "source": [
    "<div class=\"alert alert-block alert-danger\">\n",
    "<b>Комментарий ревьюера - на доработку ❌</b>   \n",
    "\n",
    "Так, здесь очень хорошо, спасибо за расчеты, но давай вызовем тут твою функцию, о которой было написано выше\n",
    "\n",
    "</div>"
   ]
  },
  {
   "cell_type": "markdown",
   "id": "c489d3d7",
   "metadata": {
    "deletable": false,
    "id": "1cef7837"
   },
   "source": [
    "Вывод: Да, лучше всего выплачивают долги вдовцы/вдовы и люди в разводе. Хуже всего - люди без отношений. Вероятно, семейная жизнь вынуждает людей быть более дисциплинированными, а также должна быть корреляция между семейным положением и возрастом, возможно, возраст также оказывает влияние на способность расплачиваться по кредиту."
   ]
  },
  {
   "cell_type": "markdown",
   "id": "958eb460",
   "metadata": {},
   "source": [
    "<div class=\"alert alert-success\">\n",
    "<b>Комментарий ревьюера - все отлично! ✅ </b>\n",
    "\n",
    "Согласен с полученными выводами! Все именно так!\n",
    "</div>"
   ]
  },
  {
   "cell_type": "markdown",
   "id": "82af3eb7",
   "metadata": {
    "deletable": false,
    "editable": false,
    "id": "1e8b2fca"
   },
   "source": [
    "#### 3.3 Есть ли зависимость между уровнем дохода и возвратом кредита в срок?"
   ]
  },
  {
   "cell_type": "code",
   "execution_count": 26,
   "id": "890b2535",
   "metadata": {
    "deletable": false,
    "id": "cd7e3720"
   },
   "outputs": [
    {
     "data": {
      "text/html": [
       "<div>\n",
       "<style scoped>\n",
       "    .dataframe tbody tr th:only-of-type {\n",
       "        vertical-align: middle;\n",
       "    }\n",
       "\n",
       "    .dataframe tbody tr th {\n",
       "        vertical-align: top;\n",
       "    }\n",
       "\n",
       "    .dataframe thead th {\n",
       "        text-align: right;\n",
       "    }\n",
       "</style>\n",
       "<table border=\"1\" class=\"dataframe\">\n",
       "  <thead>\n",
       "    <tr style=\"text-align: right;\">\n",
       "      <th></th>\n",
       "      <th>debt</th>\n",
       "      <th>count</th>\n",
       "      <th>rate</th>\n",
       "    </tr>\n",
       "    <tr>\n",
       "      <th>total_income_category</th>\n",
       "      <th></th>\n",
       "      <th></th>\n",
       "      <th></th>\n",
       "    </tr>\n",
       "  </thead>\n",
       "  <tbody>\n",
       "    <tr>\n",
       "      <th>D</th>\n",
       "      <td>21</td>\n",
       "      <td>349</td>\n",
       "      <td>6.017192</td>\n",
       "    </tr>\n",
       "    <tr>\n",
       "      <th>B</th>\n",
       "      <td>354</td>\n",
       "      <td>5014</td>\n",
       "      <td>7.060231</td>\n",
       "    </tr>\n",
       "    <tr>\n",
       "      <th>A</th>\n",
       "      <td>2</td>\n",
       "      <td>25</td>\n",
       "      <td>8.000000</td>\n",
       "    </tr>\n",
       "    <tr>\n",
       "      <th>C</th>\n",
       "      <td>1353</td>\n",
       "      <td>15921</td>\n",
       "      <td>8.498210</td>\n",
       "    </tr>\n",
       "    <tr>\n",
       "      <th>E</th>\n",
       "      <td>2</td>\n",
       "      <td>22</td>\n",
       "      <td>9.090909</td>\n",
       "    </tr>\n",
       "  </tbody>\n",
       "</table>\n",
       "</div>"
      ],
      "text/plain": [
       "                       debt  count      rate\n",
       "total_income_category                       \n",
       "D                        21    349  6.017192\n",
       "B                       354   5014  7.060231\n",
       "A                         2     25  8.000000\n",
       "C                      1353  15921  8.498210\n",
       "E                         2     22  9.090909"
      ]
     },
     "execution_count": 26,
     "metadata": {},
     "output_type": "execute_result"
    }
   ],
   "source": [
    "data_income = rate(data,'total_income_category')\n",
    "data_income.sort_values(by='rate',ascending=True)"
   ]
  },
  {
   "cell_type": "code",
   "execution_count": 27,
   "id": "84aefec2",
   "metadata": {},
   "outputs": [
    {
     "data": {
      "text/html": [
       "<div>\n",
       "<style scoped>\n",
       "    .dataframe tbody tr th:only-of-type {\n",
       "        vertical-align: middle;\n",
       "    }\n",
       "\n",
       "    .dataframe tbody tr th {\n",
       "        vertical-align: top;\n",
       "    }\n",
       "\n",
       "    .dataframe thead th {\n",
       "        text-align: right;\n",
       "    }\n",
       "</style>\n",
       "<table border=\"1\" class=\"dataframe\">\n",
       "  <thead>\n",
       "    <tr style=\"text-align: right;\">\n",
       "      <th></th>\n",
       "      <th>all_credits</th>\n",
       "      <th>all_debtors</th>\n",
       "      <th>share_debtors</th>\n",
       "    </tr>\n",
       "    <tr>\n",
       "      <th>total_income_category</th>\n",
       "      <th></th>\n",
       "      <th></th>\n",
       "      <th></th>\n",
       "    </tr>\n",
       "  </thead>\n",
       "  <tbody>\n",
       "    <tr>\n",
       "      <th>A</th>\n",
       "      <td>25</td>\n",
       "      <td>2</td>\n",
       "      <td>0.080000</td>\n",
       "    </tr>\n",
       "    <tr>\n",
       "      <th>B</th>\n",
       "      <td>5014</td>\n",
       "      <td>354</td>\n",
       "      <td>0.070602</td>\n",
       "    </tr>\n",
       "    <tr>\n",
       "      <th>C</th>\n",
       "      <td>15921</td>\n",
       "      <td>1353</td>\n",
       "      <td>0.084982</td>\n",
       "    </tr>\n",
       "    <tr>\n",
       "      <th>D</th>\n",
       "      <td>349</td>\n",
       "      <td>21</td>\n",
       "      <td>0.060172</td>\n",
       "    </tr>\n",
       "    <tr>\n",
       "      <th>E</th>\n",
       "      <td>22</td>\n",
       "      <td>2</td>\n",
       "      <td>0.090909</td>\n",
       "    </tr>\n",
       "  </tbody>\n",
       "</table>\n",
       "</div>"
      ],
      "text/plain": [
       "                       all_credits  all_debtors  share_debtors\n",
       "total_income_category                                         \n",
       "A                               25            2       0.080000\n",
       "B                             5014          354       0.070602\n",
       "C                            15921         1353       0.084982\n",
       "D                              349           21       0.060172\n",
       "E                               22            2       0.090909"
      ]
     },
     "execution_count": 27,
     "metadata": {},
     "output_type": "execute_result"
    }
   ],
   "source": [
    "rate_pivot('total_income_category')"
   ]
  },
  {
   "cell_type": "markdown",
   "id": "e4ab5e33",
   "metadata": {},
   "source": [
    "<div class=\"alert alert-success\">\n",
    "<b>Комментарий 2 ревьюера - все отлично! ✅ </b>\n",
    "\n",
    "Супер!\n",
    "</div>"
   ]
  },
  {
   "cell_type": "markdown",
   "id": "7a74175a",
   "metadata": {},
   "source": [
    "<div class=\"alert alert-block alert-danger\">\n",
    "<b>Комментарий ревьюера - на доработку ❌</b>   \n",
    "\n",
    "И здесь все прекрасно! Просто давай добавим вызов твоей обновленной функции\n",
    "\n",
    "</div>"
   ]
  },
  {
   "cell_type": "markdown",
   "id": "b4faefd3",
   "metadata": {
    "deletable": false,
    "id": "e8593def"
   },
   "source": [
    "Вывод: Да, лучше всего расплачиваются по кредитам заемщики категории D. "
   ]
  },
  {
   "cell_type": "markdown",
   "id": "21803392",
   "metadata": {},
   "source": [
    "<div class=\"alert alert-success\">\n",
    "<b>Комментарий ревьюера - все отлично! ✅ </b>\n",
    "\n",
    "Отлично! Хотя видно что в разных категориях ситуация разная. Тут важно увидеть, что в категории наиболее состоятельных выводы делать некорректно, так как данных очень мало.\n",
    "</div>"
   ]
  },
  {
   "cell_type": "markdown",
   "id": "43409c8b",
   "metadata": {
    "deletable": false,
    "editable": false,
    "id": "99ecbd1f"
   },
   "source": [
    "#### 3.4 Как разные цели кредита влияют на его возврат в срок?"
   ]
  },
  {
   "cell_type": "code",
   "execution_count": 28,
   "id": "9e85f7b0",
   "metadata": {
    "deletable": false,
    "id": "2b687290"
   },
   "outputs": [
    {
     "data": {
      "text/html": [
       "<div>\n",
       "<style scoped>\n",
       "    .dataframe tbody tr th:only-of-type {\n",
       "        vertical-align: middle;\n",
       "    }\n",
       "\n",
       "    .dataframe tbody tr th {\n",
       "        vertical-align: top;\n",
       "    }\n",
       "\n",
       "    .dataframe thead th {\n",
       "        text-align: right;\n",
       "    }\n",
       "</style>\n",
       "<table border=\"1\" class=\"dataframe\">\n",
       "  <thead>\n",
       "    <tr style=\"text-align: right;\">\n",
       "      <th></th>\n",
       "      <th>debt</th>\n",
       "      <th>count</th>\n",
       "      <th>rate</th>\n",
       "    </tr>\n",
       "    <tr>\n",
       "      <th>purpose_category</th>\n",
       "      <th></th>\n",
       "      <th></th>\n",
       "      <th></th>\n",
       "    </tr>\n",
       "  </thead>\n",
       "  <tbody>\n",
       "    <tr>\n",
       "      <th>операции с недвижимостью</th>\n",
       "      <td>780</td>\n",
       "      <td>10751</td>\n",
       "      <td>7.255139</td>\n",
       "    </tr>\n",
       "    <tr>\n",
       "      <th>проведение свадьбы</th>\n",
       "      <td>183</td>\n",
       "      <td>2313</td>\n",
       "      <td>7.911803</td>\n",
       "    </tr>\n",
       "    <tr>\n",
       "      <th>получение образования</th>\n",
       "      <td>369</td>\n",
       "      <td>3988</td>\n",
       "      <td>9.252758</td>\n",
       "    </tr>\n",
       "    <tr>\n",
       "      <th>операции с автомобилем</th>\n",
       "      <td>400</td>\n",
       "      <td>4279</td>\n",
       "      <td>9.347978</td>\n",
       "    </tr>\n",
       "  </tbody>\n",
       "</table>\n",
       "</div>"
      ],
      "text/plain": [
       "                          debt  count      rate\n",
       "purpose_category                               \n",
       "операции с недвижимостью   780  10751  7.255139\n",
       "проведение свадьбы         183   2313  7.911803\n",
       "получение образования      369   3988  9.252758\n",
       "операции с автомобилем     400   4279  9.347978"
      ]
     },
     "execution_count": 28,
     "metadata": {},
     "output_type": "execute_result"
    }
   ],
   "source": [
    "data_purpose = rate(data,'purpose_category')\n",
    "data_purpose.sort_values(by='rate',ascending=True)"
   ]
  },
  {
   "cell_type": "code",
   "execution_count": 29,
   "id": "939ebda7",
   "metadata": {},
   "outputs": [
    {
     "data": {
      "text/html": [
       "<div>\n",
       "<style scoped>\n",
       "    .dataframe tbody tr th:only-of-type {\n",
       "        vertical-align: middle;\n",
       "    }\n",
       "\n",
       "    .dataframe tbody tr th {\n",
       "        vertical-align: top;\n",
       "    }\n",
       "\n",
       "    .dataframe thead th {\n",
       "        text-align: right;\n",
       "    }\n",
       "</style>\n",
       "<table border=\"1\" class=\"dataframe\">\n",
       "  <thead>\n",
       "    <tr style=\"text-align: right;\">\n",
       "      <th></th>\n",
       "      <th>all_credits</th>\n",
       "      <th>all_debtors</th>\n",
       "      <th>share_debtors</th>\n",
       "    </tr>\n",
       "    <tr>\n",
       "      <th>purpose_category</th>\n",
       "      <th></th>\n",
       "      <th></th>\n",
       "      <th></th>\n",
       "    </tr>\n",
       "  </thead>\n",
       "  <tbody>\n",
       "    <tr>\n",
       "      <th>операции с автомобилем</th>\n",
       "      <td>4279</td>\n",
       "      <td>400</td>\n",
       "      <td>0.093480</td>\n",
       "    </tr>\n",
       "    <tr>\n",
       "      <th>операции с недвижимостью</th>\n",
       "      <td>10751</td>\n",
       "      <td>780</td>\n",
       "      <td>0.072551</td>\n",
       "    </tr>\n",
       "    <tr>\n",
       "      <th>получение образования</th>\n",
       "      <td>3988</td>\n",
       "      <td>369</td>\n",
       "      <td>0.092528</td>\n",
       "    </tr>\n",
       "    <tr>\n",
       "      <th>проведение свадьбы</th>\n",
       "      <td>2313</td>\n",
       "      <td>183</td>\n",
       "      <td>0.079118</td>\n",
       "    </tr>\n",
       "  </tbody>\n",
       "</table>\n",
       "</div>"
      ],
      "text/plain": [
       "                          all_credits  all_debtors  share_debtors\n",
       "purpose_category                                                 \n",
       "операции с автомобилем           4279          400       0.093480\n",
       "операции с недвижимостью        10751          780       0.072551\n",
       "получение образования            3988          369       0.092528\n",
       "проведение свадьбы               2313          183       0.079118"
      ]
     },
     "execution_count": 29,
     "metadata": {},
     "output_type": "execute_result"
    }
   ],
   "source": [
    "rate_pivot('purpose_category')"
   ]
  },
  {
   "cell_type": "markdown",
   "id": "8b72b9a8",
   "metadata": {},
   "source": [
    "<div class=\"alert alert-success\">\n",
    "<b>Комментарий 2 ревьюера - все отлично! ✅ </b>\n",
    "\n",
    "Замечательно! Спасибо\n",
    "</div>"
   ]
  },
  {
   "cell_type": "markdown",
   "id": "57405392",
   "metadata": {},
   "source": [
    "<div class=\"alert alert-block alert-danger\">\n",
    "<b>Комментарий ревьюера - на доработку ❌</b>   \n",
    "\n",
    "И тут все хорошо с полученными данными. Давай просто вызовем новую функцию и сравним, что получилось\n",
    "\n",
    "</div>"
   ]
  },
  {
   "cell_type": "markdown",
   "id": "dca8af3e",
   "metadata": {
    "deletable": false,
    "id": "b4bb2ce6"
   },
   "source": [
    "Вывод: С большей вероятностью человек расплатится, если брал кредит для операций с недвижимостью или для свадьбы, с меньшей вероятностью - если кредит был для целей образования или для покупки автомобиля."
   ]
  },
  {
   "cell_type": "markdown",
   "id": "7eea7793",
   "metadata": {},
   "source": [
    "<div class=\"alert alert-warning\">\n",
    "<b>Комментарий ревьюера - замечания и рекомендации ⚠️</b>\n",
    "\n",
    "Хорошо! Но давай посмотрим в полученную таблицу - там же видно, что у нас две большие группы - недвижимость/свадьба и образование/автокредиты. Давай их добавим в промежуточный вывод!\n",
    "</div>"
   ]
  },
  {
   "cell_type": "markdown",
   "id": "23ba5820",
   "metadata": {},
   "source": [
    "<div class=\"alert alert-success\">\n",
    "<b>Комментарий 2 ревьюера - все отлично! ✅ </b>\n",
    "\n",
    "Спасибо за уточнение!\n",
    "</div>"
   ]
  },
  {
   "cell_type": "markdown",
   "id": "4a9a9c0b",
   "metadata": {
    "deletable": false,
    "editable": false,
    "id": "09c3ac4c"
   },
   "source": [
    "#### 3.5 Приведите возможные причины появления пропусков в исходных данных."
   ]
  },
  {
   "cell_type": "markdown",
   "id": "ccbb0231",
   "metadata": {
    "deletable": false,
    "id": "9da2ceda"
   },
   "source": [
    "Ответ: Могут быть разные причины:\n",
    "1) Люди не захотели указывать информацию о себе.\n",
    "2) Есть группы людей без опыта работы.\n",
    "3) Техническая ошибка при выгрузке/обработке данных.\n",
    "4) Человеческий фактор при выгрузке/обработке данных."
   ]
  },
  {
   "cell_type": "markdown",
   "id": "96826f8b",
   "metadata": {},
   "source": [
    "<div class=\"alert alert-success\">\n",
    "<b>Комментарий ревьюера - все отлично! ✅ </b>\n",
    "\n",
    "Прекрасный ответ, спасибо! Подвох был в том, что мы работаем с статистикой выданных кредитов. А люди могут умышленно не давать информацию, предполагая, что это создает выйгрышные условия для получения займа\n",
    "</div>"
   ]
  },
  {
   "cell_type": "markdown",
   "id": "41116ca0",
   "metadata": {
    "deletable": false,
    "editable": false,
    "id": "7b0487d6"
   },
   "source": [
    "#### 3.6 Объясните, почему заполнить пропуски медианным значением — лучшее решение для количественных переменных."
   ]
  },
  {
   "cell_type": "markdown",
   "id": "91be896b",
   "metadata": {
    "deletable": false,
    "id": "7ecf2b8e"
   },
   "source": [
    "Ответ: Медианное значение не искажает данные для статистического анализа, в отличие от среднеарифмитического значения, которое может завышать/занижать статистику из-за небольшого количества аномальных значений. "
   ]
  },
  {
   "cell_type": "markdown",
   "id": "afeb8f03",
   "metadata": {},
   "source": [
    "<div class=\"alert alert-success\">\n",
    "<b>Комментарий ревьюера - все отлично! ✅ </b>\n",
    "\n",
    "Да, мы обычно говорим так - вбросы сильно влияют на средне-арифмитическое и существенно меньше на медиану. А на будущее -  надо понимать откуда вбросы получились и обосновано принимать решение по их обработке\n",
    "</div>"
   ]
  },
  {
   "cell_type": "markdown",
   "id": "64c38336",
   "metadata": {
    "deletable": false,
    "editable": false,
    "id": "6db5255a"
   },
   "source": [
    "### Шаг 4: общий вывод."
   ]
  },
  {
   "cell_type": "markdown",
   "id": "21a86a4f",
   "metadata": {
    "deletable": false,
    "id": "bad65432"
   },
   "source": [
    "Напишите ваш общий вывод.\n",
    " \n",
    "В ходе исследования мы смогли проанализивать кредитоспособность заемщиков в зависимости от различных критериев, для этих целей мы: \n",
    "1) Проанализивароли общую информацию о данных.  \n",
    "2) Избавились от 2174 пропущенных значений к колонках days_employed и total_income, заменив их медианными значениями для категории.\n",
    "3) Избавились от отрицательных и аномальных значений в столбцах days_employed и children, т.\n",
    "4) Обработали дубликаты и типы данных в таблице.\n",
    "5) Распределили всех заемщиков по категориям, в зависимости от размера дохода и цели кредита.\n",
    "\n",
    "Далее мы выяснили, что на вероятность возврата кредита оказывают влияние различные причины:\n",
    "1) Количество детей (наибольшей кредитоспособностью обладают заемщики без детей)\n",
    "2) Семейное положение (наибольшей кредитоспособностью обладают вдовы/вдовцы и семейные люди)\n",
    "3) Уровень дохода (наибольшей кредитоспособностью обладают заемщики с уровнем дохода от 30 до 50 тр.)\n",
    "4) Цели кредита (чаще всего заемщики возвращают кредиты, полученные для операций с недвижимостью или для свадьбы)"
   ]
  },
  {
   "cell_type": "markdown",
   "id": "687f256f",
   "metadata": {},
   "source": [
    "<div class=\"alert alert-success\">\n",
    "<b>Комментарий 2 ревьюера - все отлично! ✅ </b>\n",
    "\n",
    "Великолепно! Никаких вопросов\n",
    "</div>"
   ]
  },
  {
   "cell_type": "markdown",
   "id": "3e76c32b",
   "metadata": {},
   "source": [
    "<div class=\"alert alert-block alert-danger\">\n",
    "<b>Комментарий ревьюера - на доработку ❌</b>   \n",
    "\n",
    "Прошу в финальный вывод добавить описание данных. Какие были получены данные, сколько их было, с какими ошибками/пропусками мы столкнулись, как обрабатывались. Поля описывать не надо - достаточно показать насколько можно доверять им!\n",
    "    \n",
    "Потому что, по моему опыту работу, в первую очередь заказчик исследования читает вывод и только потом изучает весь проект, если есть на то время. А рекомендации это сжатые промежуточные выводы по каждому из разделов. Лучше их дать списком\n",
    "    \n",
    "</div>"
   ]
  },
  {
   "cell_type": "markdown",
   "id": "6ca96cf5",
   "metadata": {},
   "source": [
    "<div class=\"alert alert-info\">\n",
    "\n",
    "<h3> Резюме по проекту ❌ <a class=\"tocSkip\"> </h3>\n",
    "  \n",
    "Я вижу очень хорошо выполненную работу с наличием выводов! Давай добавим описание данных в финальный вывод и сделаем новую функцию для более простого вывода результатов\n",
    "  \n",
    "Остались сделать небольшие доработки, чтобы принять проект:\n",
    "* сделать новую сводную таблицу в одной функции\n",
    "* 4 раза ее вызвать  \n",
    "* поправить промежуточные выводы\n",
    "* добавить описание данных в финальный вывод\n",
    "\n",
    "Спасибо! Так держать 👍 Жду твой проект на повторное ревью!\n",
    "</div>"
   ]
  },
  {
   "cell_type": "markdown",
   "id": "c98d961d",
   "metadata": {},
   "source": [
    "<div class=\"alert alert-info\">\n",
    "\n",
    "<h3> Резюме 2 по проекту ✅<a class=\"tocSkip\"> </h3>\n",
    "  \n",
    "Полина, спасибо что сделала функцию с сводной таблицей и учла все мои рекомендации. Так держать! \n",
    "\n",
    "Работа принята. Удачи с следующими проектами 🍀\n",
    "</div>"
   ]
  },
  {
   "cell_type": "code",
   "execution_count": null,
   "id": "4a7883a0",
   "metadata": {},
   "outputs": [],
   "source": []
  }
 ],
 "metadata": {
  "ExecuteTimeLog": [
   {
    "duration": 46,
    "start_time": "2023-10-15T19:05:11.519Z"
   },
   {
    "duration": 8,
    "start_time": "2023-10-15T19:05:43.546Z"
   },
   {
    "duration": 523,
    "start_time": "2023-10-15T19:05:54.244Z"
   },
   {
    "duration": 71,
    "start_time": "2023-10-15T19:06:00.226Z"
   },
   {
    "duration": 28,
    "start_time": "2023-10-15T19:06:02.358Z"
   },
   {
    "duration": 16,
    "start_time": "2023-10-15T19:06:03.819Z"
   },
   {
    "duration": 14,
    "start_time": "2023-10-15T19:06:06.669Z"
   },
   {
    "duration": 37,
    "start_time": "2023-10-15T19:06:07.988Z"
   },
   {
    "duration": 3,
    "start_time": "2023-10-15T19:06:08.940Z"
   },
   {
    "duration": 9,
    "start_time": "2023-10-15T19:06:09.436Z"
   },
   {
    "duration": 5,
    "start_time": "2023-10-15T19:06:10.196Z"
   },
   {
    "duration": 7,
    "start_time": "2023-10-15T19:06:10.579Z"
   },
   {
    "duration": 5,
    "start_time": "2023-10-15T19:06:10.959Z"
   },
   {
    "duration": 59,
    "start_time": "2023-10-15T19:06:11.526Z"
   },
   {
    "duration": 10,
    "start_time": "2023-10-15T19:06:11.919Z"
   },
   {
    "duration": 4,
    "start_time": "2023-10-15T19:06:12.543Z"
   },
   {
    "duration": 12,
    "start_time": "2023-10-15T19:06:13.126Z"
   },
   {
    "duration": 19,
    "start_time": "2023-10-15T19:06:13.518Z"
   },
   {
    "duration": 18,
    "start_time": "2023-10-15T19:06:13.746Z"
   },
   {
    "duration": 3,
    "start_time": "2023-10-15T19:06:14.307Z"
   },
   {
    "duration": 10,
    "start_time": "2023-10-15T19:06:14.514Z"
   },
   {
    "duration": 6,
    "start_time": "2023-10-15T19:06:15.647Z"
   },
   {
    "duration": 3,
    "start_time": "2023-10-15T19:06:18.811Z"
   },
   {
    "duration": 9,
    "start_time": "2023-10-15T19:06:19.626Z"
   },
   {
    "duration": 15,
    "start_time": "2023-10-15T19:06:22.097Z"
   },
   {
    "duration": 15,
    "start_time": "2023-10-15T19:09:15.845Z"
   },
   {
    "duration": 21,
    "start_time": "2023-10-15T19:13:56.576Z"
   },
   {
    "duration": 15,
    "start_time": "2023-10-15T19:17:30.179Z"
   },
   {
    "duration": 49,
    "start_time": "2023-10-16T19:31:05.878Z"
   },
   {
    "duration": 568,
    "start_time": "2023-10-16T19:31:25.606Z"
   },
   {
    "duration": 27,
    "start_time": "2023-10-16T19:31:27.865Z"
   },
   {
    "duration": 18,
    "start_time": "2023-10-16T19:31:30.008Z"
   },
   {
    "duration": 12,
    "start_time": "2023-10-16T19:31:32.757Z"
   },
   {
    "duration": 39,
    "start_time": "2023-10-16T19:31:34.216Z"
   },
   {
    "duration": 4,
    "start_time": "2023-10-16T19:31:43.638Z"
   },
   {
    "duration": 9,
    "start_time": "2023-10-16T19:31:45.092Z"
   },
   {
    "duration": 5,
    "start_time": "2023-10-16T19:31:47.579Z"
   },
   {
    "duration": 7,
    "start_time": "2023-10-16T19:31:49.293Z"
   },
   {
    "duration": 5,
    "start_time": "2023-10-16T19:31:51.071Z"
   },
   {
    "duration": 38,
    "start_time": "2023-10-16T19:31:53.270Z"
   },
   {
    "duration": 12,
    "start_time": "2023-10-16T19:31:54.599Z"
   },
   {
    "duration": 4,
    "start_time": "2023-10-16T19:31:56.968Z"
   },
   {
    "duration": 13,
    "start_time": "2023-10-16T19:31:59.110Z"
   },
   {
    "duration": 22,
    "start_time": "2023-10-16T19:32:00.437Z"
   },
   {
    "duration": 18,
    "start_time": "2023-10-16T19:32:00.939Z"
   },
   {
    "duration": 5,
    "start_time": "2023-10-16T19:32:03.146Z"
   },
   {
    "duration": 12,
    "start_time": "2023-10-16T19:32:04.063Z"
   },
   {
    "duration": 6,
    "start_time": "2023-10-16T19:32:06.568Z"
   },
   {
    "duration": 3,
    "start_time": "2023-10-16T19:32:09.999Z"
   },
   {
    "duration": 10,
    "start_time": "2023-10-16T19:32:10.770Z"
   },
   {
    "duration": 17,
    "start_time": "2023-10-16T19:33:05.719Z"
   },
   {
    "duration": 45,
    "start_time": "2023-10-16T19:33:07.419Z"
   },
   {
    "duration": 17,
    "start_time": "2023-10-16T19:35:18.179Z"
   },
   {
    "duration": 19,
    "start_time": "2023-10-16T19:35:31.718Z"
   },
   {
    "duration": 24,
    "start_time": "2023-10-16T19:37:46.791Z"
   },
   {
    "duration": 23,
    "start_time": "2023-10-16T19:37:55.373Z"
   },
   {
    "duration": 21,
    "start_time": "2023-10-16T19:38:55.279Z"
   },
   {
    "duration": 26,
    "start_time": "2023-10-16T19:38:58.867Z"
   },
   {
    "duration": 10,
    "start_time": "2023-10-16T19:41:48.799Z"
   },
   {
    "duration": 22,
    "start_time": "2023-10-16T19:42:08.542Z"
   },
   {
    "duration": 22,
    "start_time": "2023-10-16T19:43:42.130Z"
   },
   {
    "duration": 52,
    "start_time": "2023-10-16T19:43:52.597Z"
   },
   {
    "duration": 22,
    "start_time": "2023-10-16T19:47:32.079Z"
   },
   {
    "duration": 21,
    "start_time": "2023-10-16T19:47:58.583Z"
   },
   {
    "duration": 28,
    "start_time": "2023-10-16T19:48:01.851Z"
   },
   {
    "duration": 19,
    "start_time": "2023-10-16T19:50:57.080Z"
   },
   {
    "duration": 24,
    "start_time": "2023-10-16T19:51:30.708Z"
   },
   {
    "duration": 19,
    "start_time": "2023-10-16T19:51:55.175Z"
   },
   {
    "duration": 44,
    "start_time": "2023-10-16T19:53:52.965Z"
   },
   {
    "duration": 36,
    "start_time": "2023-10-16T19:53:55.788Z"
   },
   {
    "duration": 122,
    "start_time": "2023-10-16T19:54:48.804Z"
   },
   {
    "duration": 26,
    "start_time": "2023-10-16T19:55:02.181Z"
   },
   {
    "duration": 27,
    "start_time": "2023-10-16T19:55:57.865Z"
   },
   {
    "duration": 4,
    "start_time": "2023-10-16T19:56:05.720Z"
   },
   {
    "duration": 35,
    "start_time": "2023-10-16T19:56:30.364Z"
   },
   {
    "duration": 40,
    "start_time": "2023-10-16T19:57:39.939Z"
   },
   {
    "duration": 31,
    "start_time": "2023-10-16T19:58:16.240Z"
   },
   {
    "duration": 27,
    "start_time": "2023-10-16T19:58:45.092Z"
   },
   {
    "duration": 31,
    "start_time": "2023-10-16T19:58:53.490Z"
   },
   {
    "duration": 26,
    "start_time": "2023-10-16T19:59:41.620Z"
   },
   {
    "duration": 33,
    "start_time": "2023-10-16T19:59:50.080Z"
   },
   {
    "duration": 53,
    "start_time": "2023-10-16T19:59:58.855Z"
   },
   {
    "duration": 40,
    "start_time": "2023-10-16T20:00:29.350Z"
   },
   {
    "duration": 27,
    "start_time": "2023-10-16T20:04:35.492Z"
   },
   {
    "duration": 33,
    "start_time": "2023-10-16T20:05:10.641Z"
   },
   {
    "duration": 22,
    "start_time": "2023-10-16T20:05:57.720Z"
   },
   {
    "duration": 26,
    "start_time": "2023-10-16T20:06:17.870Z"
   },
   {
    "duration": 29,
    "start_time": "2023-10-16T20:06:42.332Z"
   },
   {
    "duration": 9,
    "start_time": "2023-10-16T20:07:03.379Z"
   },
   {
    "duration": 16,
    "start_time": "2023-10-16T20:07:41.898Z"
   },
   {
    "duration": 26,
    "start_time": "2023-10-16T20:07:43.410Z"
   },
   {
    "duration": 16,
    "start_time": "2023-10-16T20:07:49.290Z"
   },
   {
    "duration": 27,
    "start_time": "2023-10-16T20:07:51.098Z"
   },
   {
    "duration": 17,
    "start_time": "2023-10-16T20:08:32.890Z"
   },
   {
    "duration": 30,
    "start_time": "2023-10-16T20:08:34.418Z"
   },
   {
    "duration": 17,
    "start_time": "2023-10-16T20:08:43.179Z"
   },
   {
    "duration": 34,
    "start_time": "2023-10-16T20:08:44.817Z"
   },
   {
    "duration": 85,
    "start_time": "2023-10-16T20:58:56.713Z"
   },
   {
    "duration": 505,
    "start_time": "2023-10-16T20:59:06.597Z"
   },
   {
    "duration": 22,
    "start_time": "2023-10-16T20:59:07.103Z"
   },
   {
    "duration": 146,
    "start_time": "2023-10-16T20:59:07.127Z"
   },
   {
    "duration": 25,
    "start_time": "2023-10-16T20:59:07.275Z"
   },
   {
    "duration": 45,
    "start_time": "2023-10-16T20:59:07.301Z"
   },
   {
    "duration": 18,
    "start_time": "2023-10-16T20:59:07.347Z"
   },
   {
    "duration": 19,
    "start_time": "2023-10-16T20:59:07.367Z"
   },
   {
    "duration": 27,
    "start_time": "2023-10-16T20:59:07.387Z"
   },
   {
    "duration": 14,
    "start_time": "2023-10-16T20:59:07.416Z"
   },
   {
    "duration": 35,
    "start_time": "2023-10-16T20:59:07.434Z"
   },
   {
    "duration": 43,
    "start_time": "2023-10-16T20:59:07.470Z"
   },
   {
    "duration": 11,
    "start_time": "2023-10-16T20:59:07.515Z"
   },
   {
    "duration": 89,
    "start_time": "2023-10-16T20:59:07.527Z"
   },
   {
    "duration": 63,
    "start_time": "2023-10-16T20:59:07.617Z"
   },
   {
    "duration": 23,
    "start_time": "2023-10-16T20:59:07.682Z"
   },
   {
    "duration": 16,
    "start_time": "2023-10-16T20:59:07.707Z"
   },
   {
    "duration": 4,
    "start_time": "2023-10-16T20:59:07.725Z"
   },
   {
    "duration": 42,
    "start_time": "2023-10-16T20:59:07.730Z"
   },
   {
    "duration": 46,
    "start_time": "2023-10-16T20:59:07.774Z"
   },
   {
    "duration": 106,
    "start_time": "2023-10-16T20:59:07.822Z"
   },
   {
    "duration": 97,
    "start_time": "2023-10-16T20:59:07.930Z"
   },
   {
    "duration": 43,
    "start_time": "2023-10-16T20:59:08.028Z"
   },
   {
    "duration": 69,
    "start_time": "2023-10-16T20:59:08.073Z"
   },
   {
    "duration": 28,
    "start_time": "2023-10-16T20:59:08.143Z"
   },
   {
    "duration": 37,
    "start_time": "2023-10-16T20:59:08.173Z"
   },
   {
    "duration": 14,
    "start_time": "2023-10-16T20:59:08.212Z"
   },
   {
    "duration": 29,
    "start_time": "2023-10-16T20:59:08.227Z"
   },
   {
    "duration": 18,
    "start_time": "2023-10-16T20:59:08.259Z"
   },
   {
    "duration": 47,
    "start_time": "2023-10-16T20:59:08.279Z"
   }
  ],
  "colab": {
   "name": "dpp_template_part2.ipynb",
   "provenance": []
  },
  "kernelspec": {
   "display_name": "Python 3 (ipykernel)",
   "language": "python",
   "name": "python3"
  },
  "language_info": {
   "codemirror_mode": {
    "name": "ipython",
    "version": 3
   },
   "file_extension": ".py",
   "mimetype": "text/x-python",
   "name": "python",
   "nbconvert_exporter": "python",
   "pygments_lexer": "ipython3",
   "version": "3.9.5"
  },
  "toc": {
   "base_numbering": 1,
   "nav_menu": {},
   "number_sections": true,
   "sideBar": true,
   "skip_h1_title": true,
   "title_cell": "Table of Contents",
   "title_sidebar": "Contents",
   "toc_cell": false,
   "toc_position": {},
   "toc_section_display": true,
   "toc_window_display": false
  }
 },
 "nbformat": 4,
 "nbformat_minor": 5
}
