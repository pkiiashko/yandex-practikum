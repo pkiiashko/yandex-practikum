{
 "cells": [
  {
   "cell_type": "markdown",
   "id": "cda79e43",
   "metadata": {},
   "source": [
    "<div style=\"border:solid green 3px; padding: 20px\">\n",
    "\t\t\t\t\t\t\t\t\t\t\t\t\t\t\t\t\t\t\t\t\t\n",
    "<b>Привет!</b>\n",
    "\t\t\t\t\t\t\t\t\t\t\t\t\t\t\t\t\t\t\t\t\t\n",
    "Меня зовут Сороколетов Илья и я буду проверять твой проект. \n",
    "\t\t\t\t\t\t\t\t\t\t\t\t\t\t\t\t\t\t\t\t\t\n",
    "Предлагаю общаться на «**ты**», но если тебе будет комфортнее общаться на «**вы**», то сообщи об этом в комментариях)\n",
    "\t\t\t\t\t\t\t\t\t\t\t\t\t\t\t\t\t\t\t\t\t\n",
    "\t\t\t\t\t\t\t\t\t\t\t\t\t\t\t\t\t\t\t\t\t\n",
    "Для твоего удобства, я буду выделять свои комментарии следующим образом:\n",
    "\t\t\t\t\t\t\t\t\t\t\t\t\t\t\t\t\t\t\t\t\t\n",
    "<div class=\"alert alert-danger\">\n",
    "<b>❌ Комментарий ревьюера v1:</b> Самые важные замечания. Они указывают на ключевые моменты, которые влияют на конечный результат проекта. </div>\n",
    "\t\t\t\t\t\t\t\t\t\t\t\t\t\t\t\t\t\t\t\t\t\n",
    "<div class=\"alert alert-warning\">\n",
    "<b>⚠️ Комментарий ревьюера v1:</b> Советы или замечания, которые помогут сделать твою работу лучше, но необязательны к выполнению.\n",
    "\t\t\t\t\t\t\t\t\t\t\t\t\t\t\t\t\t\t\t\t\t\n",
    "</div>\n",
    "\t\t\t\t\t\t\t\t\t\t\t\t\t\t\t\t\t\t\t\t\t\n",
    "<div class=\"alert alert-success\">\n",
    "<b>✔️ Комментарий ревьюера v1:</b> Так я выделяю все остальные комментарии.</div>\n",
    "\t\t\t\t\t\t\t\t\t\t\t\t\t\t\t\t\t\t\t\t\t\n",
    "\t\t\t\t\t\t\t\t\t\t\t\t\t\t\t\t\t\t\t\t\t\n",
    "Пометками <b>v1-v2-v3-...</b> я буду отмечать версию проверки. Так ты сможешь быстро найти мои новые комментарии.\n",
    "\t\t\t\t\t\t\t\t\t\t\t\t\t\t\t\t\t\t\t\t\t\n",
    "Давай работать над проектом в диалоге: если ты что-то меняешь в проекте по моим рекомендациям — пиши об этом. Выбери для своих комментариев какой-то заметный цвет, так мне будет легче отследить изменения, например вот так:\n",
    "\t\t\t\t\t\t\t\t\t\t\t\t\t\t\t\t\t\t\t\t\t    \n",
    "<div class=\"alert alert-info\">\n",
    "<b>Комментарий студента:</b>\n",
    "<br>\n",
    "</div>\n",
    "\t\t\t\t\t\t\t\t\t\t\t\t\t\t\t\t\t\t\t\t\t\n",
    "<b>Пожалуйста, не перемещай, не изменяй и не удаляй мои комментарии.</b> Если ты оставляешь свои комментарии, то делай это под моими, чтобы сообщения были расположены в хронологическом порядке. Всё это поможет выполнить повторную проверку твоего проекта быстрее. \n",
    "\t\t\t\t\t\t\t\t\t\t\t\t\t\t\t\t\t\t\t\t\t\n",
    "Перед отправкой работы я рекомендую нажимать Kernel -> Restart & Run All. Это перезапустит ядро и по очереди выполнит все ячейки. Так ты сможешь проверить, что всё работает корректно. Кнопка Kernel находится в панели сверху\n",
    "\t\t\t\t\t\t\t\t\t\t\t\t\t\t\t\t\t\t\t\t\t\n",
    "Обязательно задавай вопросы если они возникнут, а я перехожу к проверке)\n",
    "\t\t\t\t\t\t\t\t\t\t\t\t\t\t\t\t\t\t\t\t\t\n",
    "P.S. На всякий случай, я оставлю пустой шаблон для твоих комментариев ниже. Кликни два раза на мой комментарий, скопируй последние четыре строчки кода и вставляй их в пустую ячейку там, где ты хочешь оставить комментарий. Не забудь только перед этим сменить тип ячейки на Markdown. Быстро это можно сделать так: кликнуть на ячейку - нажать ESC - нажать M. \n",
    "\t\t\t\t\t\t\t\t\t\t\t\t\t\t\t\t\t\t\t\t\t    \n",
    "\t\t\t\t\t\t\t\t\t\t\t\t\t\t\t\t\t\t\t\t\t    \n",
    "<div class=\"alert alert-info\">\n",
    "<b>Комментарий студента:</b>\n",
    "<br>Удали этот текст и вместо него напиши свой комментарий 🙂\n",
    "</div>"
   ]
  },
  {
   "cell_type": "markdown",
   "id": "0706cb5a",
   "metadata": {},
   "source": [
    "<div class=\"alert alert-danger\">\n",
    "<b>❌ Комментарий ревьюера v1:</b> \n",
    "<br>Важно оставлять перед проектом краткое описание задачи. Это поможет тебе быстро вспомнить о чем проект, если спустя время ты решишь к нему вернуться)\n",
    "</div>"
   ]
  },
  {
   "cell_type": "markdown",
   "id": "e40ca427",
   "metadata": {},
   "source": [
    "<div class=\"alert alert-info\">\n",
    "<b>Комментарий студента:</b>\n",
    "<br>Добавила ниже краткое описание\n",
    "</div>"
   ]
  },
  {
   "cell_type": "markdown",
   "id": "2c654231",
   "metadata": {},
   "source": [
    "Описание проекта\n",
    "Вы аналитик популярного сервиса аренды самокатов GoFast. Вам передали данные о некоторых пользователях из нескольких городов, а также об их поездках. Проанализируйте данные и проверьте некоторые гипотезы, которые могут помочь бизнесу вырасти."
   ]
  },
  {
   "cell_type": "markdown",
   "id": "c6728b4f",
   "metadata": {},
   "source": [
    "<div class=\"alert alert-success\">\n",
    "<b>✔️ Комментарий ревьюера v2:</b>\n",
    "<br>Правка выполнена 👍\n",
    "</div>"
   ]
  },
  {
   "cell_type": "code",
   "execution_count": 1,
   "id": "72576667",
   "metadata": {},
   "outputs": [],
   "source": [
    "import pandas as pd\n",
    "import numpy as np\n",
    "from scipy import stats as st\n",
    "import matplotlib.pyplot as plt"
   ]
  },
  {
   "cell_type": "markdown",
   "id": "3511d974",
   "metadata": {},
   "source": [
    "<div class=\"alert alert-warning\">\n",
    "<b>⚠️ Комментарий ревьюера v1:</b> \n",
    "<br>Все библиотеки лучше импортировать отдельно вместе в первой ячейке. Это позволит твои коллегам сразу корректно настроить окружение\n",
    "</div>"
   ]
  },
  {
   "cell_type": "markdown",
   "id": "874869f6",
   "metadata": {},
   "source": [
    "<div class=\"alert alert-info\">\n",
    "<b>Комментарий студента:</b>\n",
    "<br>Добавила все библиотеки\n",
    "</div>"
   ]
  },
  {
   "cell_type": "markdown",
   "id": "c42cbe00",
   "metadata": {},
   "source": [
    "#### Шаг 1. Загрузка данных"
   ]
  },
  {
   "cell_type": "code",
   "execution_count": 2,
   "id": "eff9f206",
   "metadata": {},
   "outputs": [
    {
     "name": "stdout",
     "output_type": "stream",
     "text": [
      "<class 'pandas.core.frame.DataFrame'>\n",
      "RangeIndex: 1565 entries, 0 to 1564\n",
      "Data columns (total 5 columns):\n",
      " #   Column             Non-Null Count  Dtype \n",
      "---  ------             --------------  ----- \n",
      " 0   user_id            1565 non-null   int64 \n",
      " 1   name               1565 non-null   object\n",
      " 2   age                1565 non-null   int64 \n",
      " 3   city               1565 non-null   object\n",
      " 4   subscription_type  1565 non-null   object\n",
      "dtypes: int64(2), object(3)\n",
      "memory usage: 61.3+ KB\n",
      "   user_id        name  age            city subscription_type\n",
      "0        1        Кира   22          Тюмень             ultra\n",
      "1        2   Станислав   31            Омск             ultra\n",
      "2        3     Алексей   20          Москва             ultra\n",
      "3        4  Константин   26  Ростов-на-Дону             ultra\n",
      "4        5       Адель   28            Омск             ultra\n"
     ]
    }
   ],
   "source": [
    "data_users = pd.read_csv('/datasets/users_go.csv')\n",
    "data_users.info()\n",
    "print(data_users.head())"
   ]
  },
  {
   "cell_type": "code",
   "execution_count": 3,
   "id": "c7c27034",
   "metadata": {},
   "outputs": [
    {
     "name": "stdout",
     "output_type": "stream",
     "text": [
      "<class 'pandas.core.frame.DataFrame'>\n",
      "RangeIndex: 18068 entries, 0 to 18067\n",
      "Data columns (total 4 columns):\n",
      " #   Column    Non-Null Count  Dtype  \n",
      "---  ------    --------------  -----  \n",
      " 0   user_id   18068 non-null  int64  \n",
      " 1   distance  18068 non-null  float64\n",
      " 2   duration  18068 non-null  float64\n",
      " 3   date      18068 non-null  object \n",
      "dtypes: float64(2), int64(1), object(1)\n",
      "memory usage: 564.8+ KB\n",
      "   user_id     distance   duration        date\n",
      "0        1  4409.919140  25.599769  2021-01-01\n",
      "1        1  2617.592153  15.816871  2021-01-18\n",
      "2        1   754.159807   6.232113  2021-04-20\n",
      "3        1  2694.783254  18.511000  2021-08-11\n",
      "4        1  4028.687306  26.265803  2021-08-28\n"
     ]
    }
   ],
   "source": [
    "data_rides = pd.read_csv('/datasets/rides_go.csv')\n",
    "data_rides.info()\n",
    "print(data_rides.head())"
   ]
  },
  {
   "cell_type": "code",
   "execution_count": 4,
   "id": "c84831bf",
   "metadata": {},
   "outputs": [
    {
     "name": "stdout",
     "output_type": "stream",
     "text": [
      "<class 'pandas.core.frame.DataFrame'>\n",
      "RangeIndex: 2 entries, 0 to 1\n",
      "Data columns (total 4 columns):\n",
      " #   Column             Non-Null Count  Dtype \n",
      "---  ------             --------------  ----- \n",
      " 0   subscription_type  2 non-null      object\n",
      " 1   minute_price       2 non-null      int64 \n",
      " 2   start_ride_price   2 non-null      int64 \n",
      " 3   subscription_fee   2 non-null      int64 \n",
      "dtypes: int64(3), object(1)\n",
      "memory usage: 192.0+ bytes\n",
      "  subscription_type  minute_price  start_ride_price  subscription_fee\n",
      "0              free             8                50                 0\n",
      "1             ultra             6                 0               199\n"
     ]
    }
   ],
   "source": [
    "data_subscriptions = pd.read_csv('/datasets/subscriptions_go.csv')\n",
    "data_subscriptions.info()\n",
    "print(data_subscriptions.head())"
   ]
  },
  {
   "cell_type": "markdown",
   "id": "c4155229",
   "metadata": {},
   "source": [
    "Вывод: Мы видим, что во всех таблицах отсутствуют пропуски, тип данных соответствует данным для анализа. Также мы видим, что совпадают столбцы user_id в первых двух таблицах и subscribtion_type во 2 и 3 таблице."
   ]
  },
  {
   "cell_type": "markdown",
   "id": "5086d3e2",
   "metadata": {},
   "source": [
    "<div class=\"alert alert-danger\">\n",
    "<b>❌ Комментарий ревьюера v1:</b> \n",
    "<br>Стоит написать короткий вывод после первичного анализа данных, который будет планом для дальнейшей предоработки. \n",
    "</div>"
   ]
  },
  {
   "cell_type": "markdown",
   "id": "5089bfb2",
   "metadata": {},
   "source": [
    "<div class=\"alert alert-info\">\n",
    "<b>Комментарий студента:</b>\n",
    "<br>Добавила вывод\n",
    "</div>"
   ]
  },
  {
   "cell_type": "markdown",
   "id": "4f25effc",
   "metadata": {},
   "source": [
    "<div class=\"alert alert-success\">\n",
    "<b>✔️ Комментарий ревьюера v2:</b>\n",
    "<br>Правка выполнена 👍\n",
    "</div>"
   ]
  },
  {
   "cell_type": "markdown",
   "id": "e95ebca7",
   "metadata": {},
   "source": [
    "#### Шаг 2. Предобработка данных"
   ]
  },
  {
   "cell_type": "markdown",
   "id": "4d4cd22c",
   "metadata": {},
   "source": [
    "переведем столбец с датой в формат даты без времени, т.к. время не указано и создадим столбец месяца"
   ]
  },
  {
   "cell_type": "code",
   "execution_count": 5,
   "id": "5c039052",
   "metadata": {},
   "outputs": [
    {
     "data": {
      "text/html": [
       "<div>\n",
       "<style scoped>\n",
       "    .dataframe tbody tr th:only-of-type {\n",
       "        vertical-align: middle;\n",
       "    }\n",
       "\n",
       "    .dataframe tbody tr th {\n",
       "        vertical-align: top;\n",
       "    }\n",
       "\n",
       "    .dataframe thead th {\n",
       "        text-align: right;\n",
       "    }\n",
       "</style>\n",
       "<table border=\"1\" class=\"dataframe\">\n",
       "  <thead>\n",
       "    <tr style=\"text-align: right;\">\n",
       "      <th></th>\n",
       "      <th>user_id</th>\n",
       "      <th>distance</th>\n",
       "      <th>duration</th>\n",
       "      <th>date</th>\n",
       "      <th>month</th>\n",
       "    </tr>\n",
       "  </thead>\n",
       "  <tbody>\n",
       "    <tr>\n",
       "      <th>0</th>\n",
       "      <td>1</td>\n",
       "      <td>4409.919140</td>\n",
       "      <td>25.599769</td>\n",
       "      <td>2021-01-01</td>\n",
       "      <td>1</td>\n",
       "    </tr>\n",
       "    <tr>\n",
       "      <th>1</th>\n",
       "      <td>1</td>\n",
       "      <td>2617.592153</td>\n",
       "      <td>15.816871</td>\n",
       "      <td>2021-01-18</td>\n",
       "      <td>1</td>\n",
       "    </tr>\n",
       "    <tr>\n",
       "      <th>2</th>\n",
       "      <td>1</td>\n",
       "      <td>754.159807</td>\n",
       "      <td>6.232113</td>\n",
       "      <td>2021-04-20</td>\n",
       "      <td>4</td>\n",
       "    </tr>\n",
       "    <tr>\n",
       "      <th>3</th>\n",
       "      <td>1</td>\n",
       "      <td>2694.783254</td>\n",
       "      <td>18.511000</td>\n",
       "      <td>2021-08-11</td>\n",
       "      <td>8</td>\n",
       "    </tr>\n",
       "    <tr>\n",
       "      <th>4</th>\n",
       "      <td>1</td>\n",
       "      <td>4028.687306</td>\n",
       "      <td>26.265803</td>\n",
       "      <td>2021-08-28</td>\n",
       "      <td>8</td>\n",
       "    </tr>\n",
       "  </tbody>\n",
       "</table>\n",
       "</div>"
      ],
      "text/plain": [
       "   user_id     distance   duration       date  month\n",
       "0        1  4409.919140  25.599769 2021-01-01      1\n",
       "1        1  2617.592153  15.816871 2021-01-18      1\n",
       "2        1   754.159807   6.232113 2021-04-20      4\n",
       "3        1  2694.783254  18.511000 2021-08-11      8\n",
       "4        1  4028.687306  26.265803 2021-08-28      8"
      ]
     },
     "execution_count": 5,
     "metadata": {},
     "output_type": "execute_result"
    }
   ],
   "source": [
    "data_rides['date'] = pd.to_datetime(data_rides['date'], format = '%Y-%m-%d')\n",
    "data_rides['month'] = data_rides['date'].dt.month\n",
    "data_rides.head()"
   ]
  },
  {
   "cell_type": "markdown",
   "id": "90bead0d",
   "metadata": {},
   "source": [
    "<div class=\"alert alert-success\">\n",
    "<b>✔️ Комментарий ревьюера v1:</b> \n",
    "<br>Тип данных изменён верно! \n",
    "</div>\n",
    "\t\t\t\t\n",
    "<div class=\"alert alert-warning\">\n",
    "<b>⚠️ Комментарий ревьюера v1:</b> \n",
    "<br>Если при загрузке данных добавить параметр parse_dates: parse_dates=['date'] то список столбцов автоматически переведется в даты. Подробнее про это можно прочитать по ссылке ниже\n",
    "\t\t\t\t\n",
    "\thttps://newtechaudit.ru/gruzi-daty-krasivo/\n",
    "</div>"
   ]
  },
  {
   "cell_type": "markdown",
   "id": "79d8fbaf",
   "metadata": {},
   "source": [
    "<div class=\"alert alert-info\">\n",
    "<b>Комментарий студента:</b>\n",
    "<br>Спасибо! Буду знать\n",
    "</div>"
   ]
  },
  {
   "cell_type": "markdown",
   "id": "49097fad",
   "metadata": {},
   "source": [
    "посмотрим значения в столбцах для выявления нестандартных значений на первый взгляд и ошибок, все эти столбцы оставляем как есть"
   ]
  },
  {
   "cell_type": "code",
   "execution_count": 6,
   "id": "45550b54",
   "metadata": {},
   "outputs": [
    {
     "data": {
      "text/plain": [
       "209     2\n",
       "807     2\n",
       "611     2\n",
       "43      2\n",
       "737     2\n",
       "       ..\n",
       "520     1\n",
       "519     1\n",
       "518     1\n",
       "517     1\n",
       "1534    1\n",
       "Name: user_id, Length: 1534, dtype: int64"
      ]
     },
     "metadata": {},
     "output_type": "display_data"
    },
    {
     "data": {
      "text/plain": [
       "Мария        23\n",
       "Анна         22\n",
       "Александр    18\n",
       "Никита       17\n",
       "Дмитрий      17\n",
       "             ..\n",
       "Сергей        3\n",
       "Семен         2\n",
       "Тихон         1\n",
       "Милана        1\n",
       "Радмир        1\n",
       "Name: name, Length: 194, dtype: int64"
      ]
     },
     "metadata": {},
     "output_type": "display_data"
    },
    {
     "data": {
      "text/plain": [
       "25    149\n",
       "26    133\n",
       "23    133\n",
       "24    132\n",
       "27    124\n",
       "22    120\n",
       "28    116\n",
       "21     94\n",
       "20     72\n",
       "29     72\n",
       "30     70\n",
       "19     49\n",
       "31     48\n",
       "18     46\n",
       "32     41\n",
       "33     40\n",
       "17     26\n",
       "16     19\n",
       "34     19\n",
       "35     15\n",
       "15     13\n",
       "14      9\n",
       "13      8\n",
       "36      6\n",
       "12      4\n",
       "38      3\n",
       "37      2\n",
       "39      1\n",
       "43      1\n",
       "Name: age, dtype: int64"
      ]
     },
     "metadata": {},
     "output_type": "display_data"
    },
    {
     "data": {
      "text/plain": [
       "Пятигорск         226\n",
       "Екатеринбург      206\n",
       "Ростов-на-Дону    202\n",
       "Краснодар         196\n",
       "Сочи              192\n",
       "Омск              186\n",
       "Тюмень            185\n",
       "Москва            172\n",
       "Name: city, dtype: int64"
      ]
     },
     "metadata": {},
     "output_type": "display_data"
    },
    {
     "data": {
      "text/plain": [
       "free     846\n",
       "ultra    719\n",
       "Name: subscription_type, dtype: int64"
      ]
     },
     "metadata": {},
     "output_type": "display_data"
    }
   ],
   "source": [
    "display(data_users['user_id'].value_counts())\n",
    "display(data_users['name'].value_counts())\n",
    "display(data_users['age'].value_counts())\n",
    "display(data_users['city'].value_counts())\n",
    "display(data_users['subscription_type'].value_counts())"
   ]
  },
  {
   "cell_type": "code",
   "execution_count": 7,
   "id": "6d55db69",
   "metadata": {},
   "outputs": [
    {
     "data": {
      "text/plain": [
       "31"
      ]
     },
     "metadata": {},
     "output_type": "display_data"
    },
    {
     "data": {
      "text/plain": [
       "0"
      ]
     },
     "metadata": {},
     "output_type": "display_data"
    }
   ],
   "source": [
    "display(data_users.duplicated().sum())\n",
    "data_users = data_users.drop_duplicates()\n",
    "display(data_users.duplicated().sum())"
   ]
  },
  {
   "cell_type": "markdown",
   "id": "739d1c9d",
   "metadata": {},
   "source": [
    "аналогично для второй таблицы"
   ]
  },
  {
   "cell_type": "code",
   "execution_count": 8,
   "id": "254065c1",
   "metadata": {},
   "outputs": [
    {
     "data": {
      "text/plain": [
       "1236    27\n",
       "783     26\n",
       "1063    26\n",
       "1204    24\n",
       "1149    23\n",
       "        ..\n",
       "420      3\n",
       "108      3\n",
       "412      3\n",
       "342      2\n",
       "366      2\n",
       "Name: user_id, Length: 1534, dtype: int64"
      ]
     },
     "metadata": {},
     "output_type": "display_data"
    },
    {
     "data": {
      "text/plain": [
       "741.545359     1\n",
       "4158.226381    1\n",
       "3672.118870    1\n",
       "4533.004089    1\n",
       "2437.274120    1\n",
       "              ..\n",
       "2949.530545    1\n",
       "3289.893471    1\n",
       "3047.554085    1\n",
       "2931.718067    1\n",
       "4031.935032    1\n",
       "Name: distance, Length: 18068, dtype: int64"
      ]
     },
     "metadata": {},
     "output_type": "display_data"
    },
    {
     "data": {
      "text/plain": [
       "0.500000     95\n",
       "22.184080     1\n",
       "25.866000     1\n",
       "22.837062     1\n",
       "19.173800     1\n",
       "             ..\n",
       "18.843765     1\n",
       "17.644888     1\n",
       "22.477965     1\n",
       "19.745218     1\n",
       "16.537044     1\n",
       "Name: duration, Length: 17974, dtype: int64"
      ]
     },
     "metadata": {},
     "output_type": "display_data"
    },
    {
     "data": {
      "text/plain": [
       "2021-12-22    72\n",
       "2021-01-12    70\n",
       "2021-12-27    69\n",
       "2021-08-20    67\n",
       "2021-06-09    67\n",
       "              ..\n",
       "2021-11-07    35\n",
       "2021-07-30    35\n",
       "2021-12-15    34\n",
       "2021-02-02    34\n",
       "2021-07-03    31\n",
       "Name: date, Length: 364, dtype: int64"
      ]
     },
     "metadata": {},
     "output_type": "display_data"
    }
   ],
   "source": [
    "display(data_rides['user_id'].value_counts())\n",
    "display(data_rides['distance'].value_counts())\n",
    "display(data_rides['duration'].value_counts())\n",
    "display(data_rides['date'].value_counts())"
   ]
  },
  {
   "cell_type": "code",
   "execution_count": 9,
   "id": "59cc68e3",
   "metadata": {},
   "outputs": [
    {
     "data": {
      "text/plain": [
       "0"
      ]
     },
     "execution_count": 9,
     "metadata": {},
     "output_type": "execute_result"
    }
   ],
   "source": [
    "data_rides.duplicated().sum()"
   ]
  },
  {
   "cell_type": "markdown",
   "id": "581354c0",
   "metadata": {},
   "source": [
    "В последней таблице всего две строки, нет смысла выводить доп. информацию, данные выглядят нормально."
   ]
  },
  {
   "cell_type": "markdown",
   "id": "90266898",
   "metadata": {},
   "source": [
    "Вывод: Нашла и удалила 31 дубликат в 1 таблице (могли завести несколько раз аккаунт/учетку пользователя), помимо этого в данных нет пропусков/странных значений/неверных типов данных в столбцах, поэтому данные могут быть использованны для дальнейшего анализа. Искать дубликаты в 2й таблице по user id/именам/городам нет смысла, т.к. данные могут повторяться, т.к. в датафрейме разбивка по транзакциям."
   ]
  },
  {
   "cell_type": "markdown",
   "id": "1fe864f2",
   "metadata": {},
   "source": [
    "<div class=\"alert alert-danger\">\n",
    "<b>❌ Комментарий ревьюера v1:</b> \n",
    "<br>Необходимо проверить дубликаты в каждом датафрейме и удалить их\n",
    "</div>"
   ]
  },
  {
   "cell_type": "markdown",
   "id": "19070af1",
   "metadata": {},
   "source": [
    "<div class=\"alert alert-info\">\n",
    "<b>Комментарий студента:</b>\n",
    "<br>Удалила дубликаты выше\n",
    "</div>"
   ]
  },
  {
   "cell_type": "markdown",
   "id": "1e5eaa23",
   "metadata": {},
   "source": [
    "<div class=\"alert alert-success\">\n",
    "<b>✔️ Комментарий ревьюера v2:</b>\n",
    "<br>Правка выполнена 👍\n",
    "</div>"
   ]
  },
  {
   "cell_type": "markdown",
   "id": "212593c7",
   "metadata": {},
   "source": [
    "#### Шаг 3. Исследовательский анализ данных"
   ]
  },
  {
   "cell_type": "markdown",
   "id": "9746df83",
   "metadata": {},
   "source": [
    "Опишите и визуализируйте общую информацию о пользователях и поездках:\n",
    "3.1 частота встречаемости городов;"
   ]
  },
  {
   "cell_type": "code",
   "execution_count": 10,
   "id": "0edaf3da",
   "metadata": {},
   "outputs": [
    {
     "data": {
      "text/plain": [
       "city\n",
       "Екатеринбург      204\n",
       "Краснодар         193\n",
       "Москва            168\n",
       "Омск              183\n",
       "Пятигорск         219\n",
       "Ростов-на-Дону    198\n",
       "Сочи              189\n",
       "Тюмень            180\n",
       "Name: user_id, dtype: int64"
      ]
     },
     "metadata": {},
     "output_type": "display_data"
    },
    {
     "data": {
      "text/plain": [
       "<matplotlib.legend.Legend at 0x7f7f6b1801c0>"
      ]
     },
     "execution_count": 10,
     "metadata": {},
     "output_type": "execute_result"
    },
    {
     "data": {
      "image/png": "[encoded data removed]",
      "text/plain": [
       "<Figure size 288x288 with 1 Axes>"
      ]
     },
     "metadata": {},
     "output_type": "display_data"
    }
   ],
   "source": [
    "data_users_grouped=data_users.groupby(['city']).count()\n",
    "display(data_users_grouped['user_id'])\n",
    "data_users_grouped.plot(kind='pie',y='user_id',figsize=(4,4),title = 'Count of cities').legend(loc='right',bbox_to_anchor=(1.85, 0.5))"
   ]
  },
  {
   "cell_type": "markdown",
   "id": "2b44944a",
   "metadata": {},
   "source": [
    "Вывод: количество пользователей распределено равномерно по всем городам"
   ]
  },
  {
   "cell_type": "markdown",
   "id": "0a3e8cc3",
   "metadata": {},
   "source": [
    "<div class=\"alert alert-warning\">\n",
    "<b>⚠️ Комментарий ревьюера v1:</b> \n",
    "<br>Легенда накладывается на график. Это можно решить увеличием самого графика или изменением местоположения легенды\n",
    "</div>"
   ]
  },
  {
   "cell_type": "markdown",
   "id": "45d8f7c0",
   "metadata": {},
   "source": [
    "<div class=\"alert alert-info\">\n",
    "<b>Комментарий студента:</b>\n",
    "<br>Поправила\n",
    "</div>"
   ]
  },
  {
   "cell_type": "markdown",
   "id": "af603de3",
   "metadata": {},
   "source": [
    "<div class=\"alert alert-danger\">\n",
    "<b>❌ Комментарий ревьюера v1:</b> \n",
    "<br>Также здесь стоит добавить таблицу со значениями частотности городов\n",
    "</div>"
   ]
  },
  {
   "cell_type": "markdown",
   "id": "d8cbbdb8",
   "metadata": {},
   "source": [
    "<div class=\"alert alert-info\">\n",
    "<b>Комментарий студента:</b>\n",
    "<br>Добавила выше\n",
    "</div>"
   ]
  },
  {
   "cell_type": "markdown",
   "id": "e42e7cb5",
   "metadata": {},
   "source": [
    "<div class=\"alert alert-success\">\n",
    "<b>✔️ Комментарий ревьюера v2:</b>\n",
    "<br>Правка выполнена 👍\n",
    "</div>"
   ]
  },
  {
   "cell_type": "markdown",
   "id": "0ade407b",
   "metadata": {},
   "source": [
    "3.2 соотношение пользователей с подпиской и без подписки;"
   ]
  },
  {
   "cell_type": "code",
   "execution_count": 11,
   "id": "2c644908",
   "metadata": {},
   "outputs": [
    {
     "data": {
      "text/plain": [
       "<AxesSubplot:title={'center':'Subscribtion type'}, ylabel='user_id'>"
      ]
     },
     "execution_count": 11,
     "metadata": {},
     "output_type": "execute_result"
    },
    {
     "data": {
      "image/png": "[encoded data removed]",
      "text/plain": [
       "<Figure size 432x288 with 1 Axes>"
      ]
     },
     "metadata": {},
     "output_type": "display_data"
    }
   ],
   "source": [
    "data_users_grouped2=data_users.groupby(['subscription_type']).count()\n",
    "data_users_grouped2.plot(kind='pie',y='user_id',title = 'Subscribtion type')"
   ]
  },
  {
   "cell_type": "markdown",
   "id": "90f6489f",
   "metadata": {},
   "source": [
    "Вывод: чуть более половины пользователей не имеют подписки"
   ]
  },
  {
   "cell_type": "markdown",
   "id": "949a5188",
   "metadata": {},
   "source": [
    "<div class=\"alert alert-success\">\n",
    "<b>✔️ Комментарий ревьюера v1:</b>\n",
    "<br>Верно! В этом задании нужно смотреть именно на долю пользователей\n",
    "</div>"
   ]
  },
  {
   "cell_type": "markdown",
   "id": "2280b874",
   "metadata": {},
   "source": [
    "3.3 возраст пользователей;"
   ]
  },
  {
   "cell_type": "code",
   "execution_count": 12,
   "id": "0cf7048b",
   "metadata": {},
   "outputs": [
    {
     "data": {
      "text/plain": [
       "count    1534.000000\n",
       "mean       24.903520\n",
       "std         4.572367\n",
       "min        12.000000\n",
       "25%        22.000000\n",
       "50%        25.000000\n",
       "75%        28.000000\n",
       "max        43.000000\n",
       "Name: age, dtype: float64"
      ]
     },
     "execution_count": 12,
     "metadata": {},
     "output_type": "execute_result"
    },
    {
     "data": {
      "image/png": "[encoded data removed]",
      "text/plain": [
       "<Figure size 360x216 with 1 Axes>"
      ]
     },
     "metadata": {
      "needs_background": "light"
     },
     "output_type": "display_data"
    }
   ],
   "source": [
    "data_users.plot(y = 'age', kind = 'hist', bins = 30, range = (1,60), grid=True, figsize = (5,3),title = 'Age of users').set_xlabel(\"age\")\n",
    "data_users['age'].describe()"
   ]
  },
  {
   "cell_type": "markdown",
   "id": "21006c9a",
   "metadata": {},
   "source": [
    "<div class=\"alert alert-danger\">\n",
    "<b>❌ Комментарий ревьюера v1:</b> \n",
    "<br>Графики должны быть наглядным без контекста (т.к. в реальной практике ты будешь показывать презентацию или отчет заказчику). Необходимо проследить чтобы всегда был заголовок и подписаны оси. Этот комментарий относится ко всем графикам во всем проекте\n",
    "</div>"
   ]
  },
  {
   "cell_type": "markdown",
   "id": "bfd9b492",
   "metadata": {},
   "source": [
    "<div class=\"alert alert-info\">\n",
    "<b>Комментарий студента:</b>\n",
    "<br>Добавила во всех графиках title и название осей\n",
    "</div>"
   ]
  },
  {
   "cell_type": "markdown",
   "id": "6331722e",
   "metadata": {},
   "source": [
    "<div class=\"alert alert-success\">\n",
    "<b>✔️ Комментарий ревьюера v2:</b>\n",
    "<br>Правка выполнена 👍\n",
    "</div>"
   ]
  },
  {
   "cell_type": "markdown",
   "id": "4d4efb17",
   "metadata": {},
   "source": [
    "Вывод: значения в диапазоне от 12 до 43 лет, средняя - 25, медиана 25, распределение нормальное."
   ]
  },
  {
   "cell_type": "markdown",
   "id": "574ec6dd",
   "metadata": {},
   "source": [
    "<div class=\"alert alert-success\">\n",
    "<b>✔️ Комментарий ревьюера v1:</b>\n",
    "<br>Молодец, что кроме графика ещё используешь метод describe()\n",
    "</div>"
   ]
  },
  {
   "cell_type": "markdown",
   "id": "13a225bb",
   "metadata": {},
   "source": [
    "3.4 расстояние, которое пользователь преодолел за одну поездку;"
   ]
  },
  {
   "cell_type": "code",
   "execution_count": 13,
   "id": "4733848d",
   "metadata": {},
   "outputs": [
    {
     "data": {
      "text/plain": [
       "count    18068.000000\n",
       "mean      3070.659976\n",
       "std       1116.831209\n",
       "min          0.855683\n",
       "25%       2543.226360\n",
       "50%       3133.609994\n",
       "75%       3776.222735\n",
       "max       7211.007745\n",
       "Name: distance, dtype: float64"
      ]
     },
     "execution_count": 13,
     "metadata": {},
     "output_type": "execute_result"
    },
    {
     "data": {
      "image/png": "[encoded data removed]",
      "text/plain": [
       "<Figure size 360x216 with 1 Axes>"
      ]
     },
     "metadata": {
      "needs_background": "light"
     },
     "output_type": "display_data"
    }
   ],
   "source": [
    "data_rides.plot(y = 'distance', kind = 'hist', bins = 30, range = (1,7300), grid=True, figsize = (5,3),title = 'Distance of rides').set_xlabel(\"distance, m\")\n",
    "data_rides['distance'].describe()"
   ]
  },
  {
   "cell_type": "markdown",
   "id": "b81bab50",
   "metadata": {},
   "source": [
    "Вывод: значения в диапазоне от 0 до 7.2 км, средняя - 3070 м, медиана 3134, распределение нормальное, наблюдается пик коротких поездок на 500-800 м."
   ]
  },
  {
   "cell_type": "markdown",
   "id": "ae4d9afa",
   "metadata": {},
   "source": [
    "<div class=\"alert alert-success\">\n",
    "<b>✔️ Комментарий ревьюера v1:</b>\n",
    "<br>Тут всё верно\n",
    "</div>"
   ]
  },
  {
   "cell_type": "markdown",
   "id": "4ca7d9a7",
   "metadata": {},
   "source": [
    "3.5 продолжительность поездок."
   ]
  },
  {
   "cell_type": "code",
   "execution_count": 14,
   "id": "e8dc301f",
   "metadata": {},
   "outputs": [
    {
     "data": {
      "text/plain": [
       "count    18068.000000\n",
       "mean        17.805011\n",
       "std          6.091051\n",
       "min          0.500000\n",
       "25%         13.597563\n",
       "50%         17.678395\n",
       "75%         21.724800\n",
       "max         40.823963\n",
       "Name: duration, dtype: float64"
      ]
     },
     "execution_count": 14,
     "metadata": {},
     "output_type": "execute_result"
    },
    {
     "data": {
      "image/png": "[encoded data removed]",
      "text/plain": [
       "<Figure size 360x216 with 1 Axes>"
      ]
     },
     "metadata": {
      "needs_background": "light"
     },
     "output_type": "display_data"
    }
   ],
   "source": [
    "data_rides.plot(y = 'duration', kind = 'hist', bins = 30, range = (1,41), grid=True, figsize = (5,3),title = 'Duration of rides').set_xlabel(\"duration, min\")\n",
    "data_rides['duration'].describe()"
   ]
  },
  {
   "cell_type": "markdown",
   "id": "6e9a86a5",
   "metadata": {},
   "source": [
    "Вывод: значения в диапазоне от 0 до 40 минут, средняя - 18 минут, медиана 18 минут, распределение нормальное."
   ]
  },
  {
   "cell_type": "markdown",
   "id": "762ecd96",
   "metadata": {},
   "source": [
    "Вывод по разделу: Проанализировав все данные, мы можем сказать, что распределение пользователей по городам равномерное, пользователей с подпиской немного меньше, чем пользователей без подписки, возраст пользователей в основном от 20 до 30 лет, поездки обычно на 2-5 км, от 10 до 30 минут."
   ]
  },
  {
   "cell_type": "markdown",
   "id": "d605b379",
   "metadata": {},
   "source": [
    "<div class=\"alert alert-success\">\n",
    "<b>✔️ Комментарий ревьюера v1:</b>\n",
    "<br>График и вывод корректные\n",
    "</div>"
   ]
  },
  {
   "cell_type": "markdown",
   "id": "fdd085ca",
   "metadata": {},
   "source": [
    "<div class=\"alert alert-danger\">\n",
    "<b>❌ Комментарий ревьюера v1:</b> \n",
    "<br>Не забудь добавить промежуточный вывод по разделу\n",
    "</div>"
   ]
  },
  {
   "cell_type": "markdown",
   "id": "efb977a4",
   "metadata": {},
   "source": [
    "<div class=\"alert alert-info\">\n",
    "<b>Комментарий студента:</b>\n",
    "<br>Добавила вывод\n",
    "</div>"
   ]
  },
  {
   "cell_type": "markdown",
   "id": "e96f5d42",
   "metadata": {},
   "source": [
    "<div class=\"alert alert-success\">\n",
    "<b>✔️ Комментарий ревьюера v2:</b>\n",
    "<br>Правка выполнена 👍\n",
    "</div>"
   ]
  },
  {
   "cell_type": "markdown",
   "id": "4ef51331",
   "metadata": {},
   "source": [
    "#### Шаг 4. Объединение данных"
   ]
  },
  {
   "cell_type": "markdown",
   "id": "0899e639",
   "metadata": {},
   "source": [
    "4.1 Объедините данные о пользователях, поездках и подписках в один датафрейм. Для этого воспользуйтесь методом merge()."
   ]
  },
  {
   "cell_type": "code",
   "execution_count": 15,
   "id": "80ffbbd5",
   "metadata": {},
   "outputs": [
    {
     "data": {
      "text/html": [
       "<div>\n",
       "<style scoped>\n",
       "    .dataframe tbody tr th:only-of-type {\n",
       "        vertical-align: middle;\n",
       "    }\n",
       "\n",
       "    .dataframe tbody tr th {\n",
       "        vertical-align: top;\n",
       "    }\n",
       "\n",
       "    .dataframe thead th {\n",
       "        text-align: right;\n",
       "    }\n",
       "</style>\n",
       "<table border=\"1\" class=\"dataframe\">\n",
       "  <thead>\n",
       "    <tr style=\"text-align: right;\">\n",
       "      <th></th>\n",
       "      <th>user_id</th>\n",
       "      <th>name</th>\n",
       "      <th>age</th>\n",
       "      <th>city</th>\n",
       "      <th>subscription_type</th>\n",
       "      <th>distance</th>\n",
       "      <th>duration</th>\n",
       "      <th>date</th>\n",
       "      <th>month</th>\n",
       "      <th>minute_price</th>\n",
       "      <th>start_ride_price</th>\n",
       "      <th>subscription_fee</th>\n",
       "    </tr>\n",
       "  </thead>\n",
       "  <tbody>\n",
       "    <tr>\n",
       "      <th>0</th>\n",
       "      <td>1</td>\n",
       "      <td>Кира</td>\n",
       "      <td>22</td>\n",
       "      <td>Тюмень</td>\n",
       "      <td>ultra</td>\n",
       "      <td>4409.919140</td>\n",
       "      <td>25.599769</td>\n",
       "      <td>2021-01-01</td>\n",
       "      <td>1</td>\n",
       "      <td>6</td>\n",
       "      <td>0</td>\n",
       "      <td>199</td>\n",
       "    </tr>\n",
       "    <tr>\n",
       "      <th>1</th>\n",
       "      <td>1</td>\n",
       "      <td>Кира</td>\n",
       "      <td>22</td>\n",
       "      <td>Тюмень</td>\n",
       "      <td>ultra</td>\n",
       "      <td>2617.592153</td>\n",
       "      <td>15.816871</td>\n",
       "      <td>2021-01-18</td>\n",
       "      <td>1</td>\n",
       "      <td>6</td>\n",
       "      <td>0</td>\n",
       "      <td>199</td>\n",
       "    </tr>\n",
       "    <tr>\n",
       "      <th>2</th>\n",
       "      <td>1</td>\n",
       "      <td>Кира</td>\n",
       "      <td>22</td>\n",
       "      <td>Тюмень</td>\n",
       "      <td>ultra</td>\n",
       "      <td>754.159807</td>\n",
       "      <td>6.232113</td>\n",
       "      <td>2021-04-20</td>\n",
       "      <td>4</td>\n",
       "      <td>6</td>\n",
       "      <td>0</td>\n",
       "      <td>199</td>\n",
       "    </tr>\n",
       "    <tr>\n",
       "      <th>3</th>\n",
       "      <td>1</td>\n",
       "      <td>Кира</td>\n",
       "      <td>22</td>\n",
       "      <td>Тюмень</td>\n",
       "      <td>ultra</td>\n",
       "      <td>2694.783254</td>\n",
       "      <td>18.511000</td>\n",
       "      <td>2021-08-11</td>\n",
       "      <td>8</td>\n",
       "      <td>6</td>\n",
       "      <td>0</td>\n",
       "      <td>199</td>\n",
       "    </tr>\n",
       "    <tr>\n",
       "      <th>4</th>\n",
       "      <td>1</td>\n",
       "      <td>Кира</td>\n",
       "      <td>22</td>\n",
       "      <td>Тюмень</td>\n",
       "      <td>ultra</td>\n",
       "      <td>4028.687306</td>\n",
       "      <td>26.265803</td>\n",
       "      <td>2021-08-28</td>\n",
       "      <td>8</td>\n",
       "      <td>6</td>\n",
       "      <td>0</td>\n",
       "      <td>199</td>\n",
       "    </tr>\n",
       "  </tbody>\n",
       "</table>\n",
       "</div>"
      ],
      "text/plain": [
       "   user_id  name  age    city subscription_type     distance   duration  \\\n",
       "0        1  Кира   22  Тюмень             ultra  4409.919140  25.599769   \n",
       "1        1  Кира   22  Тюмень             ultra  2617.592153  15.816871   \n",
       "2        1  Кира   22  Тюмень             ultra   754.159807   6.232113   \n",
       "3        1  Кира   22  Тюмень             ultra  2694.783254  18.511000   \n",
       "4        1  Кира   22  Тюмень             ultra  4028.687306  26.265803   \n",
       "\n",
       "        date  month  minute_price  start_ride_price  subscription_fee  \n",
       "0 2021-01-01      1             6                 0               199  \n",
       "1 2021-01-18      1             6                 0               199  \n",
       "2 2021-04-20      4             6                 0               199  \n",
       "3 2021-08-11      8             6                 0               199  \n",
       "4 2021-08-28      8             6                 0               199  "
      ]
     },
     "metadata": {},
     "output_type": "display_data"
    },
    {
     "name": "stdout",
     "output_type": "stream",
     "text": [
      "<class 'pandas.core.frame.DataFrame'>\n",
      "Int64Index: 18068 entries, 0 to 18067\n",
      "Data columns (total 12 columns):\n",
      " #   Column             Non-Null Count  Dtype         \n",
      "---  ------             --------------  -----         \n",
      " 0   user_id            18068 non-null  int64         \n",
      " 1   name               18068 non-null  object        \n",
      " 2   age                18068 non-null  int64         \n",
      " 3   city               18068 non-null  object        \n",
      " 4   subscription_type  18068 non-null  object        \n",
      " 5   distance           18068 non-null  float64       \n",
      " 6   duration           18068 non-null  float64       \n",
      " 7   date               18068 non-null  datetime64[ns]\n",
      " 8   month              18068 non-null  int64         \n",
      " 9   minute_price       18068 non-null  int64         \n",
      " 10  start_ride_price   18068 non-null  int64         \n",
      " 11  subscription_fee   18068 non-null  int64         \n",
      "dtypes: datetime64[ns](1), float64(2), int64(6), object(3)\n",
      "memory usage: 1.8+ MB\n"
     ]
    }
   ],
   "source": [
    "data_all = data_users.merge(data_rides, on='user_id')\n",
    "data_all = data_all.merge(data_subscriptions, on='subscription_type')\n",
    "display(data_all.head())\n",
    "data_all.info()"
   ]
  },
  {
   "cell_type": "markdown",
   "id": "c49f745c",
   "metadata": {},
   "source": [
    "4.2 Создайте ещё два датафрейма из датафрейма, созданного на этапе 4.1:\n",
    "c данными о пользователях без подписки;\n",
    "с данными о пользователях с подпиской."
   ]
  },
  {
   "cell_type": "code",
   "execution_count": 16,
   "id": "2c5a9761",
   "metadata": {},
   "outputs": [
    {
     "data": {
      "text/html": [
       "<div>\n",
       "<style scoped>\n",
       "    .dataframe tbody tr th:only-of-type {\n",
       "        vertical-align: middle;\n",
       "    }\n",
       "\n",
       "    .dataframe tbody tr th {\n",
       "        vertical-align: top;\n",
       "    }\n",
       "\n",
       "    .dataframe thead th {\n",
       "        text-align: right;\n",
       "    }\n",
       "</style>\n",
       "<table border=\"1\" class=\"dataframe\">\n",
       "  <thead>\n",
       "    <tr style=\"text-align: right;\">\n",
       "      <th></th>\n",
       "      <th>user_id</th>\n",
       "      <th>name</th>\n",
       "      <th>age</th>\n",
       "      <th>city</th>\n",
       "      <th>subscription_type</th>\n",
       "      <th>distance</th>\n",
       "      <th>duration</th>\n",
       "      <th>date</th>\n",
       "      <th>month</th>\n",
       "      <th>minute_price</th>\n",
       "      <th>start_ride_price</th>\n",
       "      <th>subscription_fee</th>\n",
       "    </tr>\n",
       "  </thead>\n",
       "  <tbody>\n",
       "    <tr>\n",
       "      <th>0</th>\n",
       "      <td>1</td>\n",
       "      <td>Кира</td>\n",
       "      <td>22</td>\n",
       "      <td>Тюмень</td>\n",
       "      <td>ultra</td>\n",
       "      <td>4409.919140</td>\n",
       "      <td>25.599769</td>\n",
       "      <td>2021-01-01</td>\n",
       "      <td>1</td>\n",
       "      <td>6</td>\n",
       "      <td>0</td>\n",
       "      <td>199</td>\n",
       "    </tr>\n",
       "    <tr>\n",
       "      <th>1</th>\n",
       "      <td>1</td>\n",
       "      <td>Кира</td>\n",
       "      <td>22</td>\n",
       "      <td>Тюмень</td>\n",
       "      <td>ultra</td>\n",
       "      <td>2617.592153</td>\n",
       "      <td>15.816871</td>\n",
       "      <td>2021-01-18</td>\n",
       "      <td>1</td>\n",
       "      <td>6</td>\n",
       "      <td>0</td>\n",
       "      <td>199</td>\n",
       "    </tr>\n",
       "    <tr>\n",
       "      <th>2</th>\n",
       "      <td>1</td>\n",
       "      <td>Кира</td>\n",
       "      <td>22</td>\n",
       "      <td>Тюмень</td>\n",
       "      <td>ultra</td>\n",
       "      <td>754.159807</td>\n",
       "      <td>6.232113</td>\n",
       "      <td>2021-04-20</td>\n",
       "      <td>4</td>\n",
       "      <td>6</td>\n",
       "      <td>0</td>\n",
       "      <td>199</td>\n",
       "    </tr>\n",
       "    <tr>\n",
       "      <th>3</th>\n",
       "      <td>1</td>\n",
       "      <td>Кира</td>\n",
       "      <td>22</td>\n",
       "      <td>Тюмень</td>\n",
       "      <td>ultra</td>\n",
       "      <td>2694.783254</td>\n",
       "      <td>18.511000</td>\n",
       "      <td>2021-08-11</td>\n",
       "      <td>8</td>\n",
       "      <td>6</td>\n",
       "      <td>0</td>\n",
       "      <td>199</td>\n",
       "    </tr>\n",
       "    <tr>\n",
       "      <th>4</th>\n",
       "      <td>1</td>\n",
       "      <td>Кира</td>\n",
       "      <td>22</td>\n",
       "      <td>Тюмень</td>\n",
       "      <td>ultra</td>\n",
       "      <td>4028.687306</td>\n",
       "      <td>26.265803</td>\n",
       "      <td>2021-08-28</td>\n",
       "      <td>8</td>\n",
       "      <td>6</td>\n",
       "      <td>0</td>\n",
       "      <td>199</td>\n",
       "    </tr>\n",
       "  </tbody>\n",
       "</table>\n",
       "</div>"
      ],
      "text/plain": [
       "   user_id  name  age    city subscription_type     distance   duration  \\\n",
       "0        1  Кира   22  Тюмень             ultra  4409.919140  25.599769   \n",
       "1        1  Кира   22  Тюмень             ultra  2617.592153  15.816871   \n",
       "2        1  Кира   22  Тюмень             ultra   754.159807   6.232113   \n",
       "3        1  Кира   22  Тюмень             ultra  2694.783254  18.511000   \n",
       "4        1  Кира   22  Тюмень             ultra  4028.687306  26.265803   \n",
       "\n",
       "        date  month  minute_price  start_ride_price  subscription_fee  \n",
       "0 2021-01-01      1             6                 0               199  \n",
       "1 2021-01-18      1             6                 0               199  \n",
       "2 2021-04-20      4             6                 0               199  \n",
       "3 2021-08-11      8             6                 0               199  \n",
       "4 2021-08-28      8             6                 0               199  "
      ]
     },
     "metadata": {},
     "output_type": "display_data"
    },
    {
     "name": "stdout",
     "output_type": "stream",
     "text": [
      "<class 'pandas.core.frame.DataFrame'>\n",
      "Int64Index: 6500 entries, 0 to 6499\n",
      "Data columns (total 12 columns):\n",
      " #   Column             Non-Null Count  Dtype         \n",
      "---  ------             --------------  -----         \n",
      " 0   user_id            6500 non-null   int64         \n",
      " 1   name               6500 non-null   object        \n",
      " 2   age                6500 non-null   int64         \n",
      " 3   city               6500 non-null   object        \n",
      " 4   subscription_type  6500 non-null   object        \n",
      " 5   distance           6500 non-null   float64       \n",
      " 6   duration           6500 non-null   float64       \n",
      " 7   date               6500 non-null   datetime64[ns]\n",
      " 8   month              6500 non-null   int64         \n",
      " 9   minute_price       6500 non-null   int64         \n",
      " 10  start_ride_price   6500 non-null   int64         \n",
      " 11  subscription_fee   6500 non-null   int64         \n",
      "dtypes: datetime64[ns](1), float64(2), int64(6), object(3)\n",
      "memory usage: 660.2+ KB\n"
     ]
    }
   ],
   "source": [
    "data_ultra = data_all.query('subscription_type==\"ultra\"')\n",
    "display(data_ultra.head())\n",
    "data_ultra.info()"
   ]
  },
  {
   "cell_type": "code",
   "execution_count": 17,
   "id": "bff628e8",
   "metadata": {},
   "outputs": [
    {
     "data": {
      "text/html": [
       "<div>\n",
       "<style scoped>\n",
       "    .dataframe tbody tr th:only-of-type {\n",
       "        vertical-align: middle;\n",
       "    }\n",
       "\n",
       "    .dataframe tbody tr th {\n",
       "        vertical-align: top;\n",
       "    }\n",
       "\n",
       "    .dataframe thead th {\n",
       "        text-align: right;\n",
       "    }\n",
       "</style>\n",
       "<table border=\"1\" class=\"dataframe\">\n",
       "  <thead>\n",
       "    <tr style=\"text-align: right;\">\n",
       "      <th></th>\n",
       "      <th>user_id</th>\n",
       "      <th>name</th>\n",
       "      <th>age</th>\n",
       "      <th>city</th>\n",
       "      <th>subscription_type</th>\n",
       "      <th>distance</th>\n",
       "      <th>duration</th>\n",
       "      <th>date</th>\n",
       "      <th>month</th>\n",
       "      <th>minute_price</th>\n",
       "      <th>start_ride_price</th>\n",
       "      <th>subscription_fee</th>\n",
       "    </tr>\n",
       "  </thead>\n",
       "  <tbody>\n",
       "    <tr>\n",
       "      <th>6500</th>\n",
       "      <td>700</td>\n",
       "      <td>Айдар</td>\n",
       "      <td>22</td>\n",
       "      <td>Омск</td>\n",
       "      <td>free</td>\n",
       "      <td>2515.690719</td>\n",
       "      <td>14.944286</td>\n",
       "      <td>2021-01-02</td>\n",
       "      <td>1</td>\n",
       "      <td>8</td>\n",
       "      <td>50</td>\n",
       "      <td>0</td>\n",
       "    </tr>\n",
       "    <tr>\n",
       "      <th>6501</th>\n",
       "      <td>700</td>\n",
       "      <td>Айдар</td>\n",
       "      <td>22</td>\n",
       "      <td>Омск</td>\n",
       "      <td>free</td>\n",
       "      <td>846.932642</td>\n",
       "      <td>16.234663</td>\n",
       "      <td>2021-02-01</td>\n",
       "      <td>2</td>\n",
       "      <td>8</td>\n",
       "      <td>50</td>\n",
       "      <td>0</td>\n",
       "    </tr>\n",
       "    <tr>\n",
       "      <th>6502</th>\n",
       "      <td>700</td>\n",
       "      <td>Айдар</td>\n",
       "      <td>22</td>\n",
       "      <td>Омск</td>\n",
       "      <td>free</td>\n",
       "      <td>4004.434142</td>\n",
       "      <td>20.016628</td>\n",
       "      <td>2021-02-04</td>\n",
       "      <td>2</td>\n",
       "      <td>8</td>\n",
       "      <td>50</td>\n",
       "      <td>0</td>\n",
       "    </tr>\n",
       "    <tr>\n",
       "      <th>6503</th>\n",
       "      <td>700</td>\n",
       "      <td>Айдар</td>\n",
       "      <td>22</td>\n",
       "      <td>Омск</td>\n",
       "      <td>free</td>\n",
       "      <td>1205.911290</td>\n",
       "      <td>9.782872</td>\n",
       "      <td>2021-02-10</td>\n",
       "      <td>2</td>\n",
       "      <td>8</td>\n",
       "      <td>50</td>\n",
       "      <td>0</td>\n",
       "    </tr>\n",
       "    <tr>\n",
       "      <th>6504</th>\n",
       "      <td>700</td>\n",
       "      <td>Айдар</td>\n",
       "      <td>22</td>\n",
       "      <td>Омск</td>\n",
       "      <td>free</td>\n",
       "      <td>3047.379435</td>\n",
       "      <td>17.427673</td>\n",
       "      <td>2021-02-14</td>\n",
       "      <td>2</td>\n",
       "      <td>8</td>\n",
       "      <td>50</td>\n",
       "      <td>0</td>\n",
       "    </tr>\n",
       "  </tbody>\n",
       "</table>\n",
       "</div>"
      ],
      "text/plain": [
       "      user_id   name  age  city subscription_type     distance   duration  \\\n",
       "6500      700  Айдар   22  Омск              free  2515.690719  14.944286   \n",
       "6501      700  Айдар   22  Омск              free   846.932642  16.234663   \n",
       "6502      700  Айдар   22  Омск              free  4004.434142  20.016628   \n",
       "6503      700  Айдар   22  Омск              free  1205.911290   9.782872   \n",
       "6504      700  Айдар   22  Омск              free  3047.379435  17.427673   \n",
       "\n",
       "           date  month  minute_price  start_ride_price  subscription_fee  \n",
       "6500 2021-01-02      1             8                50                 0  \n",
       "6501 2021-02-01      2             8                50                 0  \n",
       "6502 2021-02-04      2             8                50                 0  \n",
       "6503 2021-02-10      2             8                50                 0  \n",
       "6504 2021-02-14      2             8                50                 0  "
      ]
     },
     "metadata": {},
     "output_type": "display_data"
    },
    {
     "name": "stdout",
     "output_type": "stream",
     "text": [
      "<class 'pandas.core.frame.DataFrame'>\n",
      "Int64Index: 11568 entries, 6500 to 18067\n",
      "Data columns (total 12 columns):\n",
      " #   Column             Non-Null Count  Dtype         \n",
      "---  ------             --------------  -----         \n",
      " 0   user_id            11568 non-null  int64         \n",
      " 1   name               11568 non-null  object        \n",
      " 2   age                11568 non-null  int64         \n",
      " 3   city               11568 non-null  object        \n",
      " 4   subscription_type  11568 non-null  object        \n",
      " 5   distance           11568 non-null  float64       \n",
      " 6   duration           11568 non-null  float64       \n",
      " 7   date               11568 non-null  datetime64[ns]\n",
      " 8   month              11568 non-null  int64         \n",
      " 9   minute_price       11568 non-null  int64         \n",
      " 10  start_ride_price   11568 non-null  int64         \n",
      " 11  subscription_fee   11568 non-null  int64         \n",
      "dtypes: datetime64[ns](1), float64(2), int64(6), object(3)\n",
      "memory usage: 1.1+ MB\n"
     ]
    }
   ],
   "source": [
    "data_free = data_all.query('subscription_type!=\"ultra\"')\n",
    "display(data_free.head())\n",
    "data_free.info()"
   ]
  },
  {
   "cell_type": "markdown",
   "id": "8be501ad",
   "metadata": {},
   "source": [
    "<div class=\"alert alert-warning\">\n",
    "<b>⚠️ Комментарий ревьюера v1:</b> \n",
    "<br>После создания новых таблиц, не забывай проверять их размерность, чтобы убедиться, что ничего не потерялось. \n",
    "</div>"
   ]
  },
  {
   "cell_type": "markdown",
   "id": "291e84ef",
   "metadata": {},
   "source": [
    "<div class=\"alert alert-info\">\n",
    "<b>Комментарий студента:</b>\n",
    "<br>Добавила info после таблиц\n",
    "</div>"
   ]
  },
  {
   "cell_type": "markdown",
   "id": "1017b4d6",
   "metadata": {},
   "source": [
    "<div class=\"alert alert-success\">\n",
    "<b>✔️ Комментарий ревьюера v2:</b>\n",
    "<br>Отлично!\n",
    "</div>"
   ]
  },
  {
   "cell_type": "markdown",
   "id": "0cec57ae",
   "metadata": {},
   "source": [
    "4.3 Визуализируйте информацию о расстоянии и времени поездок для пользователей обеих категорий."
   ]
  },
  {
   "cell_type": "code",
   "execution_count": 18,
   "id": "51e8592c",
   "metadata": {},
   "outputs": [
    {
     "data": {
      "text/plain": [
       "0       4409.919140\n",
       "1       2617.592153\n",
       "2        754.159807\n",
       "3       2694.783254\n",
       "4       4028.687306\n",
       "           ...     \n",
       "6495    3973.046497\n",
       "6496    3288.702563\n",
       "6497    3076.159348\n",
       "6498    4707.845501\n",
       "6499    3202.890770\n",
       "Name: distance, Length: 6500, dtype: float64"
      ]
     },
     "execution_count": 18,
     "metadata": {},
     "output_type": "execute_result"
    },
    {
     "data": {
      "image/png": "[encoded data removed]",
      "text/plain": [
       "<Figure size 360x216 with 1 Axes>"
      ]
     },
     "metadata": {
      "needs_background": "light"
     },
     "output_type": "display_data"
    }
   ],
   "source": [
    "data_ultra.plot(y = 'distance', kind = 'hist', bins = 30, range = (1,7300), grid=True, figsize = (5,3),title = 'Distance of rides, Ultra users').set_xlabel(\"distance, m\")\n",
    "data_ultra['distance']"
   ]
  },
  {
   "cell_type": "code",
   "execution_count": 19,
   "id": "db48d4de",
   "metadata": {},
   "outputs": [
    {
     "data": {
      "text/plain": [
       "Text(0.5, 0, 'duration, min')"
      ]
     },
     "execution_count": 19,
     "metadata": {},
     "output_type": "execute_result"
    },
    {
     "data": {
      "image/png": "[encoded data removed]",
      "text/plain": [
       "<Figure size 360x216 with 1 Axes>"
      ]
     },
     "metadata": {
      "needs_background": "light"
     },
     "output_type": "display_data"
    }
   ],
   "source": [
    "data_ultra.plot(y = 'duration', kind = 'hist', bins = 30, range = (1,41), grid=True, figsize = (5,3),title = 'Duration of rides, Ultra users').set_xlabel(\"duration, min\")"
   ]
  },
  {
   "cell_type": "code",
   "execution_count": 20,
   "id": "b9a9c854",
   "metadata": {},
   "outputs": [
    {
     "data": {
      "text/plain": [
       "Text(0.5, 0, 'distance, m')"
      ]
     },
     "execution_count": 20,
     "metadata": {},
     "output_type": "execute_result"
    },
    {
     "data": {
      "image/png": "[encoded data removed]",
      "text/plain": [
       "<Figure size 360x216 with 1 Axes>"
      ]
     },
     "metadata": {
      "needs_background": "light"
     },
     "output_type": "display_data"
    }
   ],
   "source": [
    "data_free.plot(y = 'distance', kind = 'hist', bins = 30, range = (1,7300), grid=True, figsize = (5,3),title = 'Distance of rides, Free users').set_xlabel(\"distance, m\")"
   ]
  },
  {
   "cell_type": "code",
   "execution_count": 21,
   "id": "c470d6e0",
   "metadata": {},
   "outputs": [
    {
     "data": {
      "text/plain": [
       "Text(0.5, 0, 'duration, min')"
      ]
     },
     "execution_count": 21,
     "metadata": {},
     "output_type": "execute_result"
    },
    {
     "data": {
      "image/png": "[encoded data removed]",
      "text/plain": [
       "<Figure size 360x216 with 1 Axes>"
      ]
     },
     "metadata": {
      "needs_background": "light"
     },
     "output_type": "display_data"
    }
   ],
   "source": [
    "data_free.plot(y = 'duration', kind = 'hist', bins = 30, range = (1,41), grid=True, figsize = (5,3),title = 'Duration of rides, Free users').set_xlabel(\"duration, min\")"
   ]
  },
  {
   "cell_type": "markdown",
   "id": "52c01f24",
   "metadata": {},
   "source": [
    "Вывод: среди пользователей без подписки наблюдается больший разборс значений по расстоянию и времени поездок."
   ]
  },
  {
   "cell_type": "code",
   "execution_count": 22,
   "id": "49b90414",
   "metadata": {},
   "outputs": [
    {
     "data": {
      "text/plain": [
       "Text(0.5, 0, 'distance, m')"
      ]
     },
     "execution_count": 22,
     "metadata": {},
     "output_type": "execute_result"
    },
    {
     "data": {
      "image/png": "[encoded data removed]",
      "text/plain": [
       "<Figure size 432x288 with 1 Axes>"
      ]
     },
     "metadata": {
      "needs_background": "light"
     },
     "output_type": "display_data"
    }
   ],
   "source": [
    "ax = data_free.plot(\n",
    "    kind='hist',\n",
    "    y='distance',\n",
    "    histtype='step',\n",
    "    range=(0, 8000),\n",
    "    bins=25,\n",
    "    linewidth=5,\n",
    "    alpha=0.7,\n",
    "    label='free',\n",
    ")\n",
    "data_ultra.plot(\n",
    "    kind='hist',\n",
    "    y='distance',\n",
    "    histtype='step',\n",
    "    range=(0, 8000),\n",
    "    bins=25,\n",
    "    linewidth=5,\n",
    "    alpha=0.7,\n",
    "    label='ultra',\n",
    "    ax=ax,\n",
    "    grid=True,\n",
    "    legend=True,\n",
    "    title='Distance if rides Free/Ultra').set_xlabel(\"distance, m\") "
   ]
  },
  {
   "cell_type": "code",
   "execution_count": 23,
   "id": "eb8c3805",
   "metadata": {},
   "outputs": [
    {
     "data": {
      "text/plain": [
       "Text(0.5, 0, 'duration, min')"
      ]
     },
     "execution_count": 23,
     "metadata": {},
     "output_type": "execute_result"
    },
    {
     "data": {
      "image/png": "[encoded data removed]",
      "text/plain": [
       "<Figure size 432x288 with 1 Axes>"
      ]
     },
     "metadata": {
      "needs_background": "light"
     },
     "output_type": "display_data"
    }
   ],
   "source": [
    "ax = data_free.plot(\n",
    "    kind='hist',\n",
    "    y='duration',\n",
    "    histtype='step',\n",
    "    range=(0, 40),\n",
    "    bins=25,\n",
    "    linewidth=5,\n",
    "    alpha=0.7,\n",
    "    label='free',\n",
    ")\n",
    "data_ultra.plot(\n",
    "    kind='hist',\n",
    "    y='duration',\n",
    "    histtype='step',\n",
    "    range=(0, 40),\n",
    "    bins=25,\n",
    "    linewidth=5,\n",
    "    alpha=0.7,\n",
    "    label='ultra',\n",
    "    ax=ax,\n",
    "    grid=True,\n",
    "    legend=True,\n",
    "    title='Duration if rides Free/Ultra').set_xlabel(\"duration, min\") "
   ]
  },
  {
   "cell_type": "code",
   "execution_count": 24,
   "id": "9cf74387",
   "metadata": {},
   "outputs": [
    {
     "data": {
      "image/png": "[encoded data removed]",
      "text/plain": [
       "<Figure size 432x288 with 1 Axes>"
      ]
     },
     "metadata": {
      "needs_background": "light"
     },
     "output_type": "display_data"
    }
   ],
   "source": [
    "bins = np.linspace(0, 40)\n",
    "\n",
    "plt.hist(data_free['duration'], bins, alpha=0.5, label='free')\n",
    "plt.hist(data_ultra['duration'], bins, alpha=0.5, label='ultra')\n",
    "plt.legend(loc='upper right')\n",
    "plt.show()"
   ]
  },
  {
   "cell_type": "code",
   "execution_count": 25,
   "id": "e1782445",
   "metadata": {},
   "outputs": [
    {
     "data": {
      "image/png": "[encoded data removed]",
      "text/plain": [
       "<Figure size 432x288 with 1 Axes>"
      ]
     },
     "metadata": {
      "needs_background": "light"
     },
     "output_type": "display_data"
    }
   ],
   "source": [
    "bins = np.linspace(0, 8000)\n",
    "\n",
    "plt.hist(data_free['distance'], bins, alpha=0.5, label='free')\n",
    "plt.hist(data_ultra['distance'], bins, alpha=0.5, label='ultra')\n",
    "plt.legend(loc='upper right')\n",
    "plt.show()"
   ]
  },
  {
   "cell_type": "markdown",
   "id": "a295429e",
   "metadata": {},
   "source": [
    "<div class=\"alert alert-success\">\n",
    "<b>✔️ Комментарий ревьюера v1:</b>\n",
    "<br>Вывод верный!\n",
    "</div>\n",
    "\n",
    "<div class=\"alert alert-warning\">\n",
    "<b>⚠️ Комментарий ревьюера v1:</b> \n",
    "<br>Здесь можно было бы наложить графики распределений друг на друга, чтобы их было проще сравнить друг с другом\n",
    "</div>"
   ]
  },
  {
   "cell_type": "markdown",
   "id": "b8bd6c47",
   "metadata": {},
   "source": [
    "<div class=\"alert alert-info\">\n",
    "<b>Комментарий студента:</b>\n",
    "<br>Наложила графики друг на друга, сначала сделала в matplotlib, потом переделала в pandas, вроде и так и так примерно одинаково выглядит\n",
    "</div>"
   ]
  },
  {
   "cell_type": "markdown",
   "id": "3ce9facd",
   "metadata": {},
   "source": [
    "<div class=\"alert alert-success\">\n",
    "<b>✔️ Комментарий ревьюера v2:</b>\n",
    "<br>Красота!\n",
    "</div>"
   ]
  },
  {
   "cell_type": "markdown",
   "id": "402d620f",
   "metadata": {},
   "source": [
    "#### Шаг 5. Подсчёт выручки"
   ]
  },
  {
   "cell_type": "markdown",
   "id": "c53b3665",
   "metadata": {},
   "source": [
    "5.1 Создайте датафрейм с агрегированными данными о поездках на основе датафрейма с объединёнными данными из шага 4: найдите суммарное расстояние, количество поездок и суммарное время для каждого пользователя за каждый месяц."
   ]
  },
  {
   "cell_type": "code",
   "execution_count": 26,
   "id": "33983ec5",
   "metadata": {},
   "outputs": [
    {
     "data": {
      "text/html": [
       "<div>\n",
       "<style scoped>\n",
       "    .dataframe tbody tr th:only-of-type {\n",
       "        vertical-align: middle;\n",
       "    }\n",
       "\n",
       "    .dataframe tbody tr th {\n",
       "        vertical-align: top;\n",
       "    }\n",
       "\n",
       "    .dataframe thead th {\n",
       "        text-align: right;\n",
       "    }\n",
       "</style>\n",
       "<table border=\"1\" class=\"dataframe\">\n",
       "  <thead>\n",
       "    <tr style=\"text-align: right;\">\n",
       "      <th></th>\n",
       "      <th></th>\n",
       "      <th>age</th>\n",
       "      <th>distance</th>\n",
       "      <th>duration</th>\n",
       "      <th>minute_price</th>\n",
       "      <th>start_ride_price</th>\n",
       "      <th>subscription_fee</th>\n",
       "      <th>count</th>\n",
       "    </tr>\n",
       "    <tr>\n",
       "      <th>user_id</th>\n",
       "      <th>month</th>\n",
       "      <th></th>\n",
       "      <th></th>\n",
       "      <th></th>\n",
       "      <th></th>\n",
       "      <th></th>\n",
       "      <th></th>\n",
       "      <th></th>\n",
       "    </tr>\n",
       "  </thead>\n",
       "  <tbody>\n",
       "    <tr>\n",
       "      <th rowspan=\"5\" valign=\"top\">1</th>\n",
       "      <th>1</th>\n",
       "      <td>22</td>\n",
       "      <td>7027.511294</td>\n",
       "      <td>42.0</td>\n",
       "      <td>6</td>\n",
       "      <td>0</td>\n",
       "      <td>199</td>\n",
       "      <td>2</td>\n",
       "    </tr>\n",
       "    <tr>\n",
       "      <th>4</th>\n",
       "      <td>22</td>\n",
       "      <td>754.159807</td>\n",
       "      <td>7.0</td>\n",
       "      <td>6</td>\n",
       "      <td>0</td>\n",
       "      <td>199</td>\n",
       "      <td>1</td>\n",
       "    </tr>\n",
       "    <tr>\n",
       "      <th>8</th>\n",
       "      <td>22</td>\n",
       "      <td>6723.470560</td>\n",
       "      <td>45.0</td>\n",
       "      <td>6</td>\n",
       "      <td>0</td>\n",
       "      <td>199</td>\n",
       "      <td>2</td>\n",
       "    </tr>\n",
       "    <tr>\n",
       "      <th>10</th>\n",
       "      <td>22</td>\n",
       "      <td>5809.911100</td>\n",
       "      <td>32.0</td>\n",
       "      <td>6</td>\n",
       "      <td>0</td>\n",
       "      <td>199</td>\n",
       "      <td>2</td>\n",
       "    </tr>\n",
       "    <tr>\n",
       "      <th>11</th>\n",
       "      <td>22</td>\n",
       "      <td>7003.499363</td>\n",
       "      <td>54.0</td>\n",
       "      <td>6</td>\n",
       "      <td>0</td>\n",
       "      <td>199</td>\n",
       "      <td>3</td>\n",
       "    </tr>\n",
       "  </tbody>\n",
       "</table>\n",
       "</div>"
      ],
      "text/plain": [
       "               age     distance  duration  minute_price  start_ride_price  \\\n",
       "user_id month                                                               \n",
       "1       1       22  7027.511294      42.0             6                 0   \n",
       "        4       22   754.159807       7.0             6                 0   \n",
       "        8       22  6723.470560      45.0             6                 0   \n",
       "        10      22  5809.911100      32.0             6                 0   \n",
       "        11      22  7003.499363      54.0             6                 0   \n",
       "\n",
       "               subscription_fee  count  \n",
       "user_id month                           \n",
       "1       1                   199      2  \n",
       "        4                   199      1  \n",
       "        8                   199      2  \n",
       "        10                  199      2  \n",
       "        11                  199      3  "
      ]
     },
     "execution_count": 26,
     "metadata": {},
     "output_type": "execute_result"
    }
   ],
   "source": [
    "pivot_table_users = pd.pivot_table(data_all,index=[\"user_id\", \"month\"])\n",
    "pivot_table_users['duration'] = np.ceil(pivot_table_users['duration'])\n",
    "pivot_table1 = pd.pivot_table(data_all,index=[\"user_id\", \"month\"],values=['distance'],aggfunc = ['count','sum'])\n",
    "pivot_table_users['count'] = pivot_table1['count']\n",
    "pivot_table_users['distance'] = pivot_table1['sum']\n",
    "pivot_table2 = pd.pivot_table(data_all,index=[\"user_id\", \"month\"],values=['duration'],aggfunc = ['sum'])\n",
    "pivot_table_users['duration'] = pivot_table2['sum']\n",
    "pivot_table_users['duration'] = np.ceil(pivot_table_users['duration'])\n",
    "pivot_table_users.head()"
   ]
  },
  {
   "cell_type": "markdown",
   "id": "8d001e32",
   "metadata": {},
   "source": [
    "<div class=\"alert alert-danger\">\n",
    "<b>❌ Комментарий ревьюера v1:</b> \n",
    "<br>Датафрейм создан неверно. Сгруппируй данные по столбцам user_id и month, а уже после этого найди суммарное расстояние, количество поездок и суммарное время для каждого пользователя за каждый месяц.\n",
    "</div>"
   ]
  },
  {
   "cell_type": "markdown",
   "id": "7da0e697",
   "metadata": {},
   "source": [
    "<div class=\"alert alert-info\">\n",
    "<b>Комментарий студента:</b>\n",
    "<br>Поправила - по очереди добавила новые суммарные значения в столбцы, теперь по столбцам суммы времени и расстояния, код получился длинноватый, но, как короче сделать, не придумала)\n",
    "</div>"
   ]
  },
  {
   "cell_type": "markdown",
   "id": "d80c81f4",
   "metadata": {},
   "source": [
    "<div class=\"alert alert-success\">\n",
    "<b>✔️ Комментарий ревьюера v2:</b>\n",
    "<br>Отлично! Теперь всё верно)\n",
    "</div>"
   ]
  },
  {
   "cell_type": "markdown",
   "id": "62bce872",
   "metadata": {},
   "source": [
    "<div class=\"alert alert-danger\">\n",
    "<b>❌ Комментарий ревьюера v1:</b> \n",
    "<br>Также важно округлить длительность каждой поездки перед агрегацией данных по месяцам, так как это может повлиять на суммарную продолжительность поездок\n",
    "</div>"
   ]
  },
  {
   "cell_type": "markdown",
   "id": "67dc665d",
   "metadata": {},
   "source": [
    "<div class=\"alert alert-info\">\n",
    "<b>Комментарий студента:</b>\n",
    "<br>Переставила округление до подсчета выручки\n",
    "</div>"
   ]
  },
  {
   "cell_type": "markdown",
   "id": "f947a6ab",
   "metadata": {},
   "source": [
    "<div class=\"alert alert-warning\">\n",
    "<b>⚠️ Комментарий ревьюера v2:</b> \n",
    "<br>Округлить нужно было перед созданием сводной таблицы. \n",
    "</div>"
   ]
  },
  {
   "cell_type": "markdown",
   "id": "81a5e0d0",
   "metadata": {},
   "source": [
    "5.2 В этот же датафрейм добавьте столбец с помесячной выручкой, которую принёс каждый пользователь. Для этого обратитесь к информации об условиях оплаты для подписчиков и тех, у кого нет подписки. Продолжительность каждой поездки в каждой строке исходного датафрейма для подсчёта стоимости округляется до следующего целого числа."
   ]
  },
  {
   "cell_type": "code",
   "execution_count": 27,
   "id": "4f0f6215",
   "metadata": {},
   "outputs": [
    {
     "data": {
      "text/html": [
       "<div>\n",
       "<style scoped>\n",
       "    .dataframe tbody tr th:only-of-type {\n",
       "        vertical-align: middle;\n",
       "    }\n",
       "\n",
       "    .dataframe tbody tr th {\n",
       "        vertical-align: top;\n",
       "    }\n",
       "\n",
       "    .dataframe thead th {\n",
       "        text-align: right;\n",
       "    }\n",
       "</style>\n",
       "<table border=\"1\" class=\"dataframe\">\n",
       "  <thead>\n",
       "    <tr style=\"text-align: right;\">\n",
       "      <th></th>\n",
       "      <th></th>\n",
       "      <th>age</th>\n",
       "      <th>distance</th>\n",
       "      <th>duration</th>\n",
       "      <th>minute_price</th>\n",
       "      <th>start_ride_price</th>\n",
       "      <th>subscription_fee</th>\n",
       "      <th>count</th>\n",
       "      <th>revenue</th>\n",
       "    </tr>\n",
       "    <tr>\n",
       "      <th>user_id</th>\n",
       "      <th>month</th>\n",
       "      <th></th>\n",
       "      <th></th>\n",
       "      <th></th>\n",
       "      <th></th>\n",
       "      <th></th>\n",
       "      <th></th>\n",
       "      <th></th>\n",
       "      <th></th>\n",
       "    </tr>\n",
       "  </thead>\n",
       "  <tbody>\n",
       "    <tr>\n",
       "      <th rowspan=\"5\" valign=\"top\">1</th>\n",
       "      <th>1</th>\n",
       "      <td>22</td>\n",
       "      <td>7027.511294</td>\n",
       "      <td>42.0</td>\n",
       "      <td>6</td>\n",
       "      <td>0</td>\n",
       "      <td>199</td>\n",
       "      <td>2</td>\n",
       "      <td>451.0</td>\n",
       "    </tr>\n",
       "    <tr>\n",
       "      <th>4</th>\n",
       "      <td>22</td>\n",
       "      <td>754.159807</td>\n",
       "      <td>7.0</td>\n",
       "      <td>6</td>\n",
       "      <td>0</td>\n",
       "      <td>199</td>\n",
       "      <td>1</td>\n",
       "      <td>241.0</td>\n",
       "    </tr>\n",
       "    <tr>\n",
       "      <th>8</th>\n",
       "      <td>22</td>\n",
       "      <td>6723.470560</td>\n",
       "      <td>45.0</td>\n",
       "      <td>6</td>\n",
       "      <td>0</td>\n",
       "      <td>199</td>\n",
       "      <td>2</td>\n",
       "      <td>469.0</td>\n",
       "    </tr>\n",
       "    <tr>\n",
       "      <th>10</th>\n",
       "      <td>22</td>\n",
       "      <td>5809.911100</td>\n",
       "      <td>32.0</td>\n",
       "      <td>6</td>\n",
       "      <td>0</td>\n",
       "      <td>199</td>\n",
       "      <td>2</td>\n",
       "      <td>391.0</td>\n",
       "    </tr>\n",
       "    <tr>\n",
       "      <th>11</th>\n",
       "      <td>22</td>\n",
       "      <td>7003.499363</td>\n",
       "      <td>54.0</td>\n",
       "      <td>6</td>\n",
       "      <td>0</td>\n",
       "      <td>199</td>\n",
       "      <td>3</td>\n",
       "      <td>523.0</td>\n",
       "    </tr>\n",
       "  </tbody>\n",
       "</table>\n",
       "</div>"
      ],
      "text/plain": [
       "               age     distance  duration  minute_price  start_ride_price  \\\n",
       "user_id month                                                               \n",
       "1       1       22  7027.511294      42.0             6                 0   \n",
       "        4       22   754.159807       7.0             6                 0   \n",
       "        8       22  6723.470560      45.0             6                 0   \n",
       "        10      22  5809.911100      32.0             6                 0   \n",
       "        11      22  7003.499363      54.0             6                 0   \n",
       "\n",
       "               subscription_fee  count  revenue  \n",
       "user_id month                                    \n",
       "1       1                   199      2    451.0  \n",
       "        4                   199      1    241.0  \n",
       "        8                   199      2    469.0  \n",
       "        10                  199      2    391.0  \n",
       "        11                  199      3    523.0  "
      ]
     },
     "execution_count": 27,
     "metadata": {},
     "output_type": "execute_result"
    }
   ],
   "source": [
    "\n",
    "pivot_table_users['revenue'] = pivot_table_users['duration']*pivot_table_users['minute_price']+pivot_table_users['start_ride_price']*pivot_table_users['count']+pivot_table_users['subscription_fee']\n",
    "pivot_table_users.head()"
   ]
  },
  {
   "cell_type": "markdown",
   "id": "1bab6ac2",
   "metadata": {},
   "source": [
    "Вывод: мы создали агрегированную таблицу с данными по пользователям в месяц, а также с расчетом помесячной выручки от каждого пользователя"
   ]
  },
  {
   "cell_type": "markdown",
   "id": "41545ac0",
   "metadata": {},
   "source": [
    "#### Шаг 6. Проверка гипотез"
   ]
  },
  {
   "cell_type": "markdown",
   "id": "ba9b89bf",
   "metadata": {},
   "source": [
    "6.1 Важно понять, тратят ли пользователи с подпиской больше времени на поездки? Если да, то пользователи с подпиской могут быть «выгоднее» для компании. Проверьте гипотезу. Используйте исходные данные о продолжительности каждой сессии — отдельно для подписчиков и тех, у кого нет подписки."
   ]
  },
  {
   "cell_type": "markdown",
   "id": "40d208a0",
   "metadata": {},
   "source": [
    "Нулевая гипотеза: средние значения продолжительности поездок пользователей из двух групп равны.\n",
    "Альтернативная гипотеза: среднее значение продолжительности поездок пользователей с подпиской больше, чем среднее значение пользователей без подписки"
   ]
  },
  {
   "cell_type": "markdown",
   "id": "6259db11",
   "metadata": {},
   "source": [
    "<div class=\"alert alert-success\">\n",
    "<b>✔️ Комментарий ревьюера v1:</b>\n",
    "<br>Гипотезы сформулированы верно\n",
    "</div>"
   ]
  },
  {
   "cell_type": "code",
   "execution_count": 28,
   "id": "8d4b801f",
   "metadata": {},
   "outputs": [
    {
     "name": "stdout",
     "output_type": "stream",
     "text": [
      "p-значение: 1.2804098316645618e-34\n",
      "Отвергаем нулевую гипотезу\n"
     ]
    }
   ],
   "source": [
    "\n",
    "alpha = 0.05\n",
    "\n",
    "results = st.ttest_ind(data_ultra['duration'], data_free['duration'], alternative='greater')\n",
    "\n",
    "print('p-значение:', results.pvalue)\n",
    "\n",
    "if results.pvalue < alpha:\n",
    "    print('Отвергаем нулевую гипотезу')\n",
    "else:\n",
    "    print('Не получилось отвергнуть нулевую гипотезу') "
   ]
  },
  {
   "cell_type": "markdown",
   "id": "3754aef2",
   "metadata": {},
   "source": [
    "Вывод: Пользователи с подпиской тратят больше врмени на поездки, чем пользователи без подписки."
   ]
  },
  {
   "cell_type": "markdown",
   "id": "644ec4b7",
   "metadata": {},
   "source": [
    "<div class=\"alert alert-success\">\n",
    "<b>✔️ Комментарий ревьюера v1:</b>\n",
    "<br>Вывод верный\n",
    "</div>"
   ]
  },
  {
   "cell_type": "markdown",
   "id": "bd12a610",
   "metadata": {},
   "source": [
    "6.2 Расстояние одной поездки в 3130 метров — оптимальное с точки зрения износа самоката. Можно ли сказать, что среднее расстояние, которое проезжают пользователи с подпиской за одну поездку, не превышает 3130 метров? Проверьте гипотезу и сделайте выводы."
   ]
  },
  {
   "cell_type": "markdown",
   "id": "5036360a",
   "metadata": {},
   "source": [
    "Нулевая гипотеза: среднее расстояние одной поездки равно 3130.\n",
    "Альтернативная гипотеза: среднее расстояние одной поездки больше 3130."
   ]
  },
  {
   "cell_type": "markdown",
   "id": "61111214",
   "metadata": {},
   "source": [
    "<div class=\"alert alert-success\">\n",
    "<b>✔️ Комментарий ревьюера v1:</b>\n",
    "<br>Гипотезы сформулированы верно\n",
    "</div>"
   ]
  },
  {
   "cell_type": "code",
   "execution_count": 29,
   "id": "76cf48ef",
   "metadata": {},
   "outputs": [
    {
     "name": "stdout",
     "output_type": "stream",
     "text": [
      "p-значение: 0.9195368847849785\n",
      "Не получилось отвергнуть нулевую гипотезу: Расстояние одной поездки на уровне запланированных показателей\n"
     ]
    }
   ],
   "source": [
    "interested_value = 3130 \n",
    "alpha = 0.05 \n",
    "results_mean = st.ttest_1samp(data_ultra['distance'], interested_value,\n",
    "      alternative='greater')\n",
    "\n",
    "print('p-значение:', results_mean.pvalue) \n",
    "\n",
    "if (results_mean.pvalue < alpha): \n",
    "    print('Отвергаем нулевую гипотезу: Расстояние одной поездки значимо больше 3130')\n",
    "else:\n",
    "    print('Не получилось отвергнуть нулевую гипотезу: Расстояние одной поездки на уровне запланированных показателей')"
   ]
  },
  {
   "cell_type": "markdown",
   "id": "d9a6a48d",
   "metadata": {},
   "source": [
    "Вывод: Пользователи с подпиской проезжают не более 3130 м за одну сессию."
   ]
  },
  {
   "cell_type": "markdown",
   "id": "d240369a",
   "metadata": {},
   "source": [
    "<div class=\"alert alert-success\">\n",
    "<b>✔️ Комментарий ревьюера v1:</b>\n",
    "<br>Вывод верный\n",
    "</div>"
   ]
  },
  {
   "cell_type": "markdown",
   "id": "0612bcb8",
   "metadata": {},
   "source": [
    "6.3 Проверьте гипотезу о том, будет ли помесячная выручка от пользователей с подпиской по месяцам выше, чем выручка от пользователей без подписки. "
   ]
  },
  {
   "cell_type": "markdown",
   "id": "89136c6a",
   "metadata": {},
   "source": [
    "Нулевая гипотеза: средние значения выручки от пользователей из двух групп равны. Альтернативная гипотеза: среднее значение выручки от пользователей с подпиской больше, чем среднее значение пользователей без подписки"
   ]
  },
  {
   "cell_type": "markdown",
   "id": "6aa0956b",
   "metadata": {},
   "source": [
    "<div class=\"alert alert-success\">\n",
    "<b>✔️ Комментарий ревьюера v1:</b>\n",
    "<br>Гипотезы сформулированы верно\n",
    "</div>"
   ]
  },
  {
   "cell_type": "code",
   "execution_count": 30,
   "id": "67c7e9bc",
   "metadata": {},
   "outputs": [
    {
     "name": "stdout",
     "output_type": "stream",
     "text": [
      "p-значение: 2.8130926188487286e-35\n",
      "Отвергаем нулевую гипотезу\n"
     ]
    }
   ],
   "source": [
    "pivot_table_ultra = pivot_table_users.query('subscription_fee==199')\n",
    "pivot_table_free = pivot_table_users.query('subscription_fee!=199')\n",
    "\n",
    "alpha = 0.05\n",
    "\n",
    "results_rev = st.ttest_ind(pivot_table_ultra['revenue'], pivot_table_free['revenue'], alternative='greater')\n",
    "\n",
    "print('p-значение:', results_rev.pvalue)\n",
    "\n",
    "if results_rev.pvalue < alpha:\n",
    "    print('Отвергаем нулевую гипотезу')\n",
    "else:\n",
    "    print('Не получилось отвергнуть нулевую гипотезу')  "
   ]
  },
  {
   "cell_type": "markdown",
   "id": "c913d3ff",
   "metadata": {},
   "source": [
    "Вывод: выручка больше от пользоватетелей с подпиской"
   ]
  },
  {
   "cell_type": "markdown",
   "id": "74473104",
   "metadata": {},
   "source": [
    "<div class=\"alert alert-danger\">\n",
    "<b>❌ Комментарий ревьюера v1:</b> \n",
    "<br>Не забудь перепроверить вывод, после корректной агрегации таблицы. P-value должен изменится\n",
    "</div>"
   ]
  },
  {
   "cell_type": "markdown",
   "id": "0fb840bd",
   "metadata": {},
   "source": [
    "<div class=\"alert alert-info\">\n",
    "<b>Комментарий студента:</b>\n",
    "<br>Значение изменилось, а вывод тот же\n",
    "</div>"
   ]
  },
  {
   "cell_type": "markdown",
   "id": "9ecb9ff4",
   "metadata": {},
   "source": [
    "<div class=\"alert alert-success\">\n",
    "<b>✔️ Комментарий ревьюера v2:</b>\n",
    "<br>Правка выполнена 👍\n",
    "</div>"
   ]
  },
  {
   "cell_type": "markdown",
   "id": "c03765b3",
   "metadata": {},
   "source": [
    "6.4 Представьте такую ситуацию: техническая команда сервиса обновила сервера, с которыми взаимодействует мобильное приложение. Она надеется, что из-за этого количество обращений в техподдержку значимо снизилось. Некоторый файл содержит для каждого пользователя данные о количестве обращений до обновления и после него. Какой тест вам понадобился бы для проверки этой гипотезы?"
   ]
  },
  {
   "cell_type": "markdown",
   "id": "375de406",
   "metadata": {},
   "source": [
    "Ответ: нам понадобится тест st.ttest_rel, который проверяет равеноство средних для зависимых (парных) выборок. "
   ]
  },
  {
   "cell_type": "markdown",
   "id": "34dfe059",
   "metadata": {},
   "source": [
    "<div class=\"alert alert-success\">\n",
    "<b>✔️ Комментарий ревьюера v1:</b>\n",
    "<br>Метод выбран верно!\n",
    "</div>"
   ]
  },
  {
   "cell_type": "markdown",
   "id": "67ac439f",
   "metadata": {},
   "source": [
    "Вывод: в ходе исследования мы:\n",
    "1) Проанализировали импортируемые данные по количеству строк, наличию пропусков, дубликатов, типов значений по столбцам. Обнаружили дубликаты в одной таблице и удалили их, а также изменили тип данных для даты.\n",
    "\n",
    "2) Далее мы проанализировали общую информацию о пользователях и поездках: распределение по городам равномерное, пользователей без подписки немного больше, чем пользователей с подпиской, поездки в среднем занимают 10-30 минут, расстояние 2-5 км.\n",
    "\n",
    "3) Мы рассмотрели отличия полученных данных для пользователей с подпиской и без подписки: наблюдается больший разброс расстояния и времени поездок для пользователей без подписки.\n",
    "\n",
    "4) Далее мы посчитали выручку от пользователей в месяц и выяснили, что пользователи с подпиской тратят в среднем больше времени на поездки, а также пользователи с подпиской проезжают не более 3130 м за одну сессию, средняя выручка от пользователя с подпиской больше, чем от бесплатных пользователей.\n",
    "\n",
    "5) Таким образом, пользователи с подпиской склонны больше времени тратить на поездки, при этом среднее расстояние поездки не превышает оптимального значения для износа самокатов и такие пользователи приносят компании больше выручки, поэтому именно пользователи с подпиской являются более выгодными клиентами для компании."
   ]
  },
  {
   "cell_type": "markdown",
   "id": "61213c5e",
   "metadata": {},
   "source": [
    "#### Шаг 7. Распределения"
   ]
  },
  {
   "cell_type": "markdown",
   "id": "b48fdccf",
   "metadata": {},
   "source": [
    "<div class=\"alert alert-danger\">\n",
    "<b>❌ Комментарий ревьюера v1:</b> \n",
    "<br>Обязательно нужно написать общий вывод после проделанной работы. Хорошей практикой является написание в общем выводе всех твоих действий (кратко) по проекту. А после этого нужно написать общий вывод использую информацию из промежуточных выводов после каждого раздела. В нашем исследовании основной вопрос это \"Являются ли подписчики более выгодными для компании?\"  Не забудь ответить на него\n",
    "</div>"
   ]
  },
  {
   "cell_type": "markdown",
   "id": "3bf2bc3b",
   "metadata": {},
   "source": [
    "<div class=\"alert alert-info\">\n",
    "<b>Комментарий студента:</b>\n",
    "<br>Добавила вывод выше\n",
    "</div>"
   ]
  },
  {
   "cell_type": "markdown",
   "id": "b41509df",
   "metadata": {},
   "source": [
    "<div class=\"alert alert-success\">\n",
    "<b>✔️ Комментарий ревьюера v2:</b>\n",
    "<br>Правка выполнена 👍 Не забывай писать вывод в конце каждого проекта\n",
    "</div>"
   ]
  },
  {
   "cell_type": "markdown",
   "id": "fafd3759",
   "metadata": {},
   "source": [
    "<div class=\"alert alert-danger\">\n",
    "<b>❌ Итоговый комментарий ревьюера v1:</b> \n",
    "<br>Необходимо поправить:\n",
    "<br>- добавить описание задачи в начале проекта\n",
    "<br>- написать вывод после первичного анализа данных\n",
    "<br>- найти и удалить дубликаты\n",
    "<br>- добавить таблицу частотности городов в задании 3.1\n",
    "<br>- проверить наличие подписей у каждого графика\n",
    "<br>- проверить наличие вывода после каждого раздела\n",
    "<br>- корректно создать датафрейм с агрегированными данными\n",
    "<br>- провести округление до агрегации по месяцам\n",
    "<br>- перепроверить p-value в третьей гипотезе\n",
    "<br>- написать общий вывод\n",
    "\n",
    "<br>После всех внесённых правок не забудь поправить выводы там, где это необходимо\n",
    "</div>\n"
   ]
  },
  {
   "cell_type": "markdown",
   "id": "10a0a6c2",
   "metadata": {},
   "source": [
    "<div class=\"alert alert-info\">\n",
    "<b>Комментарий студента:</b>\n",
    "<br>Все исправила\n",
    "</div>"
   ]
  },
  {
   "cell_type": "markdown",
   "id": "04a985d5",
   "metadata": {},
   "source": [
    "<div class=\"alert alert-success\">\n",
    "<b>✔️ Итоговый комментарий ревьюера v2:</b>\n",
    "<br>Все правки выполнены. Молодец!\n",
    "<br>Я рад был поработать над проверкой твоей работы) В качестве дополнительного материала для изучения могу порекомендовать следующие материалы:\n",
    "\n",
    "    Курс \"Вероятность и статистика\" | Глеб Михайлов (free): https://www.youtube.com/playlist?list=PLQJ7ptkRY-xbHLLI66KdscKp_FJt0FsIi\n",
    "\n",
    "    Методы обнаружения выбросов: https://youtu.be/TOK7Kq7x0yc\n",
    "\n",
    "<br>Поздравляю со сдачей проекта и желаю удачи в дальнейшем обучении! 😉    \n",
    "</div>"
   ]
  }
 ],
 "metadata": {
  "ExecuteTimeLog": [
   {
    "duration": 499,
    "start_time": "2023-11-12T21:42:46.673Z"
   },
   {
    "duration": 35,
    "start_time": "2023-11-12T21:42:55.633Z"
   },
   {
    "duration": 34,
    "start_time": "2023-11-12T21:44:02.583Z"
   },
   {
    "duration": 2,
    "start_time": "2023-11-12T21:44:28.973Z"
   },
   {
    "duration": 35,
    "start_time": "2023-11-12T21:44:35.091Z"
   },
   {
    "duration": 34,
    "start_time": "2023-11-12T21:44:53.565Z"
   },
   {
    "duration": 86,
    "start_time": "2023-11-12T21:46:09.708Z"
   },
   {
    "duration": 69,
    "start_time": "2023-11-12T21:46:23.921Z"
   },
   {
    "duration": 17,
    "start_time": "2023-11-12T21:52:01.326Z"
   },
   {
    "duration": 47,
    "start_time": "2023-11-12T21:53:59.462Z"
   },
   {
    "duration": 8,
    "start_time": "2023-11-12T22:00:22.512Z"
   },
   {
    "duration": 16,
    "start_time": "2023-11-12T22:02:45.326Z"
   },
   {
    "duration": 1325,
    "start_time": "2023-11-12T22:06:46.150Z"
   },
   {
    "duration": 15,
    "start_time": "2023-11-12T22:07:23.322Z"
   },
   {
    "duration": 12,
    "start_time": "2023-11-12T22:09:58.106Z"
   },
   {
    "duration": 546,
    "start_time": "2023-11-12T22:19:58.871Z"
   },
   {
    "duration": 11,
    "start_time": "2023-11-12T22:24:02.058Z"
   },
   {
    "duration": 22,
    "start_time": "2023-11-12T22:24:49.480Z"
   },
   {
    "duration": 98,
    "start_time": "2023-11-12T22:26:27.641Z"
   },
   {
    "duration": 148,
    "start_time": "2023-11-12T22:28:38.412Z"
   },
   {
    "duration": 197,
    "start_time": "2023-11-12T22:28:47.564Z"
   },
   {
    "duration": 149,
    "start_time": "2023-11-12T22:29:15.990Z"
   },
   {
    "duration": 157,
    "start_time": "2023-11-12T22:32:49.741Z"
   },
   {
    "duration": 178,
    "start_time": "2023-11-12T22:33:05.150Z"
   },
   {
    "duration": 159,
    "start_time": "2023-11-12T22:33:18.995Z"
   },
   {
    "duration": 176,
    "start_time": "2023-11-12T22:35:41.168Z"
   },
   {
    "duration": 165,
    "start_time": "2023-11-12T22:35:55.721Z"
   },
   {
    "duration": 17,
    "start_time": "2023-11-12T22:43:33.082Z"
   },
   {
    "duration": 24,
    "start_time": "2023-11-12T22:44:48.984Z"
   },
   {
    "duration": 23,
    "start_time": "2023-11-12T22:47:40.263Z"
   },
   {
    "duration": 14,
    "start_time": "2023-11-12T22:48:09.082Z"
   },
   {
    "duration": 14,
    "start_time": "2023-11-12T22:48:33.600Z"
   },
   {
    "duration": 154,
    "start_time": "2023-11-12T22:53:19.910Z"
   },
   {
    "duration": 155,
    "start_time": "2023-11-12T22:53:23.206Z"
   },
   {
    "duration": 154,
    "start_time": "2023-11-12T22:53:26.039Z"
   },
   {
    "duration": 162,
    "start_time": "2023-11-12T22:53:28.401Z"
   },
   {
    "duration": 56,
    "start_time": "2023-11-13T08:27:11.890Z"
   },
   {
    "duration": 7,
    "start_time": "2023-11-13T08:27:24.807Z"
   },
   {
    "duration": 444,
    "start_time": "2023-11-13T08:27:33.213Z"
   },
   {
    "duration": 91,
    "start_time": "2023-11-13T08:27:34.887Z"
   },
   {
    "duration": 96,
    "start_time": "2023-11-13T08:27:35.966Z"
   },
   {
    "duration": 68,
    "start_time": "2023-11-13T08:27:36.798Z"
   },
   {
    "duration": 24,
    "start_time": "2023-11-13T08:27:38.866Z"
   },
   {
    "duration": 16,
    "start_time": "2023-11-13T08:27:40.300Z"
   },
   {
    "duration": 20,
    "start_time": "2023-11-13T08:27:41.526Z"
   },
   {
    "duration": 662,
    "start_time": "2023-11-13T08:27:44.449Z"
   },
   {
    "duration": 124,
    "start_time": "2023-11-13T08:27:46.687Z"
   },
   {
    "duration": 198,
    "start_time": "2023-11-13T08:27:48.484Z"
   },
   {
    "duration": 204,
    "start_time": "2023-11-13T08:27:50.512Z"
   },
   {
    "duration": 270,
    "start_time": "2023-11-13T08:27:52.494Z"
   },
   {
    "duration": 26,
    "start_time": "2023-11-13T08:27:54.973Z"
   },
   {
    "duration": 19,
    "start_time": "2023-11-13T08:27:56.327Z"
   },
   {
    "duration": 16,
    "start_time": "2023-11-13T08:27:58.415Z"
   },
   {
    "duration": 207,
    "start_time": "2023-11-13T08:28:00.108Z"
   },
   {
    "duration": 198,
    "start_time": "2023-11-13T08:28:00.774Z"
   },
   {
    "duration": 191,
    "start_time": "2023-11-13T08:28:01.463Z"
   },
   {
    "duration": 211,
    "start_time": "2023-11-13T08:28:02.200Z"
   },
   {
    "duration": 68,
    "start_time": "2023-11-13T08:28:04.964Z"
   },
   {
    "duration": 48,
    "start_time": "2023-11-13T08:29:19.143Z"
   },
   {
    "duration": 20,
    "start_time": "2023-11-13T08:31:25.485Z"
   },
   {
    "duration": 19,
    "start_time": "2023-11-13T08:31:46.762Z"
   },
   {
    "duration": 18,
    "start_time": "2023-11-13T08:32:45.841Z"
   },
   {
    "duration": 51,
    "start_time": "2023-11-13T08:37:31.401Z"
   },
   {
    "duration": 434,
    "start_time": "2023-11-13T08:37:47.435Z"
   },
   {
    "duration": 90,
    "start_time": "2023-11-13T08:37:48.924Z"
   },
   {
    "duration": 83,
    "start_time": "2023-11-13T08:37:49.556Z"
   },
   {
    "duration": 67,
    "start_time": "2023-11-13T08:37:49.856Z"
   },
   {
    "duration": 24,
    "start_time": "2023-11-13T08:37:50.364Z"
   },
   {
    "duration": 24,
    "start_time": "2023-11-13T08:37:50.681Z"
   },
   {
    "duration": 20,
    "start_time": "2023-11-13T08:37:51.033Z"
   },
   {
    "duration": 704,
    "start_time": "2023-11-13T08:37:51.857Z"
   },
   {
    "duration": 150,
    "start_time": "2023-11-13T08:37:52.563Z"
   },
   {
    "duration": 191,
    "start_time": "2023-11-13T08:37:52.815Z"
   },
   {
    "duration": 188,
    "start_time": "2023-11-13T08:37:53.296Z"
   },
   {
    "duration": 261,
    "start_time": "2023-11-13T08:37:53.800Z"
   },
   {
    "duration": 27,
    "start_time": "2023-11-13T08:37:54.437Z"
   },
   {
    "duration": 18,
    "start_time": "2023-11-13T08:37:54.764Z"
   },
   {
    "duration": 16,
    "start_time": "2023-11-13T08:37:54.929Z"
   },
   {
    "duration": 189,
    "start_time": "2023-11-13T08:37:55.293Z"
   },
   {
    "duration": 203,
    "start_time": "2023-11-13T08:37:55.487Z"
   },
   {
    "duration": 202,
    "start_time": "2023-11-13T08:37:55.692Z"
   },
   {
    "duration": 193,
    "start_time": "2023-11-13T08:37:55.896Z"
   },
   {
    "duration": 1471,
    "start_time": "2023-11-13T08:37:56.521Z"
   },
   {
    "duration": 20,
    "start_time": "2023-11-13T08:38:22.307Z"
   },
   {
    "duration": 445,
    "start_time": "2023-11-13T08:52:09.381Z"
   },
   {
    "duration": 89,
    "start_time": "2023-11-13T08:52:11.360Z"
   },
   {
    "duration": 90,
    "start_time": "2023-11-13T08:52:12.357Z"
   },
   {
    "duration": 80,
    "start_time": "2023-11-13T08:52:13.044Z"
   },
   {
    "duration": 22,
    "start_time": "2023-11-13T08:52:14.203Z"
   },
   {
    "duration": 16,
    "start_time": "2023-11-13T08:52:14.927Z"
   },
   {
    "duration": 18,
    "start_time": "2023-11-13T08:52:15.695Z"
   },
   {
    "duration": 684,
    "start_time": "2023-11-13T08:52:18.141Z"
   },
   {
    "duration": 124,
    "start_time": "2023-11-13T08:52:20.014Z"
   },
   {
    "duration": 180,
    "start_time": "2023-11-13T08:52:21.135Z"
   },
   {
    "duration": 191,
    "start_time": "2023-11-13T08:52:22.591Z"
   },
   {
    "duration": 261,
    "start_time": "2023-11-13T08:52:24.005Z"
   },
   {
    "duration": 29,
    "start_time": "2023-11-13T08:52:27.190Z"
   },
   {
    "duration": 19,
    "start_time": "2023-11-13T08:52:28.970Z"
   },
   {
    "duration": 16,
    "start_time": "2023-11-13T08:52:31.129Z"
   },
   {
    "duration": 183,
    "start_time": "2023-11-13T08:52:32.451Z"
   },
   {
    "duration": 189,
    "start_time": "2023-11-13T08:52:33.194Z"
   },
   {
    "duration": 184,
    "start_time": "2023-11-13T08:52:33.745Z"
   },
   {
    "duration": 185,
    "start_time": "2023-11-13T08:52:34.192Z"
   },
   {
    "duration": 1709,
    "start_time": "2023-11-13T08:52:47.858Z"
   },
   {
    "duration": 18,
    "start_time": "2023-11-13T08:53:23.229Z"
   },
   {
    "duration": 20,
    "start_time": "2023-11-13T08:54:26.961Z"
   },
   {
    "duration": 14,
    "start_time": "2023-11-13T08:55:14.475Z"
   },
   {
    "duration": 18,
    "start_time": "2023-11-13T08:55:22.570Z"
   },
   {
    "duration": 30,
    "start_time": "2023-11-13T08:56:14.363Z"
   },
   {
    "duration": 28,
    "start_time": "2023-11-13T08:57:00.051Z"
   },
   {
    "duration": 96,
    "start_time": "2023-11-13T08:58:31.463Z"
   },
   {
    "duration": 1338,
    "start_time": "2023-11-13T08:58:54.578Z"
   },
   {
    "duration": 29,
    "start_time": "2023-11-13T08:59:11.311Z"
   },
   {
    "duration": 27,
    "start_time": "2023-11-13T08:59:21.353Z"
   },
   {
    "duration": 26,
    "start_time": "2023-11-13T08:59:27.931Z"
   },
   {
    "duration": 14,
    "start_time": "2023-11-13T09:11:47.915Z"
   },
   {
    "duration": 41,
    "start_time": "2023-11-13T09:14:23.878Z"
   },
   {
    "duration": 26,
    "start_time": "2023-11-13T09:14:55.973Z"
   },
   {
    "duration": 14,
    "start_time": "2023-11-13T09:17:29.739Z"
   },
   {
    "duration": 14,
    "start_time": "2023-11-13T09:18:26.885Z"
   },
   {
    "duration": 2178,
    "start_time": "2023-11-13T09:21:00.595Z"
   },
   {
    "duration": 0,
    "start_time": "2023-11-13T09:21:05.359Z"
   },
   {
    "duration": 0,
    "start_time": "2023-11-13T09:21:13.507Z"
   },
   {
    "duration": 2676,
    "start_time": "2023-11-13T09:21:26.437Z"
   },
   {
    "duration": 54,
    "start_time": "2023-11-13T09:25:17.604Z"
   },
   {
    "duration": 33,
    "start_time": "2023-11-13T09:26:23.604Z"
   },
   {
    "duration": 54,
    "start_time": "2023-11-13T09:27:38.918Z"
   },
   {
    "duration": 26,
    "start_time": "2023-11-13T09:28:01.854Z"
   },
   {
    "duration": 27,
    "start_time": "2023-11-13T09:28:10.896Z"
   },
   {
    "duration": 17,
    "start_time": "2023-11-13T09:28:15.490Z"
   },
   {
    "duration": 29,
    "start_time": "2023-11-13T09:29:00.420Z"
   },
   {
    "duration": 18,
    "start_time": "2023-11-13T09:30:35.781Z"
   },
   {
    "duration": 27,
    "start_time": "2023-11-13T09:30:59.876Z"
   },
   {
    "duration": 38,
    "start_time": "2023-11-13T09:31:09.690Z"
   },
   {
    "duration": 22,
    "start_time": "2023-11-13T09:31:11.711Z"
   },
   {
    "duration": 24,
    "start_time": "2023-11-13T09:32:03.457Z"
   },
   {
    "duration": 18,
    "start_time": "2023-11-13T09:32:06.524Z"
   },
   {
    "duration": 40,
    "start_time": "2023-11-13T09:32:12.459Z"
   },
   {
    "duration": 28,
    "start_time": "2023-11-13T09:32:14.259Z"
   },
   {
    "duration": 28,
    "start_time": "2023-11-13T09:35:41.446Z"
   },
   {
    "duration": 28,
    "start_time": "2023-11-13T09:35:44.733Z"
   },
   {
    "duration": 20,
    "start_time": "2023-11-13T09:35:46.507Z"
   },
   {
    "duration": 44,
    "start_time": "2023-11-13T09:36:02.377Z"
   },
   {
    "duration": 39,
    "start_time": "2023-11-13T09:36:06.942Z"
   },
   {
    "duration": 26,
    "start_time": "2023-11-13T09:36:08.867Z"
   },
   {
    "duration": 17,
    "start_time": "2023-11-13T09:36:23.316Z"
   },
   {
    "duration": 34,
    "start_time": "2023-11-13T09:36:29.569Z"
   },
   {
    "duration": 21,
    "start_time": "2023-11-13T09:36:31.123Z"
   },
   {
    "duration": 31,
    "start_time": "2023-11-13T09:36:38.102Z"
   },
   {
    "duration": 26,
    "start_time": "2023-11-13T09:36:54.113Z"
   },
   {
    "duration": 34,
    "start_time": "2023-11-13T09:36:56.009Z"
   },
   {
    "duration": 61,
    "start_time": "2023-11-13T09:38:52.076Z"
   },
   {
    "duration": 28,
    "start_time": "2023-11-13T09:38:57.688Z"
   },
   {
    "duration": 37,
    "start_time": "2023-11-13T09:38:59.354Z"
   },
   {
    "duration": 37,
    "start_time": "2023-11-13T09:39:53.691Z"
   },
   {
    "duration": 39,
    "start_time": "2023-11-13T09:40:37.094Z"
   },
   {
    "duration": 38,
    "start_time": "2023-11-13T09:40:41.167Z"
   },
   {
    "duration": 37,
    "start_time": "2023-11-13T09:41:07.871Z"
   },
   {
    "duration": 45,
    "start_time": "2023-11-13T09:41:13.129Z"
   },
   {
    "duration": 28,
    "start_time": "2023-11-13T09:41:14.478Z"
   },
   {
    "duration": 26,
    "start_time": "2023-11-13T09:43:13.239Z"
   },
   {
    "duration": 18,
    "start_time": "2023-11-13T09:43:58.701Z"
   },
   {
    "duration": 17,
    "start_time": "2023-11-13T09:44:02.266Z"
   },
   {
    "duration": 387,
    "start_time": "2023-11-13T09:46:16.250Z"
   },
   {
    "duration": 49,
    "start_time": "2023-11-13T09:46:17.606Z"
   },
   {
    "duration": 40,
    "start_time": "2023-11-13T09:46:18.323Z"
   },
   {
    "duration": 36,
    "start_time": "2023-11-13T09:46:18.693Z"
   },
   {
    "duration": 25,
    "start_time": "2023-11-13T09:46:19.404Z"
   },
   {
    "duration": 20,
    "start_time": "2023-11-13T09:46:19.742Z"
   },
   {
    "duration": 23,
    "start_time": "2023-11-13T09:46:20.035Z"
   },
   {
    "duration": 525,
    "start_time": "2023-11-13T09:46:20.876Z"
   },
   {
    "duration": 156,
    "start_time": "2023-11-13T09:46:21.410Z"
   },
   {
    "duration": 311,
    "start_time": "2023-11-13T09:46:21.887Z"
   },
   {
    "duration": 279,
    "start_time": "2023-11-13T09:46:22.418Z"
   },
   {
    "duration": 210,
    "start_time": "2023-11-13T09:46:22.926Z"
   },
   {
    "duration": 37,
    "start_time": "2023-11-13T09:46:23.686Z"
   },
   {
    "duration": 20,
    "start_time": "2023-11-13T09:46:24.028Z"
   },
   {
    "duration": 77,
    "start_time": "2023-11-13T09:46:24.252Z"
   },
   {
    "duration": 258,
    "start_time": "2023-11-13T09:46:24.743Z"
   },
   {
    "duration": 215,
    "start_time": "2023-11-13T09:46:25.003Z"
   },
   {
    "duration": 202,
    "start_time": "2023-11-13T09:46:25.220Z"
   },
   {
    "duration": 215,
    "start_time": "2023-11-13T09:46:25.424Z"
   },
   {
    "duration": 33,
    "start_time": "2023-11-13T09:46:25.929Z"
   },
   {
    "duration": 28,
    "start_time": "2023-11-13T09:46:26.355Z"
   },
   {
    "duration": 88,
    "start_time": "2023-11-13T09:47:52.303Z"
   },
   {
    "duration": 28,
    "start_time": "2023-11-13T09:47:55.291Z"
   },
   {
    "duration": 1057,
    "start_time": "2023-11-13T09:47:56.677Z"
   },
   {
    "duration": 17,
    "start_time": "2023-11-13T09:48:29.755Z"
   },
   {
    "duration": 28,
    "start_time": "2023-11-13T09:48:32.810Z"
   },
   {
    "duration": 27,
    "start_time": "2023-11-13T09:48:33.664Z"
   },
   {
    "duration": 34,
    "start_time": "2023-11-13T09:49:34.606Z"
   },
   {
    "duration": 29,
    "start_time": "2023-11-13T09:49:35.662Z"
   },
   {
    "duration": 39,
    "start_time": "2023-11-13T09:52:39.949Z"
   },
   {
    "duration": 40,
    "start_time": "2023-11-13T09:52:41.583Z"
   },
   {
    "duration": 24,
    "start_time": "2023-11-13T09:59:48.431Z"
   },
   {
    "duration": 23,
    "start_time": "2023-11-13T10:03:18.007Z"
   },
   {
    "duration": 29,
    "start_time": "2023-11-13T10:03:23.848Z"
   },
   {
    "duration": 22,
    "start_time": "2023-11-13T10:03:24.765Z"
   },
   {
    "duration": 88,
    "start_time": "2023-11-13T10:04:25.008Z"
   },
   {
    "duration": 34,
    "start_time": "2023-11-13T10:04:40.959Z"
   },
   {
    "duration": 28,
    "start_time": "2023-11-13T10:04:44.108Z"
   },
   {
    "duration": 23,
    "start_time": "2023-11-13T10:04:44.607Z"
   },
   {
    "duration": 39,
    "start_time": "2023-11-13T10:04:55.794Z"
   },
   {
    "duration": 47,
    "start_time": "2023-11-13T10:05:16.548Z"
   },
   {
    "duration": 35,
    "start_time": "2023-11-13T10:06:04.972Z"
   },
   {
    "duration": 24,
    "start_time": "2023-11-13T10:06:38.452Z"
   },
   {
    "duration": 26,
    "start_time": "2023-11-13T10:08:38.579Z"
   },
   {
    "duration": 23,
    "start_time": "2023-11-13T10:10:56.432Z"
   },
   {
    "duration": 21,
    "start_time": "2023-11-13T10:12:09.664Z"
   },
   {
    "duration": 4,
    "start_time": "2023-11-13T10:12:19.379Z"
   },
   {
    "duration": 64,
    "start_time": "2023-11-13T10:12:25.575Z"
   },
   {
    "duration": 47,
    "start_time": "2023-11-13T10:14:28.105Z"
   },
   {
    "duration": 41,
    "start_time": "2023-11-13T10:15:22.419Z"
   },
   {
    "duration": 23,
    "start_time": "2023-11-13T10:15:28.572Z"
   },
   {
    "duration": 14,
    "start_time": "2023-11-13T10:15:55.302Z"
   },
   {
    "duration": 514,
    "start_time": "2023-11-13T10:26:22.316Z"
   },
   {
    "duration": 7,
    "start_time": "2023-11-13T10:28:58.124Z"
   },
   {
    "duration": 5,
    "start_time": "2023-11-13T10:30:31.289Z"
   },
   {
    "duration": 8,
    "start_time": "2023-11-13T10:41:04.005Z"
   },
   {
    "duration": 4,
    "start_time": "2023-11-13T10:41:14.624Z"
   },
   {
    "duration": 5,
    "start_time": "2023-11-13T10:41:26.388Z"
   },
   {
    "duration": 7,
    "start_time": "2023-11-13T10:42:39.284Z"
   },
   {
    "duration": 5,
    "start_time": "2023-11-13T11:02:11.350Z"
   },
   {
    "duration": 67,
    "start_time": "2023-11-13T11:29:38.333Z"
   },
   {
    "duration": 14,
    "start_time": "2023-11-13T11:31:02.391Z"
   },
   {
    "duration": 12,
    "start_time": "2023-11-13T11:31:05.629Z"
   },
   {
    "duration": 11,
    "start_time": "2023-11-13T11:31:12.339Z"
   },
   {
    "duration": 11,
    "start_time": "2023-11-13T11:31:30.429Z"
   },
   {
    "duration": 20,
    "start_time": "2023-11-13T11:31:50.747Z"
   },
   {
    "duration": 21,
    "start_time": "2023-11-13T11:32:01.431Z"
   },
   {
    "duration": 12,
    "start_time": "2023-11-13T12:36:18.336Z"
   },
   {
    "duration": 14,
    "start_time": "2023-11-13T12:36:58.361Z"
   },
   {
    "duration": 14,
    "start_time": "2023-11-13T12:37:13.269Z"
   },
   {
    "duration": 25,
    "start_time": "2023-11-13T12:38:07.761Z"
   },
   {
    "duration": 12,
    "start_time": "2023-11-13T12:38:39.155Z"
   },
   {
    "duration": 3,
    "start_time": "2023-11-13T12:40:01.929Z"
   },
   {
    "duration": 39,
    "start_time": "2023-11-13T12:40:03.266Z"
   },
   {
    "duration": 46,
    "start_time": "2023-11-13T12:40:03.575Z"
   },
   {
    "duration": 25,
    "start_time": "2023-11-13T12:40:03.808Z"
   },
   {
    "duration": 20,
    "start_time": "2023-11-13T12:40:04.423Z"
   },
   {
    "duration": 16,
    "start_time": "2023-11-13T12:40:04.819Z"
   },
   {
    "duration": 20,
    "start_time": "2023-11-13T12:40:05.238Z"
   },
   {
    "duration": 267,
    "start_time": "2023-11-13T12:40:06.269Z"
   },
   {
    "duration": 127,
    "start_time": "2023-11-13T12:40:06.866Z"
   },
   {
    "duration": 208,
    "start_time": "2023-11-13T12:40:07.514Z"
   },
   {
    "duration": 193,
    "start_time": "2023-11-13T12:40:08.089Z"
   },
   {
    "duration": 222,
    "start_time": "2023-11-13T12:40:08.680Z"
   },
   {
    "duration": 26,
    "start_time": "2023-11-13T12:40:09.513Z"
   },
   {
    "duration": 18,
    "start_time": "2023-11-13T12:40:09.869Z"
   },
   {
    "duration": 22,
    "start_time": "2023-11-13T12:40:10.047Z"
   },
   {
    "duration": 229,
    "start_time": "2023-11-13T12:40:10.425Z"
   },
   {
    "duration": 215,
    "start_time": "2023-11-13T12:40:10.656Z"
   },
   {
    "duration": 208,
    "start_time": "2023-11-13T12:40:10.873Z"
   },
   {
    "duration": 213,
    "start_time": "2023-11-13T12:40:11.084Z"
   },
   {
    "duration": 50,
    "start_time": "2023-11-13T12:40:11.810Z"
   },
   {
    "duration": 19,
    "start_time": "2023-11-13T12:40:12.216Z"
   },
   {
    "duration": 6,
    "start_time": "2023-11-13T12:40:13.460Z"
   },
   {
    "duration": 6,
    "start_time": "2023-11-13T12:40:15.732Z"
   },
   {
    "duration": 12,
    "start_time": "2023-11-13T12:40:18.887Z"
   },
   {
    "duration": 380,
    "start_time": "2023-11-13T12:57:08.894Z"
   },
   {
    "duration": 88,
    "start_time": "2023-11-13T12:57:09.276Z"
   },
   {
    "duration": 78,
    "start_time": "2023-11-13T12:57:09.365Z"
   },
   {
    "duration": 62,
    "start_time": "2023-11-13T12:57:09.445Z"
   },
   {
    "duration": 22,
    "start_time": "2023-11-13T12:57:09.509Z"
   },
   {
    "duration": 19,
    "start_time": "2023-11-13T12:57:09.533Z"
   },
   {
    "duration": 19,
    "start_time": "2023-11-13T12:57:09.554Z"
   },
   {
    "duration": 635,
    "start_time": "2023-11-13T12:57:09.575Z"
   },
   {
    "duration": 132,
    "start_time": "2023-11-13T12:57:10.212Z"
   },
   {
    "duration": 181,
    "start_time": "2023-11-13T12:57:10.347Z"
   },
   {
    "duration": 193,
    "start_time": "2023-11-13T12:57:10.529Z"
   },
   {
    "duration": 415,
    "start_time": "2023-11-13T12:58:30.551Z"
   },
   {
    "duration": 40,
    "start_time": "2023-11-13T12:58:30.968Z"
   },
   {
    "duration": 37,
    "start_time": "2023-11-13T12:58:31.012Z"
   },
   {
    "duration": 46,
    "start_time": "2023-11-13T12:58:31.050Z"
   },
   {
    "duration": 42,
    "start_time": "2023-11-13T12:58:31.098Z"
   },
   {
    "duration": 66,
    "start_time": "2023-11-13T12:58:31.142Z"
   },
   {
    "duration": 47,
    "start_time": "2023-11-13T12:58:31.210Z"
   },
   {
    "duration": 539,
    "start_time": "2023-11-13T12:58:31.258Z"
   },
   {
    "duration": 306,
    "start_time": "2023-11-13T12:58:31.801Z"
   },
   {
    "duration": 409,
    "start_time": "2023-11-13T12:58:32.165Z"
   },
   {
    "duration": 291,
    "start_time": "2023-11-13T12:58:32.576Z"
   },
   {
    "duration": 333,
    "start_time": "2023-11-13T12:58:32.869Z"
   },
   {
    "duration": 32,
    "start_time": "2023-11-13T12:58:33.204Z"
   },
   {
    "duration": 38,
    "start_time": "2023-11-13T12:58:33.238Z"
   },
   {
    "duration": 92,
    "start_time": "2023-11-13T12:58:33.278Z"
   },
   {
    "duration": 230,
    "start_time": "2023-11-13T12:58:33.372Z"
   },
   {
    "duration": 202,
    "start_time": "2023-11-13T12:58:33.604Z"
   },
   {
    "duration": 188,
    "start_time": "2023-11-13T12:58:33.808Z"
   },
   {
    "duration": 197,
    "start_time": "2023-11-13T12:58:33.998Z"
   },
   {
    "duration": 37,
    "start_time": "2023-11-13T12:58:34.197Z"
   },
   {
    "duration": 30,
    "start_time": "2023-11-13T12:58:34.236Z"
   },
   {
    "duration": 460,
    "start_time": "2023-11-13T12:58:34.268Z"
   },
   {
    "duration": 5,
    "start_time": "2023-11-13T12:58:34.729Z"
   },
   {
    "duration": 30,
    "start_time": "2023-11-13T12:58:34.736Z"
   },
   {
    "duration": 0,
    "start_time": "2023-11-13T13:31:47.790Z"
   },
   {
    "duration": 0,
    "start_time": "2023-11-13T13:31:47.791Z"
   },
   {
    "duration": 0,
    "start_time": "2023-11-13T13:31:47.792Z"
   },
   {
    "duration": 0,
    "start_time": "2023-11-13T13:31:47.793Z"
   },
   {
    "duration": 0,
    "start_time": "2023-11-13T13:31:47.794Z"
   },
   {
    "duration": 0,
    "start_time": "2023-11-13T13:31:47.795Z"
   },
   {
    "duration": 0,
    "start_time": "2023-11-13T13:31:47.796Z"
   },
   {
    "duration": 0,
    "start_time": "2023-11-13T13:31:47.798Z"
   },
   {
    "duration": 0,
    "start_time": "2023-11-13T13:31:47.799Z"
   },
   {
    "duration": 0,
    "start_time": "2023-11-13T13:31:47.800Z"
   },
   {
    "duration": 0,
    "start_time": "2023-11-13T13:31:47.802Z"
   },
   {
    "duration": 0,
    "start_time": "2023-11-13T13:31:47.865Z"
   },
   {
    "duration": 0,
    "start_time": "2023-11-13T13:31:47.866Z"
   },
   {
    "duration": 0,
    "start_time": "2023-11-13T13:31:47.868Z"
   },
   {
    "duration": 0,
    "start_time": "2023-11-13T13:31:47.870Z"
   },
   {
    "duration": 0,
    "start_time": "2023-11-13T13:31:47.871Z"
   },
   {
    "duration": 0,
    "start_time": "2023-11-13T13:31:47.873Z"
   },
   {
    "duration": 0,
    "start_time": "2023-11-13T13:31:47.874Z"
   },
   {
    "duration": 0,
    "start_time": "2023-11-13T13:31:47.875Z"
   },
   {
    "duration": 0,
    "start_time": "2023-11-13T13:31:47.876Z"
   },
   {
    "duration": 0,
    "start_time": "2023-11-13T13:31:47.877Z"
   },
   {
    "duration": 0,
    "start_time": "2023-11-13T13:31:47.878Z"
   },
   {
    "duration": 0,
    "start_time": "2023-11-13T13:31:47.879Z"
   },
   {
    "duration": 0,
    "start_time": "2023-11-13T13:31:47.880Z"
   },
   {
    "duration": 0,
    "start_time": "2023-11-13T13:31:47.881Z"
   },
   {
    "duration": 0,
    "start_time": "2023-11-13T13:31:47.882Z"
   },
   {
    "duration": 373,
    "start_time": "2023-11-13T13:32:04.407Z"
   },
   {
    "duration": 40,
    "start_time": "2023-11-13T13:32:04.781Z"
   },
   {
    "duration": 37,
    "start_time": "2023-11-13T13:32:04.822Z"
   },
   {
    "duration": 25,
    "start_time": "2023-11-13T13:32:04.862Z"
   },
   {
    "duration": 22,
    "start_time": "2023-11-13T13:32:04.888Z"
   },
   {
    "duration": 17,
    "start_time": "2023-11-13T13:32:04.912Z"
   },
   {
    "duration": 40,
    "start_time": "2023-11-13T13:32:04.931Z"
   },
   {
    "duration": 602,
    "start_time": "2023-11-13T13:32:04.972Z"
   },
   {
    "duration": 176,
    "start_time": "2023-11-13T13:32:05.576Z"
   },
   {
    "duration": 241,
    "start_time": "2023-11-13T13:32:05.755Z"
   },
   {
    "duration": 230,
    "start_time": "2023-11-13T13:32:05.998Z"
   },
   {
    "duration": 232,
    "start_time": "2023-11-13T13:32:06.230Z"
   },
   {
    "duration": 28,
    "start_time": "2023-11-13T13:32:06.463Z"
   },
   {
    "duration": 94,
    "start_time": "2023-11-13T13:32:06.493Z"
   },
   {
    "duration": 15,
    "start_time": "2023-11-13T13:32:06.589Z"
   },
   {
    "duration": 214,
    "start_time": "2023-11-13T13:32:06.606Z"
   },
   {
    "duration": 205,
    "start_time": "2023-11-13T13:32:06.822Z"
   },
   {
    "duration": 223,
    "start_time": "2023-11-13T13:32:07.028Z"
   },
   {
    "duration": 215,
    "start_time": "2023-11-13T13:32:07.253Z"
   },
   {
    "duration": 63,
    "start_time": "2023-11-13T13:32:07.470Z"
   },
   {
    "duration": 15,
    "start_time": "2023-11-13T13:32:07.535Z"
   },
   {
    "duration": 51,
    "start_time": "2023-11-13T13:32:07.565Z"
   },
   {
    "duration": 129,
    "start_time": "2023-11-13T13:32:07.618Z"
   },
   {
    "duration": 0,
    "start_time": "2023-11-13T13:32:07.749Z"
   },
   {
    "duration": 0,
    "start_time": "2023-11-13T13:32:07.750Z"
   },
   {
    "duration": 0,
    "start_time": "2023-11-13T13:32:07.752Z"
   },
   {
    "duration": 8,
    "start_time": "2023-11-13T13:32:42.055Z"
   },
   {
    "duration": 17,
    "start_time": "2023-11-13T13:32:47.224Z"
   },
   {
    "duration": 455,
    "start_time": "2023-11-13T13:35:16.439Z"
   },
   {
    "duration": 40,
    "start_time": "2023-11-13T13:35:16.896Z"
   },
   {
    "duration": 37,
    "start_time": "2023-11-13T13:35:16.938Z"
   },
   {
    "duration": 40,
    "start_time": "2023-11-13T13:35:16.978Z"
   },
   {
    "duration": 29,
    "start_time": "2023-11-13T13:35:17.019Z"
   },
   {
    "duration": 37,
    "start_time": "2023-11-13T13:35:17.049Z"
   },
   {
    "duration": 44,
    "start_time": "2023-11-13T13:35:17.087Z"
   },
   {
    "duration": 611,
    "start_time": "2023-11-13T13:35:17.133Z"
   },
   {
    "duration": 152,
    "start_time": "2023-11-13T13:35:17.746Z"
   },
   {
    "duration": 252,
    "start_time": "2023-11-13T13:35:17.900Z"
   },
   {
    "duration": 208,
    "start_time": "2023-11-13T13:35:18.153Z"
   },
   {
    "duration": 224,
    "start_time": "2023-11-13T13:35:18.364Z"
   },
   {
    "duration": 26,
    "start_time": "2023-11-13T13:35:18.590Z"
   },
   {
    "duration": 97,
    "start_time": "2023-11-13T13:35:18.618Z"
   },
   {
    "duration": 25,
    "start_time": "2023-11-13T13:35:18.718Z"
   },
   {
    "duration": 213,
    "start_time": "2023-11-13T13:35:18.745Z"
   },
   {
    "duration": 215,
    "start_time": "2023-11-13T13:35:18.959Z"
   },
   {
    "duration": 201,
    "start_time": "2023-11-13T13:35:19.176Z"
   },
   {
    "duration": 200,
    "start_time": "2023-11-13T13:35:19.378Z"
   },
   {
    "duration": 42,
    "start_time": "2023-11-13T13:35:19.580Z"
   },
   {
    "duration": 14,
    "start_time": "2023-11-13T13:35:19.624Z"
   },
   {
    "duration": 456,
    "start_time": "2023-11-13T13:35:19.640Z"
   },
   {
    "duration": 6,
    "start_time": "2023-11-13T13:35:20.099Z"
   },
   {
    "duration": 35,
    "start_time": "2023-11-13T13:35:20.107Z"
   },
   {
    "duration": 5,
    "start_time": "2023-11-13T13:38:36.754Z"
   },
   {
    "duration": 6,
    "start_time": "2023-11-13T13:38:42.204Z"
   },
   {
    "duration": 7,
    "start_time": "2023-11-13T13:39:01.736Z"
   },
   {
    "duration": 19,
    "start_time": "2023-11-13T13:41:38.232Z"
   },
   {
    "duration": 20,
    "start_time": "2023-11-13T13:41:43.239Z"
   },
   {
    "duration": 14,
    "start_time": "2023-11-13T13:42:19.631Z"
   },
   {
    "duration": 18,
    "start_time": "2023-11-13T13:42:35.371Z"
   },
   {
    "duration": 22,
    "start_time": "2023-11-13T13:42:50.634Z"
   },
   {
    "duration": 5,
    "start_time": "2023-11-13T13:43:03.513Z"
   },
   {
    "duration": 122,
    "start_time": "2023-11-14T20:05:18.863Z"
   },
   {
    "duration": 47,
    "start_time": "2023-11-14T20:23:11.510Z"
   },
   {
    "duration": 842,
    "start_time": "2023-11-14T20:23:24.011Z"
   },
   {
    "duration": 100,
    "start_time": "2023-11-14T20:23:27.803Z"
   },
   {
    "duration": 182,
    "start_time": "2023-11-14T20:23:28.143Z"
   },
   {
    "duration": 72,
    "start_time": "2023-11-14T20:23:28.562Z"
   },
   {
    "duration": 30,
    "start_time": "2023-11-14T20:23:31.099Z"
   },
   {
    "duration": 23,
    "start_time": "2023-11-14T20:23:34.675Z"
   },
   {
    "duration": 9,
    "start_time": "2023-11-14T20:23:35.408Z"
   },
   {
    "duration": 13,
    "start_time": "2023-11-14T20:24:23.601Z"
   },
   {
    "duration": 7,
    "start_time": "2023-11-14T20:24:38.846Z"
   },
   {
    "duration": 10,
    "start_time": "2023-11-14T20:25:11.067Z"
   },
   {
    "duration": 11,
    "start_time": "2023-11-14T20:25:21.607Z"
   },
   {
    "duration": 9,
    "start_time": "2023-11-14T20:25:36.789Z"
   },
   {
    "duration": 63,
    "start_time": "2023-11-14T20:30:19.689Z"
   },
   {
    "duration": 3,
    "start_time": "2023-11-14T20:30:25.996Z"
   },
   {
    "duration": 45,
    "start_time": "2023-11-14T20:30:26.757Z"
   },
   {
    "duration": 39,
    "start_time": "2023-11-14T20:30:26.904Z"
   },
   {
    "duration": 24,
    "start_time": "2023-11-14T20:30:27.091Z"
   },
   {
    "duration": 15,
    "start_time": "2023-11-14T20:30:28.182Z"
   },
   {
    "duration": 16,
    "start_time": "2023-11-14T20:30:29.743Z"
   },
   {
    "duration": 12,
    "start_time": "2023-11-14T20:30:30.012Z"
   },
   {
    "duration": 19,
    "start_time": "2023-11-14T20:30:30.407Z"
   },
   {
    "duration": 8,
    "start_time": "2023-11-14T20:30:30.587Z"
   },
   {
    "duration": 12,
    "start_time": "2023-11-14T20:30:33.328Z"
   },
   {
    "duration": 726,
    "start_time": "2023-11-14T20:30:42.688Z"
   },
   {
    "duration": 275,
    "start_time": "2023-11-14T20:31:14.267Z"
   },
   {
    "duration": 188,
    "start_time": "2023-11-14T20:33:48.651Z"
   },
   {
    "duration": 181,
    "start_time": "2023-11-14T20:33:59.562Z"
   },
   {
    "duration": 184,
    "start_time": "2023-11-14T20:34:08.391Z"
   },
   {
    "duration": 179,
    "start_time": "2023-11-14T20:34:32.185Z"
   },
   {
    "duration": 168,
    "start_time": "2023-11-14T20:34:49.079Z"
   },
   {
    "duration": 168,
    "start_time": "2023-11-14T20:35:04.688Z"
   },
   {
    "duration": 185,
    "start_time": "2023-11-14T20:35:16.299Z"
   },
   {
    "duration": 256,
    "start_time": "2023-11-14T20:35:28.507Z"
   },
   {
    "duration": 169,
    "start_time": "2023-11-14T20:35:34.974Z"
   },
   {
    "duration": 181,
    "start_time": "2023-11-14T20:35:41.031Z"
   },
   {
    "duration": 181,
    "start_time": "2023-11-14T20:35:50.334Z"
   },
   {
    "duration": 197,
    "start_time": "2023-11-14T20:35:56.957Z"
   },
   {
    "duration": 181,
    "start_time": "2023-11-14T20:36:33.455Z"
   },
   {
    "duration": 176,
    "start_time": "2023-11-14T20:37:19.323Z"
   },
   {
    "duration": 175,
    "start_time": "2023-11-14T20:38:00.420Z"
   },
   {
    "duration": 173,
    "start_time": "2023-11-14T20:38:05.453Z"
   },
   {
    "duration": 183,
    "start_time": "2023-11-14T20:42:20.634Z"
   },
   {
    "duration": 1523,
    "start_time": "2023-11-14T20:43:04.620Z"
   },
   {
    "duration": 199,
    "start_time": "2023-11-14T20:45:31.967Z"
   },
   {
    "duration": 285,
    "start_time": "2023-11-14T20:45:44.857Z"
   },
   {
    "duration": 6,
    "start_time": "2023-11-14T20:46:55.017Z"
   },
   {
    "duration": 182,
    "start_time": "2023-11-14T20:46:59.387Z"
   },
   {
    "duration": 180,
    "start_time": "2023-11-14T20:47:19.859Z"
   },
   {
    "duration": 4,
    "start_time": "2023-11-14T20:48:07.080Z"
   },
   {
    "duration": 122,
    "start_time": "2023-11-14T20:48:10.555Z"
   },
   {
    "duration": 3,
    "start_time": "2023-11-14T20:48:29.620Z"
   },
   {
    "duration": 107,
    "start_time": "2023-11-14T20:48:35.428Z"
   },
   {
    "duration": 180,
    "start_time": "2023-11-14T20:48:41.845Z"
   },
   {
    "duration": 172,
    "start_time": "2023-11-14T20:48:56.200Z"
   },
   {
    "duration": 120,
    "start_time": "2023-11-14T20:49:10.716Z"
   },
   {
    "duration": 194,
    "start_time": "2023-11-14T20:50:03.882Z"
   },
   {
    "duration": 197,
    "start_time": "2023-11-14T20:50:47.021Z"
   },
   {
    "duration": 9,
    "start_time": "2023-11-14T20:51:45.936Z"
   },
   {
    "duration": 171,
    "start_time": "2023-11-14T20:51:53.213Z"
   },
   {
    "duration": 132,
    "start_time": "2023-11-14T20:51:59.349Z"
   },
   {
    "duration": 178,
    "start_time": "2023-11-14T20:52:01.665Z"
   },
   {
    "duration": 184,
    "start_time": "2023-11-14T20:52:04.979Z"
   },
   {
    "duration": 303,
    "start_time": "2023-11-14T20:52:09.292Z"
   },
   {
    "duration": 24,
    "start_time": "2023-11-14T20:52:13.375Z"
   },
   {
    "duration": 20,
    "start_time": "2023-11-14T20:52:14.466Z"
   },
   {
    "duration": 15,
    "start_time": "2023-11-14T20:52:14.765Z"
   },
   {
    "duration": 191,
    "start_time": "2023-11-14T20:52:17.389Z"
   },
   {
    "duration": 188,
    "start_time": "2023-11-14T20:53:02.837Z"
   },
   {
    "duration": 203,
    "start_time": "2023-11-14T20:53:43.598Z"
   },
   {
    "duration": 192,
    "start_time": "2023-11-14T20:54:18.295Z"
   },
   {
    "duration": 27,
    "start_time": "2023-11-14T21:01:27.116Z"
   },
   {
    "duration": 48,
    "start_time": "2023-11-14T21:01:39.696Z"
   },
   {
    "duration": 24,
    "start_time": "2023-11-14T21:02:15.166Z"
   },
   {
    "duration": 24,
    "start_time": "2023-11-14T21:02:46.251Z"
   },
   {
    "duration": 219,
    "start_time": "2023-11-14T21:09:58.677Z"
   },
   {
    "duration": 185,
    "start_time": "2023-11-14T21:10:39.118Z"
   },
   {
    "duration": 194,
    "start_time": "2023-11-14T21:10:39.930Z"
   },
   {
    "duration": 184,
    "start_time": "2023-11-14T21:10:40.631Z"
   },
   {
    "duration": 185,
    "start_time": "2023-11-14T21:10:41.151Z"
   },
   {
    "duration": 213,
    "start_time": "2023-11-14T21:10:57.442Z"
   },
   {
    "duration": 316,
    "start_time": "2023-11-14T21:11:24.062Z"
   },
   {
    "duration": 207,
    "start_time": "2023-11-14T21:12:44.993Z"
   },
   {
    "duration": 22,
    "start_time": "2023-11-14T21:13:58.316Z"
   },
   {
    "duration": 959,
    "start_time": "2023-11-14T21:15:39.954Z"
   },
   {
    "duration": 221,
    "start_time": "2023-11-14T21:16:04.731Z"
   },
   {
    "duration": 208,
    "start_time": "2023-11-14T21:19:15.854Z"
   },
   {
    "duration": 10,
    "start_time": "2023-11-14T21:22:11.911Z"
   },
   {
    "duration": 11,
    "start_time": "2023-11-14T21:23:04.886Z"
   },
   {
    "duration": 376,
    "start_time": "2023-11-14T21:23:42.725Z"
   },
   {
    "duration": 268,
    "start_time": "2023-11-14T21:24:06.976Z"
   },
   {
    "duration": 381,
    "start_time": "2023-11-14T21:24:19.061Z"
   },
   {
    "duration": 229,
    "start_time": "2023-11-14T21:24:40.727Z"
   },
   {
    "duration": 3,
    "start_time": "2023-11-14T21:25:03.105Z"
   },
   {
    "duration": 252,
    "start_time": "2023-11-14T21:25:54.689Z"
   },
   {
    "duration": 282,
    "start_time": "2023-11-14T21:26:22.346Z"
   },
   {
    "duration": 103,
    "start_time": "2023-11-14T21:27:31.726Z"
   },
   {
    "duration": 10,
    "start_time": "2023-11-14T21:29:45.242Z"
   },
   {
    "duration": 39,
    "start_time": "2023-11-14T21:30:01.910Z"
   },
   {
    "duration": 109,
    "start_time": "2023-11-14T21:30:35.010Z"
   },
   {
    "duration": 154,
    "start_time": "2023-11-14T21:46:43.575Z"
   },
   {
    "duration": 160,
    "start_time": "2023-11-14T21:47:24.815Z"
   },
   {
    "duration": 155,
    "start_time": "2023-11-14T21:47:44.568Z"
   },
   {
    "duration": 163,
    "start_time": "2023-11-14T21:48:15.660Z"
   },
   {
    "duration": 164,
    "start_time": "2023-11-14T21:49:11.024Z"
   },
   {
    "duration": 174,
    "start_time": "2023-11-14T21:49:41.254Z"
   },
   {
    "duration": 250,
    "start_time": "2023-11-14T21:49:41.481Z"
   },
   {
    "duration": 370,
    "start_time": "2023-11-14T21:50:39.965Z"
   },
   {
    "duration": 187,
    "start_time": "2023-11-14T21:52:40.776Z"
   },
   {
    "duration": 251,
    "start_time": "2023-11-14T21:52:48.507Z"
   },
   {
    "duration": 116,
    "start_time": "2023-11-14T21:57:26.280Z"
   },
   {
    "duration": 2011,
    "start_time": "2023-11-14T21:57:39.718Z"
   },
   {
    "duration": 39,
    "start_time": "2023-11-14T21:57:59.539Z"
   },
   {
    "duration": 51,
    "start_time": "2023-11-14T21:59:25.153Z"
   },
   {
    "duration": 59,
    "start_time": "2023-11-14T21:59:55.347Z"
   },
   {
    "duration": 52,
    "start_time": "2023-11-14T22:00:38.676Z"
   },
   {
    "duration": 56,
    "start_time": "2023-11-14T22:01:02.189Z"
   },
   {
    "duration": 56,
    "start_time": "2023-11-14T22:01:58.475Z"
   },
   {
    "duration": 51,
    "start_time": "2023-11-14T22:02:24.479Z"
   },
   {
    "duration": 58,
    "start_time": "2023-11-14T22:04:56.986Z"
   },
   {
    "duration": 13,
    "start_time": "2023-11-14T22:05:04.584Z"
   },
   {
    "duration": 6,
    "start_time": "2023-11-14T22:05:12.634Z"
   },
   {
    "duration": 6,
    "start_time": "2023-11-14T22:05:31.033Z"
   },
   {
    "duration": 11,
    "start_time": "2023-11-14T22:05:41.415Z"
   },
   {
    "duration": 105,
    "start_time": "2023-11-14T22:22:28.950Z"
   },
   {
    "duration": 1024,
    "start_time": "2023-11-14T22:26:24.035Z"
   },
   {
    "duration": 86,
    "start_time": "2023-11-14T22:26:25.061Z"
   },
   {
    "duration": 38,
    "start_time": "2023-11-14T22:26:25.149Z"
   },
   {
    "duration": 25,
    "start_time": "2023-11-14T22:26:25.189Z"
   },
   {
    "duration": 18,
    "start_time": "2023-11-14T22:26:25.216Z"
   },
   {
    "duration": 17,
    "start_time": "2023-11-14T22:26:25.235Z"
   },
   {
    "duration": 12,
    "start_time": "2023-11-14T22:26:25.253Z"
   },
   {
    "duration": 46,
    "start_time": "2023-11-14T22:26:25.266Z"
   },
   {
    "duration": 9,
    "start_time": "2023-11-14T22:26:25.314Z"
   },
   {
    "duration": 236,
    "start_time": "2023-11-14T22:26:25.326Z"
   },
   {
    "duration": 124,
    "start_time": "2023-11-14T22:26:25.563Z"
   },
   {
    "duration": 184,
    "start_time": "2023-11-14T22:26:25.689Z"
   },
   {
    "duration": 197,
    "start_time": "2023-11-14T22:26:25.875Z"
   },
   {
    "duration": 201,
    "start_time": "2023-11-14T22:26:26.074Z"
   },
   {
    "duration": 40,
    "start_time": "2023-11-14T22:26:26.277Z"
   },
   {
    "duration": 24,
    "start_time": "2023-11-14T22:26:26.319Z"
   },
   {
    "duration": 24,
    "start_time": "2023-11-14T22:26:26.344Z"
   },
   {
    "duration": 219,
    "start_time": "2023-11-14T22:26:26.370Z"
   },
   {
    "duration": 198,
    "start_time": "2023-11-14T22:26:26.590Z"
   },
   {
    "duration": 198,
    "start_time": "2023-11-14T22:26:26.789Z"
   },
   {
    "duration": 191,
    "start_time": "2023-11-14T22:26:26.989Z"
   },
   {
    "duration": 181,
    "start_time": "2023-11-14T22:26:27.182Z"
   },
   {
    "duration": 239,
    "start_time": "2023-11-14T22:26:27.365Z"
   },
   {
    "duration": 267,
    "start_time": "2023-11-14T22:26:27.606Z"
   },
   {
    "duration": 260,
    "start_time": "2023-11-14T22:26:27.875Z"
   },
   {
    "duration": 63,
    "start_time": "2023-11-14T22:26:28.137Z"
   },
   {
    "duration": 13,
    "start_time": "2023-11-14T22:26:28.202Z"
   },
   {
    "duration": 13,
    "start_time": "2023-11-14T22:26:28.219Z"
   },
   {
    "duration": 11,
    "start_time": "2023-11-14T22:26:28.234Z"
   },
   {
    "duration": 11,
    "start_time": "2023-11-14T22:26:28.247Z"
   },
   {
    "duration": 1010,
    "start_time": "2023-11-15T05:41:27.803Z"
   },
   {
    "duration": 91,
    "start_time": "2023-11-15T05:41:28.815Z"
   },
   {
    "duration": 38,
    "start_time": "2023-11-15T05:41:28.908Z"
   },
   {
    "duration": 23,
    "start_time": "2023-11-15T05:41:28.948Z"
   },
   {
    "duration": 17,
    "start_time": "2023-11-15T05:41:28.973Z"
   },
   {
    "duration": 15,
    "start_time": "2023-11-15T05:41:28.992Z"
   },
   {
    "duration": 10,
    "start_time": "2023-11-15T05:41:29.009Z"
   },
   {
    "duration": 41,
    "start_time": "2023-11-15T05:41:29.020Z"
   },
   {
    "duration": 7,
    "start_time": "2023-11-15T05:41:29.063Z"
   },
   {
    "duration": 224,
    "start_time": "2023-11-15T05:41:29.072Z"
   },
   {
    "duration": 136,
    "start_time": "2023-11-15T05:41:29.297Z"
   },
   {
    "duration": 197,
    "start_time": "2023-11-15T05:41:29.435Z"
   },
   {
    "duration": 200,
    "start_time": "2023-11-15T05:41:29.633Z"
   },
   {
    "duration": 214,
    "start_time": "2023-11-15T05:41:29.834Z"
   },
   {
    "duration": 36,
    "start_time": "2023-11-15T05:41:30.051Z"
   },
   {
    "duration": 86,
    "start_time": "2023-11-15T05:41:30.088Z"
   },
   {
    "duration": 25,
    "start_time": "2023-11-15T05:41:30.175Z"
   },
   {
    "duration": 220,
    "start_time": "2023-11-15T05:41:30.202Z"
   },
   {
    "duration": 199,
    "start_time": "2023-11-15T05:41:30.424Z"
   },
   {
    "duration": 210,
    "start_time": "2023-11-15T05:41:30.624Z"
   },
   {
    "duration": 206,
    "start_time": "2023-11-15T05:41:30.835Z"
   },
   {
    "duration": 211,
    "start_time": "2023-11-15T05:41:31.043Z"
   },
   {
    "duration": 271,
    "start_time": "2023-11-15T05:41:31.255Z"
   },
   {
    "duration": 264,
    "start_time": "2023-11-15T05:41:31.528Z"
   },
   {
    "duration": 271,
    "start_time": "2023-11-15T05:41:31.794Z"
   },
   {
    "duration": 57,
    "start_time": "2023-11-15T05:41:32.067Z"
   },
   {
    "duration": 28,
    "start_time": "2023-11-15T05:41:32.125Z"
   },
   {
    "duration": 6,
    "start_time": "2023-11-15T05:41:32.156Z"
   },
   {
    "duration": 6,
    "start_time": "2023-11-15T05:41:32.163Z"
   },
   {
    "duration": 22,
    "start_time": "2023-11-15T05:41:32.170Z"
   },
   {
    "duration": 116,
    "start_time": "2023-11-15T05:43:43.081Z"
   }
  ],
  "kernelspec": {
   "display_name": "Python 3 (ipykernel)",
   "language": "python",
   "name": "python3"
  },
  "language_info": {
   "codemirror_mode": {
    "name": "ipython",
    "version": 3
   },
   "file_extension": ".py",
   "mimetype": "text/x-python",
   "name": "python",
   "nbconvert_exporter": "python",
   "pygments_lexer": "ipython3",
   "version": "3.9.5"
  },
  "toc": {
   "base_numbering": 1,
   "nav_menu": {},
   "number_sections": true,
   "sideBar": true,
   "skip_h1_title": true,
   "title_cell": "Table of Contents",
   "title_sidebar": "Contents",
   "toc_cell": false,
   "toc_position": {},
   "toc_section_display": true,
   "toc_window_display": false
  }
 },
 "nbformat": 4,
 "nbformat_minor": 5
}
