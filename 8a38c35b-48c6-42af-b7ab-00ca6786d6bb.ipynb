{
 "cells": [
  {
   "cell_type": "markdown",
   "metadata": {},
   "source": [
    "<font size=4> Добрый день, Полина! Меня зовут Алан, будем обмениваться с тобой опытом для успешного прохождения задания! Если не против, предлагаю общаться на ты (иначе дай знать, и перейдем на «вы»). Свои рекомендации буду оформлять в виде комментариев в Markdown ячейках:<br><strong>\n",
    "    <li> <font color='red'> «❌ красный цвет» </font> – важно исправить или внести пояснения\n",
    "    <li> <font color='orange'> «⚠️желтый цвет» </font>  – учесть, но можно не исправлять\n",
    "    <li> <font color='green'> «✔️ зеленый цвет» </font> – все отлично, плюс альтернативные пути решения задачи\n",
    "    <li>   <font color='steelblue'>«синий цвет» </font> - просто текст комментария\n",
    "     </strong>\n",
    "<br> В скобках буду указывать версию комментария. Прошу при внесении правок мои комментарии не удалять, а свои писать в соседних ячейках и выделять удобным цветом. Так коммуникация будет проходить эффективнее 👍.<br>\n",
    "</font>"
   ]
  },
  {
   "cell_type": "markdown",
   "metadata": {},
   "source": [
    "# Выбор локации для скважины"
   ]
  },
  {
   "cell_type": "markdown",
   "metadata": {},
   "source": [
    "Допустим, вы работаете в добывающей компании «ГлавРосГосНефть». Нужно решить, где бурить новую скважину.\n",
    "\n",
    "Вам предоставлены пробы нефти в трёх регионах: в каждом 10 000 месторождений, где измерили качество нефти и объём её запасов. Постройте модель машинного обучения, которая поможет определить регион, где добыча принесёт наибольшую прибыль. Проанализируйте возможную прибыль и риски техникой *Bootstrap.*\n",
    "\n",
    "Шаги для выбора локации:\n",
    "\n",
    "- В избранном регионе ищут месторождения, для каждого определяют значения признаков;\n",
    "- Строят модель и оценивают объём запасов;\n",
    "- Выбирают месторождения с самым высокими оценками значений. Количество месторождений зависит от бюджета компании и стоимости разработки одной скважины;\n",
    "- Прибыль равна суммарной прибыли отобранных месторождений."
   ]
  },
  {
   "cell_type": "markdown",
   "metadata": {},
   "source": [
    "## Загрузка и подготовка данных"
   ]
  },
  {
   "cell_type": "code",
   "execution_count": 1,
   "metadata": {},
   "outputs": [],
   "source": [
    "import pandas as pd\n",
    "import numpy as np\n",
    "import matplotlib.pyplot as plt\n",
    "import seaborn as sns\n",
    "import random\n",
    "\n",
    "from sklearn.linear_model import LinearRegression\n",
    "from sklearn.model_selection import train_test_split\n",
    "from tqdm import tqdm\n",
    "from sklearn.metrics import mean_squared_error\n",
    "from sklearn.pipeline import make_pipeline\n",
    "from sklearn.preprocessing import StandardScaler\n",
    "from numpy.random import RandomState\n",
    "\n",
    "from sklearn.pipeline import Pipeline"
   ]
  },
  {
   "cell_type": "code",
   "execution_count": 2,
   "metadata": {},
   "outputs": [],
   "source": [
    "RANDOM_STATE = 42\n",
    "TEST_SIZE = 0.25\n",
    "random.seed(RANDOM_STATE)"
   ]
  },
  {
   "cell_type": "code",
   "execution_count": 3,
   "metadata": {},
   "outputs": [
    {
     "name": "stdout",
     "output_type": "stream",
     "text": [
      "<class 'pandas.core.frame.DataFrame'>\n",
      "RangeIndex: 100000 entries, 0 to 99999\n",
      "Data columns (total 5 columns):\n",
      " #   Column   Non-Null Count   Dtype  \n",
      "---  ------   --------------   -----  \n",
      " 0   id       100000 non-null  object \n",
      " 1   f0       100000 non-null  float64\n",
      " 2   f1       100000 non-null  float64\n",
      " 3   f2       100000 non-null  float64\n",
      " 4   product  100000 non-null  float64\n",
      "dtypes: float64(4), object(1)\n",
      "memory usage: 3.8+ MB\n"
     ]
    },
    {
     "data": {
      "text/html": [
       "<div>\n",
       "<style scoped>\n",
       "    .dataframe tbody tr th:only-of-type {\n",
       "        vertical-align: middle;\n",
       "    }\n",
       "\n",
       "    .dataframe tbody tr th {\n",
       "        vertical-align: top;\n",
       "    }\n",
       "\n",
       "    .dataframe thead th {\n",
       "        text-align: right;\n",
       "    }\n",
       "</style>\n",
       "<table border=\"1\" class=\"dataframe\">\n",
       "  <thead>\n",
       "    <tr style=\"text-align: right;\">\n",
       "      <th></th>\n",
       "      <th>id</th>\n",
       "      <th>f0</th>\n",
       "      <th>f1</th>\n",
       "      <th>f2</th>\n",
       "      <th>product</th>\n",
       "    </tr>\n",
       "  </thead>\n",
       "  <tbody>\n",
       "    <tr>\n",
       "      <th>0</th>\n",
       "      <td>txEyH</td>\n",
       "      <td>0.705745</td>\n",
       "      <td>-0.497823</td>\n",
       "      <td>1.221170</td>\n",
       "      <td>105.280062</td>\n",
       "    </tr>\n",
       "    <tr>\n",
       "      <th>1</th>\n",
       "      <td>2acmU</td>\n",
       "      <td>1.334711</td>\n",
       "      <td>-0.340164</td>\n",
       "      <td>4.365080</td>\n",
       "      <td>73.037750</td>\n",
       "    </tr>\n",
       "    <tr>\n",
       "      <th>2</th>\n",
       "      <td>409Wp</td>\n",
       "      <td>1.022732</td>\n",
       "      <td>0.151990</td>\n",
       "      <td>1.419926</td>\n",
       "      <td>85.265647</td>\n",
       "    </tr>\n",
       "    <tr>\n",
       "      <th>3</th>\n",
       "      <td>iJLyR</td>\n",
       "      <td>-0.032172</td>\n",
       "      <td>0.139033</td>\n",
       "      <td>2.978566</td>\n",
       "      <td>168.620776</td>\n",
       "    </tr>\n",
       "    <tr>\n",
       "      <th>4</th>\n",
       "      <td>Xdl7t</td>\n",
       "      <td>1.988431</td>\n",
       "      <td>0.155413</td>\n",
       "      <td>4.751769</td>\n",
       "      <td>154.036647</td>\n",
       "    </tr>\n",
       "  </tbody>\n",
       "</table>\n",
       "</div>"
      ],
      "text/plain": [
       "      id        f0        f1        f2     product\n",
       "0  txEyH  0.705745 -0.497823  1.221170  105.280062\n",
       "1  2acmU  1.334711 -0.340164  4.365080   73.037750\n",
       "2  409Wp  1.022732  0.151990  1.419926   85.265647\n",
       "3  iJLyR -0.032172  0.139033  2.978566  168.620776\n",
       "4  Xdl7t  1.988431  0.155413  4.751769  154.036647"
      ]
     },
     "metadata": {},
     "output_type": "display_data"
    }
   ],
   "source": [
    "geo_data_0 = pd.read_csv('/datasets/geo_data_0.csv',sep=',',decimal=\".\")\n",
    "geo_data_0.info()\n",
    "display(geo_data_0.head())"
   ]
  },
  {
   "cell_type": "code",
   "execution_count": 4,
   "metadata": {},
   "outputs": [
    {
     "name": "stdout",
     "output_type": "stream",
     "text": [
      "<class 'pandas.core.frame.DataFrame'>\n",
      "RangeIndex: 100000 entries, 0 to 99999\n",
      "Data columns (total 5 columns):\n",
      " #   Column   Non-Null Count   Dtype  \n",
      "---  ------   --------------   -----  \n",
      " 0   id       100000 non-null  object \n",
      " 1   f0       100000 non-null  float64\n",
      " 2   f1       100000 non-null  float64\n",
      " 3   f2       100000 non-null  float64\n",
      " 4   product  100000 non-null  float64\n",
      "dtypes: float64(4), object(1)\n",
      "memory usage: 3.8+ MB\n"
     ]
    },
    {
     "data": {
      "text/html": [
       "<div>\n",
       "<style scoped>\n",
       "    .dataframe tbody tr th:only-of-type {\n",
       "        vertical-align: middle;\n",
       "    }\n",
       "\n",
       "    .dataframe tbody tr th {\n",
       "        vertical-align: top;\n",
       "    }\n",
       "\n",
       "    .dataframe thead th {\n",
       "        text-align: right;\n",
       "    }\n",
       "</style>\n",
       "<table border=\"1\" class=\"dataframe\">\n",
       "  <thead>\n",
       "    <tr style=\"text-align: right;\">\n",
       "      <th></th>\n",
       "      <th>id</th>\n",
       "      <th>f0</th>\n",
       "      <th>f1</th>\n",
       "      <th>f2</th>\n",
       "      <th>product</th>\n",
       "    </tr>\n",
       "  </thead>\n",
       "  <tbody>\n",
       "    <tr>\n",
       "      <th>0</th>\n",
       "      <td>kBEdx</td>\n",
       "      <td>-15.001348</td>\n",
       "      <td>-8.276000</td>\n",
       "      <td>-0.005876</td>\n",
       "      <td>3.179103</td>\n",
       "    </tr>\n",
       "    <tr>\n",
       "      <th>1</th>\n",
       "      <td>62mP7</td>\n",
       "      <td>14.272088</td>\n",
       "      <td>-3.475083</td>\n",
       "      <td>0.999183</td>\n",
       "      <td>26.953261</td>\n",
       "    </tr>\n",
       "    <tr>\n",
       "      <th>2</th>\n",
       "      <td>vyE1P</td>\n",
       "      <td>6.263187</td>\n",
       "      <td>-5.948386</td>\n",
       "      <td>5.001160</td>\n",
       "      <td>134.766305</td>\n",
       "    </tr>\n",
       "    <tr>\n",
       "      <th>3</th>\n",
       "      <td>KcrkZ</td>\n",
       "      <td>-13.081196</td>\n",
       "      <td>-11.506057</td>\n",
       "      <td>4.999415</td>\n",
       "      <td>137.945408</td>\n",
       "    </tr>\n",
       "    <tr>\n",
       "      <th>4</th>\n",
       "      <td>AHL4O</td>\n",
       "      <td>12.702195</td>\n",
       "      <td>-8.147433</td>\n",
       "      <td>5.004363</td>\n",
       "      <td>134.766305</td>\n",
       "    </tr>\n",
       "  </tbody>\n",
       "</table>\n",
       "</div>"
      ],
      "text/plain": [
       "      id         f0         f1        f2     product\n",
       "0  kBEdx -15.001348  -8.276000 -0.005876    3.179103\n",
       "1  62mP7  14.272088  -3.475083  0.999183   26.953261\n",
       "2  vyE1P   6.263187  -5.948386  5.001160  134.766305\n",
       "3  KcrkZ -13.081196 -11.506057  4.999415  137.945408\n",
       "4  AHL4O  12.702195  -8.147433  5.004363  134.766305"
      ]
     },
     "metadata": {},
     "output_type": "display_data"
    }
   ],
   "source": [
    "geo_data_1 = pd.read_csv('/datasets/geo_data_1.csv',sep=',',decimal=\".\")\n",
    "geo_data_1.info()\n",
    "display(geo_data_1.head())"
   ]
  },
  {
   "cell_type": "code",
   "execution_count": 5,
   "metadata": {},
   "outputs": [
    {
     "name": "stdout",
     "output_type": "stream",
     "text": [
      "<class 'pandas.core.frame.DataFrame'>\n",
      "RangeIndex: 100000 entries, 0 to 99999\n",
      "Data columns (total 5 columns):\n",
      " #   Column   Non-Null Count   Dtype  \n",
      "---  ------   --------------   -----  \n",
      " 0   id       100000 non-null  object \n",
      " 1   f0       100000 non-null  float64\n",
      " 2   f1       100000 non-null  float64\n",
      " 3   f2       100000 non-null  float64\n",
      " 4   product  100000 non-null  float64\n",
      "dtypes: float64(4), object(1)\n",
      "memory usage: 3.8+ MB\n"
     ]
    },
    {
     "data": {
      "text/html": [
       "<div>\n",
       "<style scoped>\n",
       "    .dataframe tbody tr th:only-of-type {\n",
       "        vertical-align: middle;\n",
       "    }\n",
       "\n",
       "    .dataframe tbody tr th {\n",
       "        vertical-align: top;\n",
       "    }\n",
       "\n",
       "    .dataframe thead th {\n",
       "        text-align: right;\n",
       "    }\n",
       "</style>\n",
       "<table border=\"1\" class=\"dataframe\">\n",
       "  <thead>\n",
       "    <tr style=\"text-align: right;\">\n",
       "      <th></th>\n",
       "      <th>id</th>\n",
       "      <th>f0</th>\n",
       "      <th>f1</th>\n",
       "      <th>f2</th>\n",
       "      <th>product</th>\n",
       "    </tr>\n",
       "  </thead>\n",
       "  <tbody>\n",
       "    <tr>\n",
       "      <th>0</th>\n",
       "      <td>fwXo0</td>\n",
       "      <td>-1.146987</td>\n",
       "      <td>0.963328</td>\n",
       "      <td>-0.828965</td>\n",
       "      <td>27.758673</td>\n",
       "    </tr>\n",
       "    <tr>\n",
       "      <th>1</th>\n",
       "      <td>WJtFt</td>\n",
       "      <td>0.262778</td>\n",
       "      <td>0.269839</td>\n",
       "      <td>-2.530187</td>\n",
       "      <td>56.069697</td>\n",
       "    </tr>\n",
       "    <tr>\n",
       "      <th>2</th>\n",
       "      <td>ovLUW</td>\n",
       "      <td>0.194587</td>\n",
       "      <td>0.289035</td>\n",
       "      <td>-5.586433</td>\n",
       "      <td>62.871910</td>\n",
       "    </tr>\n",
       "    <tr>\n",
       "      <th>3</th>\n",
       "      <td>q6cA6</td>\n",
       "      <td>2.236060</td>\n",
       "      <td>-0.553760</td>\n",
       "      <td>0.930038</td>\n",
       "      <td>114.572842</td>\n",
       "    </tr>\n",
       "    <tr>\n",
       "      <th>4</th>\n",
       "      <td>WPMUX</td>\n",
       "      <td>-0.515993</td>\n",
       "      <td>1.716266</td>\n",
       "      <td>5.899011</td>\n",
       "      <td>149.600746</td>\n",
       "    </tr>\n",
       "  </tbody>\n",
       "</table>\n",
       "</div>"
      ],
      "text/plain": [
       "      id        f0        f1        f2     product\n",
       "0  fwXo0 -1.146987  0.963328 -0.828965   27.758673\n",
       "1  WJtFt  0.262778  0.269839 -2.530187   56.069697\n",
       "2  ovLUW  0.194587  0.289035 -5.586433   62.871910\n",
       "3  q6cA6  2.236060 -0.553760  0.930038  114.572842\n",
       "4  WPMUX -0.515993  1.716266  5.899011  149.600746"
      ]
     },
     "metadata": {},
     "output_type": "display_data"
    }
   ],
   "source": [
    "geo_data_2 = pd.read_csv('/datasets/geo_data_2.csv',sep=',',decimal=\".\")\n",
    "geo_data_2.info()\n",
    "display(geo_data_2.head())"
   ]
  },
  {
   "cell_type": "markdown",
   "metadata": {},
   "source": [
    "Мы загрузили данные из 3 таблиц, заметили, что количество строк в таблицах одинаковое, формат столбцов и названия столбцов выглядят адекватно"
   ]
  },
  {
   "cell_type": "markdown",
   "metadata": {},
   "source": [
    "Проверим наличие дубликатов в таблицах:"
   ]
  },
  {
   "cell_type": "code",
   "execution_count": 6,
   "metadata": {},
   "outputs": [
    {
     "data": {
      "text/plain": [
       "0"
      ]
     },
     "metadata": {},
     "output_type": "display_data"
    },
    {
     "data": {
      "text/plain": [
       "0"
      ]
     },
     "metadata": {},
     "output_type": "display_data"
    },
    {
     "data": {
      "text/plain": [
       "0"
      ]
     },
     "metadata": {},
     "output_type": "display_data"
    }
   ],
   "source": [
    "display(geo_data_0.duplicated().sum())\n",
    "display(geo_data_1.duplicated().sum())\n",
    "display(geo_data_2.duplicated().sum())"
   ]
  },
  {
   "cell_type": "markdown",
   "metadata": {},
   "source": [
    "Посмотрим общую информацию о таблицах:"
   ]
  },
  {
   "cell_type": "code",
   "execution_count": 7,
   "metadata": {},
   "outputs": [
    {
     "data": {
      "text/html": [
       "<div>\n",
       "<style scoped>\n",
       "    .dataframe tbody tr th:only-of-type {\n",
       "        vertical-align: middle;\n",
       "    }\n",
       "\n",
       "    .dataframe tbody tr th {\n",
       "        vertical-align: top;\n",
       "    }\n",
       "\n",
       "    .dataframe thead th {\n",
       "        text-align: right;\n",
       "    }\n",
       "</style>\n",
       "<table border=\"1\" class=\"dataframe\">\n",
       "  <thead>\n",
       "    <tr style=\"text-align: right;\">\n",
       "      <th></th>\n",
       "      <th>f0</th>\n",
       "      <th>f1</th>\n",
       "      <th>f2</th>\n",
       "      <th>product</th>\n",
       "    </tr>\n",
       "  </thead>\n",
       "  <tbody>\n",
       "    <tr>\n",
       "      <th>count</th>\n",
       "      <td>100000.000000</td>\n",
       "      <td>100000.000000</td>\n",
       "      <td>100000.000000</td>\n",
       "      <td>100000.000000</td>\n",
       "    </tr>\n",
       "    <tr>\n",
       "      <th>mean</th>\n",
       "      <td>0.500419</td>\n",
       "      <td>0.250143</td>\n",
       "      <td>2.502647</td>\n",
       "      <td>92.500000</td>\n",
       "    </tr>\n",
       "    <tr>\n",
       "      <th>std</th>\n",
       "      <td>0.871832</td>\n",
       "      <td>0.504433</td>\n",
       "      <td>3.248248</td>\n",
       "      <td>44.288691</td>\n",
       "    </tr>\n",
       "    <tr>\n",
       "      <th>min</th>\n",
       "      <td>-1.408605</td>\n",
       "      <td>-0.848218</td>\n",
       "      <td>-12.088328</td>\n",
       "      <td>0.000000</td>\n",
       "    </tr>\n",
       "    <tr>\n",
       "      <th>25%</th>\n",
       "      <td>-0.072580</td>\n",
       "      <td>-0.200881</td>\n",
       "      <td>0.287748</td>\n",
       "      <td>56.497507</td>\n",
       "    </tr>\n",
       "    <tr>\n",
       "      <th>50%</th>\n",
       "      <td>0.502360</td>\n",
       "      <td>0.250252</td>\n",
       "      <td>2.515969</td>\n",
       "      <td>91.849972</td>\n",
       "    </tr>\n",
       "    <tr>\n",
       "      <th>75%</th>\n",
       "      <td>1.073581</td>\n",
       "      <td>0.700646</td>\n",
       "      <td>4.715088</td>\n",
       "      <td>128.564089</td>\n",
       "    </tr>\n",
       "    <tr>\n",
       "      <th>max</th>\n",
       "      <td>2.362331</td>\n",
       "      <td>1.343769</td>\n",
       "      <td>16.003790</td>\n",
       "      <td>185.364347</td>\n",
       "    </tr>\n",
       "  </tbody>\n",
       "</table>\n",
       "</div>"
      ],
      "text/plain": [
       "                  f0             f1             f2        product\n",
       "count  100000.000000  100000.000000  100000.000000  100000.000000\n",
       "mean        0.500419       0.250143       2.502647      92.500000\n",
       "std         0.871832       0.504433       3.248248      44.288691\n",
       "min        -1.408605      -0.848218     -12.088328       0.000000\n",
       "25%        -0.072580      -0.200881       0.287748      56.497507\n",
       "50%         0.502360       0.250252       2.515969      91.849972\n",
       "75%         1.073581       0.700646       4.715088     128.564089\n",
       "max         2.362331       1.343769      16.003790     185.364347"
      ]
     },
     "metadata": {},
     "output_type": "display_data"
    },
    {
     "data": {
      "text/html": [
       "<div>\n",
       "<style scoped>\n",
       "    .dataframe tbody tr th:only-of-type {\n",
       "        vertical-align: middle;\n",
       "    }\n",
       "\n",
       "    .dataframe tbody tr th {\n",
       "        vertical-align: top;\n",
       "    }\n",
       "\n",
       "    .dataframe thead th {\n",
       "        text-align: right;\n",
       "    }\n",
       "</style>\n",
       "<table border=\"1\" class=\"dataframe\">\n",
       "  <thead>\n",
       "    <tr style=\"text-align: right;\">\n",
       "      <th></th>\n",
       "      <th>f0</th>\n",
       "      <th>f1</th>\n",
       "      <th>f2</th>\n",
       "      <th>product</th>\n",
       "    </tr>\n",
       "  </thead>\n",
       "  <tbody>\n",
       "    <tr>\n",
       "      <th>count</th>\n",
       "      <td>100000.000000</td>\n",
       "      <td>100000.000000</td>\n",
       "      <td>100000.000000</td>\n",
       "      <td>100000.000000</td>\n",
       "    </tr>\n",
       "    <tr>\n",
       "      <th>mean</th>\n",
       "      <td>1.141296</td>\n",
       "      <td>-4.796579</td>\n",
       "      <td>2.494541</td>\n",
       "      <td>68.825000</td>\n",
       "    </tr>\n",
       "    <tr>\n",
       "      <th>std</th>\n",
       "      <td>8.965932</td>\n",
       "      <td>5.119872</td>\n",
       "      <td>1.703572</td>\n",
       "      <td>45.944423</td>\n",
       "    </tr>\n",
       "    <tr>\n",
       "      <th>min</th>\n",
       "      <td>-31.609576</td>\n",
       "      <td>-26.358598</td>\n",
       "      <td>-0.018144</td>\n",
       "      <td>0.000000</td>\n",
       "    </tr>\n",
       "    <tr>\n",
       "      <th>25%</th>\n",
       "      <td>-6.298551</td>\n",
       "      <td>-8.267985</td>\n",
       "      <td>1.000021</td>\n",
       "      <td>26.953261</td>\n",
       "    </tr>\n",
       "    <tr>\n",
       "      <th>50%</th>\n",
       "      <td>1.153055</td>\n",
       "      <td>-4.813172</td>\n",
       "      <td>2.011479</td>\n",
       "      <td>57.085625</td>\n",
       "    </tr>\n",
       "    <tr>\n",
       "      <th>75%</th>\n",
       "      <td>8.621015</td>\n",
       "      <td>-1.332816</td>\n",
       "      <td>3.999904</td>\n",
       "      <td>107.813044</td>\n",
       "    </tr>\n",
       "    <tr>\n",
       "      <th>max</th>\n",
       "      <td>29.421755</td>\n",
       "      <td>18.734063</td>\n",
       "      <td>5.019721</td>\n",
       "      <td>137.945408</td>\n",
       "    </tr>\n",
       "  </tbody>\n",
       "</table>\n",
       "</div>"
      ],
      "text/plain": [
       "                  f0             f1             f2        product\n",
       "count  100000.000000  100000.000000  100000.000000  100000.000000\n",
       "mean        1.141296      -4.796579       2.494541      68.825000\n",
       "std         8.965932       5.119872       1.703572      45.944423\n",
       "min       -31.609576     -26.358598      -0.018144       0.000000\n",
       "25%        -6.298551      -8.267985       1.000021      26.953261\n",
       "50%         1.153055      -4.813172       2.011479      57.085625\n",
       "75%         8.621015      -1.332816       3.999904     107.813044\n",
       "max        29.421755      18.734063       5.019721     137.945408"
      ]
     },
     "metadata": {},
     "output_type": "display_data"
    },
    {
     "data": {
      "text/html": [
       "<div>\n",
       "<style scoped>\n",
       "    .dataframe tbody tr th:only-of-type {\n",
       "        vertical-align: middle;\n",
       "    }\n",
       "\n",
       "    .dataframe tbody tr th {\n",
       "        vertical-align: top;\n",
       "    }\n",
       "\n",
       "    .dataframe thead th {\n",
       "        text-align: right;\n",
       "    }\n",
       "</style>\n",
       "<table border=\"1\" class=\"dataframe\">\n",
       "  <thead>\n",
       "    <tr style=\"text-align: right;\">\n",
       "      <th></th>\n",
       "      <th>f0</th>\n",
       "      <th>f1</th>\n",
       "      <th>f2</th>\n",
       "      <th>product</th>\n",
       "    </tr>\n",
       "  </thead>\n",
       "  <tbody>\n",
       "    <tr>\n",
       "      <th>count</th>\n",
       "      <td>100000.000000</td>\n",
       "      <td>100000.000000</td>\n",
       "      <td>100000.000000</td>\n",
       "      <td>100000.000000</td>\n",
       "    </tr>\n",
       "    <tr>\n",
       "      <th>mean</th>\n",
       "      <td>0.002023</td>\n",
       "      <td>-0.002081</td>\n",
       "      <td>2.495128</td>\n",
       "      <td>95.000000</td>\n",
       "    </tr>\n",
       "    <tr>\n",
       "      <th>std</th>\n",
       "      <td>1.732045</td>\n",
       "      <td>1.730417</td>\n",
       "      <td>3.473445</td>\n",
       "      <td>44.749921</td>\n",
       "    </tr>\n",
       "    <tr>\n",
       "      <th>min</th>\n",
       "      <td>-8.760004</td>\n",
       "      <td>-7.084020</td>\n",
       "      <td>-11.970335</td>\n",
       "      <td>0.000000</td>\n",
       "    </tr>\n",
       "    <tr>\n",
       "      <th>25%</th>\n",
       "      <td>-1.162288</td>\n",
       "      <td>-1.174820</td>\n",
       "      <td>0.130359</td>\n",
       "      <td>59.450441</td>\n",
       "    </tr>\n",
       "    <tr>\n",
       "      <th>50%</th>\n",
       "      <td>0.009424</td>\n",
       "      <td>-0.009482</td>\n",
       "      <td>2.484236</td>\n",
       "      <td>94.925613</td>\n",
       "    </tr>\n",
       "    <tr>\n",
       "      <th>75%</th>\n",
       "      <td>1.158535</td>\n",
       "      <td>1.163678</td>\n",
       "      <td>4.858794</td>\n",
       "      <td>130.595027</td>\n",
       "    </tr>\n",
       "    <tr>\n",
       "      <th>max</th>\n",
       "      <td>7.238262</td>\n",
       "      <td>7.844801</td>\n",
       "      <td>16.739402</td>\n",
       "      <td>190.029838</td>\n",
       "    </tr>\n",
       "  </tbody>\n",
       "</table>\n",
       "</div>"
      ],
      "text/plain": [
       "                  f0             f1             f2        product\n",
       "count  100000.000000  100000.000000  100000.000000  100000.000000\n",
       "mean        0.002023      -0.002081       2.495128      95.000000\n",
       "std         1.732045       1.730417       3.473445      44.749921\n",
       "min        -8.760004      -7.084020     -11.970335       0.000000\n",
       "25%        -1.162288      -1.174820       0.130359      59.450441\n",
       "50%         0.009424      -0.009482       2.484236      94.925613\n",
       "75%         1.158535       1.163678       4.858794     130.595027\n",
       "max         7.238262       7.844801      16.739402     190.029838"
      ]
     },
     "metadata": {},
     "output_type": "display_data"
    }
   ],
   "source": [
    "display(geo_data_0.describe())\n",
    "display(geo_data_1.describe())\n",
    "display(geo_data_2.describe())"
   ]
  },
  {
   "cell_type": "markdown",
   "metadata": {},
   "source": [
    "удалим столбец id:"
   ]
  },
  {
   "cell_type": "markdown",
   "metadata": {},
   "source": [
    "<div class='alert alert-success'> ✔️ Хорошо, провела первичный анализ. Добавлю, что в колонке id имеются дубли, однако в этой задаче это не принципиально.\n",
    "</div>"
   ]
  },
  {
   "cell_type": "markdown",
   "metadata": {},
   "source": [
    "Визуализируем распределение данных:"
   ]
  },
  {
   "cell_type": "code",
   "execution_count": 8,
   "metadata": {},
   "outputs": [],
   "source": [
    "def plot_histograms_boxplots(df):\n",
    "    \"\"\"\n",
    "    Строит гистограммы и ящики с усами для каждого количественного фактора в DataFrame.\n",
    "\n",
    "    :param df: DataFrame, содержащий данные\n",
    "    \"\"\"\n",
    "    # Выбор числовых столбцов\n",
    "    numeric_cols = df.select_dtypes(include=['number']).columns\n",
    "\n",
    "    # Установка размера фигуры\n",
    "    num_plots = len(numeric_cols)\n",
    "    plt.figure(figsize=(10, 5 * num_plots))\n",
    "\n",
    "    # Построение гистограмм и ящиков с усами для каждого числового столбца\n",
    "    for i, col in enumerate(numeric_cols):\n",
    "        # Гистограмма\n",
    "        plt.subplot(num_plots, 2, 2*i + 1)\n",
    "        df[col].hist(bins=15)\n",
    "        plt.title(f'Histogram of {col}')\n",
    "        plt.xlabel(col)\n",
    "        plt.ylabel('Frequency')\n",
    "\n",
    "        # Ящик с усами\n",
    "        plt.subplot(num_plots, 2, 2*i + 2)\n",
    "        df.boxplot(column=col)\n",
    "        plt.title(f'Box Plot of {col}')\n",
    "\n",
    "    plt.tight_layout()\n",
    "    plt.show()"
   ]
  },
  {
   "cell_type": "code",
   "execution_count": 9,
   "metadata": {},
   "outputs": [
    {
     "data": {
      "image/png": "[encoded data removed]",
      "text/plain": [
       "<Figure size 720x1440 with 8 Axes>"
      ]
     },
     "metadata": {
      "needs_background": "light"
     },
     "output_type": "display_data"
    }
   ],
   "source": [
    "plot_histograms_boxplots(geo_data_0)"
   ]
  },
  {
   "cell_type": "code",
   "execution_count": 10,
   "metadata": {},
   "outputs": [
    {
     "data": {
      "image/png": "[encoded data removed]",
      "text/plain": [
       "<Figure size 720x1440 with 8 Axes>"
      ]
     },
     "metadata": {
      "needs_background": "light"
     },
     "output_type": "display_data"
    }
   ],
   "source": [
    "plot_histograms_boxplots(geo_data_1)"
   ]
  },
  {
   "cell_type": "code",
   "execution_count": 11,
   "metadata": {},
   "outputs": [
    {
     "data": {
      "image/png": "[encoded data removed]",
      "text/plain": [
       "<Figure size 720x1440 with 8 Axes>"
      ]
     },
     "metadata": {
      "needs_background": "light"
     },
     "output_type": "display_data"
    }
   ],
   "source": [
    "plot_histograms_boxplots(geo_data_2)"
   ]
  },
  {
   "cell_type": "markdown",
   "metadata": {},
   "source": [
    "Явных выбросов в данных не наблюдается"
   ]
  },
  {
   "cell_type": "markdown",
   "metadata": {},
   "source": [
    "<div class='alert alert-success'> ✔️Хорошая функция для изучения распределений. Можно отметить тут интересный характер распределения этого признака и цели во втором по счету регионе\n",
    "</div>"
   ]
  },
  {
   "cell_type": "markdown",
   "metadata": {},
   "source": [
    "Посмотрим корреляцию между признаками в таблицах:"
   ]
  },
  {
   "cell_type": "code",
   "execution_count": 12,
   "metadata": {},
   "outputs": [
    {
     "data": {
      "text/html": [
       "<div>\n",
       "<style scoped>\n",
       "    .dataframe tbody tr th:only-of-type {\n",
       "        vertical-align: middle;\n",
       "    }\n",
       "\n",
       "    .dataframe tbody tr th {\n",
       "        vertical-align: top;\n",
       "    }\n",
       "\n",
       "    .dataframe thead th {\n",
       "        text-align: right;\n",
       "    }\n",
       "</style>\n",
       "<table border=\"1\" class=\"dataframe\">\n",
       "  <thead>\n",
       "    <tr style=\"text-align: right;\">\n",
       "      <th></th>\n",
       "      <th>f0</th>\n",
       "      <th>f1</th>\n",
       "      <th>f2</th>\n",
       "      <th>product</th>\n",
       "    </tr>\n",
       "  </thead>\n",
       "  <tbody>\n",
       "    <tr>\n",
       "      <th>f0</th>\n",
       "      <td>1.000000</td>\n",
       "      <td>-0.440723</td>\n",
       "      <td>-0.003153</td>\n",
       "      <td>0.143536</td>\n",
       "    </tr>\n",
       "    <tr>\n",
       "      <th>f1</th>\n",
       "      <td>-0.440723</td>\n",
       "      <td>1.000000</td>\n",
       "      <td>0.001724</td>\n",
       "      <td>-0.192356</td>\n",
       "    </tr>\n",
       "    <tr>\n",
       "      <th>f2</th>\n",
       "      <td>-0.003153</td>\n",
       "      <td>0.001724</td>\n",
       "      <td>1.000000</td>\n",
       "      <td>0.483663</td>\n",
       "    </tr>\n",
       "    <tr>\n",
       "      <th>product</th>\n",
       "      <td>0.143536</td>\n",
       "      <td>-0.192356</td>\n",
       "      <td>0.483663</td>\n",
       "      <td>1.000000</td>\n",
       "    </tr>\n",
       "  </tbody>\n",
       "</table>\n",
       "</div>"
      ],
      "text/plain": [
       "               f0        f1        f2   product\n",
       "f0       1.000000 -0.440723 -0.003153  0.143536\n",
       "f1      -0.440723  1.000000  0.001724 -0.192356\n",
       "f2      -0.003153  0.001724  1.000000  0.483663\n",
       "product  0.143536 -0.192356  0.483663  1.000000"
      ]
     },
     "execution_count": 12,
     "metadata": {},
     "output_type": "execute_result"
    }
   ],
   "source": [
    "geo_data_0.corr()"
   ]
  },
  {
   "cell_type": "code",
   "execution_count": 13,
   "metadata": {},
   "outputs": [
    {
     "data": {
      "text/html": [
       "<div>\n",
       "<style scoped>\n",
       "    .dataframe tbody tr th:only-of-type {\n",
       "        vertical-align: middle;\n",
       "    }\n",
       "\n",
       "    .dataframe tbody tr th {\n",
       "        vertical-align: top;\n",
       "    }\n",
       "\n",
       "    .dataframe thead th {\n",
       "        text-align: right;\n",
       "    }\n",
       "</style>\n",
       "<table border=\"1\" class=\"dataframe\">\n",
       "  <thead>\n",
       "    <tr style=\"text-align: right;\">\n",
       "      <th></th>\n",
       "      <th>f0</th>\n",
       "      <th>f1</th>\n",
       "      <th>f2</th>\n",
       "      <th>product</th>\n",
       "    </tr>\n",
       "  </thead>\n",
       "  <tbody>\n",
       "    <tr>\n",
       "      <th>f0</th>\n",
       "      <td>1.000000</td>\n",
       "      <td>0.182287</td>\n",
       "      <td>-0.001777</td>\n",
       "      <td>-0.030491</td>\n",
       "    </tr>\n",
       "    <tr>\n",
       "      <th>f1</th>\n",
       "      <td>0.182287</td>\n",
       "      <td>1.000000</td>\n",
       "      <td>-0.002595</td>\n",
       "      <td>-0.010155</td>\n",
       "    </tr>\n",
       "    <tr>\n",
       "      <th>f2</th>\n",
       "      <td>-0.001777</td>\n",
       "      <td>-0.002595</td>\n",
       "      <td>1.000000</td>\n",
       "      <td>0.999397</td>\n",
       "    </tr>\n",
       "    <tr>\n",
       "      <th>product</th>\n",
       "      <td>-0.030491</td>\n",
       "      <td>-0.010155</td>\n",
       "      <td>0.999397</td>\n",
       "      <td>1.000000</td>\n",
       "    </tr>\n",
       "  </tbody>\n",
       "</table>\n",
       "</div>"
      ],
      "text/plain": [
       "               f0        f1        f2   product\n",
       "f0       1.000000  0.182287 -0.001777 -0.030491\n",
       "f1       0.182287  1.000000 -0.002595 -0.010155\n",
       "f2      -0.001777 -0.002595  1.000000  0.999397\n",
       "product -0.030491 -0.010155  0.999397  1.000000"
      ]
     },
     "execution_count": 13,
     "metadata": {},
     "output_type": "execute_result"
    }
   ],
   "source": [
    "geo_data_1.corr()"
   ]
  },
  {
   "cell_type": "code",
   "execution_count": 14,
   "metadata": {},
   "outputs": [
    {
     "data": {
      "text/html": [
       "<div>\n",
       "<style scoped>\n",
       "    .dataframe tbody tr th:only-of-type {\n",
       "        vertical-align: middle;\n",
       "    }\n",
       "\n",
       "    .dataframe tbody tr th {\n",
       "        vertical-align: top;\n",
       "    }\n",
       "\n",
       "    .dataframe thead th {\n",
       "        text-align: right;\n",
       "    }\n",
       "</style>\n",
       "<table border=\"1\" class=\"dataframe\">\n",
       "  <thead>\n",
       "    <tr style=\"text-align: right;\">\n",
       "      <th></th>\n",
       "      <th>f0</th>\n",
       "      <th>f1</th>\n",
       "      <th>f2</th>\n",
       "      <th>product</th>\n",
       "    </tr>\n",
       "  </thead>\n",
       "  <tbody>\n",
       "    <tr>\n",
       "      <th>f0</th>\n",
       "      <td>1.000000</td>\n",
       "      <td>0.000528</td>\n",
       "      <td>-0.000448</td>\n",
       "      <td>-0.001987</td>\n",
       "    </tr>\n",
       "    <tr>\n",
       "      <th>f1</th>\n",
       "      <td>0.000528</td>\n",
       "      <td>1.000000</td>\n",
       "      <td>0.000779</td>\n",
       "      <td>-0.001012</td>\n",
       "    </tr>\n",
       "    <tr>\n",
       "      <th>f2</th>\n",
       "      <td>-0.000448</td>\n",
       "      <td>0.000779</td>\n",
       "      <td>1.000000</td>\n",
       "      <td>0.445871</td>\n",
       "    </tr>\n",
       "    <tr>\n",
       "      <th>product</th>\n",
       "      <td>-0.001987</td>\n",
       "      <td>-0.001012</td>\n",
       "      <td>0.445871</td>\n",
       "      <td>1.000000</td>\n",
       "    </tr>\n",
       "  </tbody>\n",
       "</table>\n",
       "</div>"
      ],
      "text/plain": [
       "               f0        f1        f2   product\n",
       "f0       1.000000  0.000528 -0.000448 -0.001987\n",
       "f1       0.000528  1.000000  0.000779 -0.001012\n",
       "f2      -0.000448  0.000779  1.000000  0.445871\n",
       "product -0.001987 -0.001012  0.445871  1.000000"
      ]
     },
     "execution_count": 14,
     "metadata": {},
     "output_type": "execute_result"
    }
   ],
   "source": [
    "geo_data_2.corr()"
   ]
  },
  {
   "cell_type": "markdown",
   "metadata": {},
   "source": [
    "Вывод: заметили мультиколлинеарность в таблице 1 между f2 и целевым признаком, следовательно, признак f2 следует удалить для целей обучения модели."
   ]
  },
  {
   "cell_type": "markdown",
   "metadata": {},
   "source": [
    "<div class='alert alert-danger'>❌Мултиколлинеарность между признаками плохо, да, однако между целью и признаком, наоборот, он он пригодится\n",
    "\n",
    "\n",
    "</div>"
   ]
  },
  {
   "cell_type": "markdown",
   "metadata": {},
   "source": [
    "<br/>    \n",
    "<div class=\"alert alert-info\">\n",
    "<h2> Комментарий студента: <a class=\"tocSkip\"> </h2>\n",
    "\n",
    "<b>👋:</b> Вернула признак)\n",
    "</div> "
   ]
  },
  {
   "cell_type": "markdown",
   "metadata": {},
   "source": [
    "<div class='alert alert-success'> ✔️(2)Отлично\n",
    "</div>"
   ]
  },
  {
   "cell_type": "markdown",
   "metadata": {},
   "source": [
    "Вывод: мы убедились в отсутствии пропусков и дубликатов, проверили формат данных, названия столбцов, отсутствие значительных выбросов. Также заметили мультиколлинеарность в 1 таблице."
   ]
  },
  {
   "cell_type": "markdown",
   "metadata": {},
   "source": [
    "## Обучение и проверка модели"
   ]
  },
  {
   "cell_type": "code",
   "execution_count": 15,
   "metadata": {},
   "outputs": [],
   "source": [
    "array_name = [\"geo_data_0\",\n",
    "              \"geo_data_1\",\n",
    "              \"geo_data_2\"]\n",
    "\n",
    "array_frame = [geo_data_0,\n",
    "              geo_data_1,\n",
    "              geo_data_2]\n",
    "\n",
    "data = {\"pipelines\":{},\"scores\":{},\"valid\":{}}\n",
    "\n",
    "for frame, name in zip(array_frame,array_name):\n",
    "    \n",
    "    features = frame.drop([\"id\",\"product\"], axis = 1)\n",
    "    target = frame[\"product\"]\n",
    "    \n",
    "    new_pipeline = make_pipeline(StandardScaler(),LinearRegression())\n",
    "    \n",
    "    \n",
    "    (features_train,\n",
    "    features_valid,\n",
    "    target_train,\n",
    "    target_valid) = train_test_split(features,\n",
    "                                     target,\n",
    "                                     test_size = 0.25,\n",
    "                                     random_state = RANDOM_STATE)\n",
    "    data['valid'][name] = (features_valid,target_valid)\n",
    "    new_pipeline.fit(features_train,target_train)\n",
    "    \n",
    "    data['pipelines'][name] = new_pipeline\n",
    "    data['scores'][name] = mean_squared_error(target_valid,\n",
    "                                                   new_pipeline.predict(features_valid))**0.5"
   ]
  },
  {
   "cell_type": "code",
   "execution_count": 16,
   "metadata": {},
   "outputs": [
    {
     "name": "stdout",
     "output_type": "stream",
     "text": [
      "geo_data_0\n",
      "Средний запас: 92.39879990657768 RMSE модели: 37.75660035026169\n",
      "\n",
      "geo_data_1\n",
      "Средний запас: 68.7128780391376 RMSE модели: 0.8902801001028846\n",
      "\n",
      "geo_data_2\n",
      "Средний запас: 94.77102387765939 RMSE модели: 40.145872311342174\n",
      "\n"
     ]
    }
   ],
   "source": [
    "for name in array_name:\n",
    "    best_model = data['pipelines'][name]\n",
    "    predicted_values = best_model.predict(data['valid'][name][0])\n",
    "    RMSE_model = (mean_squared_error(data['valid'][name][1],predicted_values))**0.5\n",
    "    print(name)\n",
    "    print('Средний запас:',predicted_values.mean(),\"RMSE модели:\",RMSE_model)\n",
    "    print()"
   ]
  },
  {
   "cell_type": "markdown",
   "metadata": {},
   "source": [
    "Вывод: самая маленькая ошибка наблюдается в 1 регионе, но при этом наибольший объем запасов в 2 регионе."
   ]
  },
  {
   "cell_type": "markdown",
   "metadata": {},
   "source": [
    "<div class='alert alert-success'> ✔️Молодец, что используешь циклы для оптимизации кода, однако результат и вывод поменяется после восстановления признака нашего\n",
    "</div>"
   ]
  },
  {
   "cell_type": "markdown",
   "metadata": {},
   "source": [
    "## Подготовка к расчёту прибыли"
   ]
  },
  {
   "cell_type": "code",
   "execution_count": 17,
   "metadata": {},
   "outputs": [],
   "source": [
    "BUDGET = 10**10\n",
    "PRE_POINTS = 500\n",
    "FINAL_POINTS = 200\n",
    "PRICE = 450000\n",
    "LOSS_THRESHOLD =  0.025\n",
    "BREAK_EVEN = (BUDGET/(PRICE))/(FINAL_POINTS)"
   ]
  },
  {
   "cell_type": "markdown",
   "metadata": {},
   "source": [
    "<div class='alert alert-success'> ✔️Молодец, написанные с больших букв константы проще отличаются от переменных\n",
    "</div>"
   ]
  },
  {
   "cell_type": "code",
   "execution_count": 18,
   "metadata": {},
   "outputs": [
    {
     "name": "stdout",
     "output_type": "stream",
     "text": [
      "Точка безубыточности: 111.11\n"
     ]
    }
   ],
   "source": [
    "print(\"Точка безубыточности:\",round(BREAK_EVEN,2))"
   ]
  },
  {
   "cell_type": "code",
   "execution_count": 19,
   "metadata": {},
   "outputs": [
    {
     "name": "stdout",
     "output_type": "stream",
     "text": [
      "36.584\n",
      "16.537\n",
      "38.178\n"
     ]
    }
   ],
   "source": [
    "for frame in array_frame:\n",
    "    percent = (frame.loc[frame['product'] > 111.11]['product'].count()/frame['product'].count())*100\n",
    "    print(percent)"
   ]
  },
  {
   "cell_type": "markdown",
   "metadata": {},
   "source": [
    "Вывод: В нулевом и третьем регионах более 35% всех точек проходят порог безубыточности, в то время как в первом регионе только 17% точек проходят порог."
   ]
  },
  {
   "cell_type": "markdown",
   "metadata": {},
   "source": [
    "<div class='alert alert-success'> ✔️Обьем добычи для безубыточности с одной скважины найден. Хорошее сравнение с запасами в регионах\n",
    "</div>"
   ]
  },
  {
   "cell_type": "markdown",
   "metadata": {},
   "source": [
    "## Расчёт прибыли и рисков "
   ]
  },
  {
   "cell_type": "code",
   "execution_count": 20,
   "metadata": {},
   "outputs": [],
   "source": [
    "def income(true_target, pred_target):\n",
    "    sort_Series = pd.Series(pred_target).sort_values(ascending=False)\n",
    "    true_target_sort = true_target[sort_Series.index][:FINAL_POINTS]\n",
    "    sum_true = true_target_sort.sum() \n",
    "    return round((sum_true * PRICE) - BUDGET,2)"
   ]
  },
  {
   "cell_type": "markdown",
   "metadata": {},
   "source": [
    "<div class='alert alert-success'> ✔️Корректная функция\n",
    "</div>"
   ]
  },
  {
   "cell_type": "code",
   "execution_count": 21,
   "metadata": {},
   "outputs": [
    {
     "name": "stdout",
     "output_type": "stream",
     "text": [
      "geo_data_0\n",
      "Прибыль: 3359141114.46\n",
      "\n",
      "geo_data_1\n",
      "Прибыль: 2415086696.68\n",
      "\n",
      "geo_data_2\n",
      "Прибыль: 2598571759.37\n",
      "\n"
     ]
    }
   ],
   "source": [
    "for name in array_name:\n",
    "    best_model = data['pipelines'][name]\n",
    "    predicted_values = best_model.predict(data['valid'][name][0])\n",
    "    predicted_values = pd.Series(predicted_values)\n",
    "    income_0 = data['valid'][name][1].reset_index(drop = True)\n",
    "    print(name)\n",
    "    print('Прибыль:',income(income_0,predicted_values))\n",
    "    print()"
   ]
  },
  {
   "cell_type": "code",
   "execution_count": 24,
   "metadata": {},
   "outputs": [],
   "source": [
    "state = np.random.RandomState(12345)\n",
    "def confidence_interval(true_target,pred_target):\n",
    "    samples = []\n",
    "    true_target = true_target.reset_index(drop = True)\n",
    "    for i in range(1000):\n",
    "        sample = true_target.sample(n = PRE_POINTS, replace=True,random_state=state)\n",
    "        probs_subsample = pred_target[sample.index]\n",
    "        samples.append(income(sample.reset_index(drop=True), probs_subsample.reset_index(drop=True)))\n",
    "    samples = pd.Series(samples)\n",
    "    print(samples.mean())\n",
    "    print(samples.apply(lambda x: x < 0).sum()/len(samples)*100,\"%\")\n",
    "    \n",
    "    lower = samples.quantile(0.025)\n",
    "    upper = samples.quantile(0.975)\n",
    "    return round(lower,2), round(upper,2)"
   ]
  },
  {
   "cell_type": "markdown",
   "metadata": {},
   "source": [
    "<div class='alert alert-warning'>⚠️ Логика верная. Как считаешь, не лучше в функцию прибыли передавать аргументы со сброшенными индексами  (sample.reset_index(drop=True), probs_subsample.reset_index(drop=True))? Это обеспечит недопущение попадания искусственных повторов при подсчете прибыли, в выборку из 200 точек (читай <a href='https://zen.yandex.ru/media/id/5ee6f73b7cadb75a66e4c7e3/lovushka-semlirovaniia-privodiascaia-k-razmnojeniiu-povtornyh-indeksov-62d25c205f37c21646e36711'> тут </a>).\n",
    "\n",
    "</div>"
   ]
  },
  {
   "cell_type": "markdown",
   "metadata": {},
   "source": [
    "<br/>    \n",
    "<div class=\"alert alert-info\">\n",
    "<h2> Комментарий студента: <a class=\"tocSkip\"> </h2>\n",
    "\n",
    "<b>👋:</b> Добавила в функцию сброс индексов\n",
    "</div> "
   ]
  },
  {
   "cell_type": "markdown",
   "metadata": {},
   "source": [
    "<div class='alert alert-success'> ✔️(2)Супер\n",
    "</div>"
   ]
  },
  {
   "cell_type": "code",
   "execution_count": 25,
   "metadata": {},
   "outputs": [
    {
     "name": "stdout",
     "output_type": "stream",
     "text": [
      "geo_data_0\n",
      "406278783.42436\n",
      "6.7 %\n",
      "95% доверительный итервал: (-117742136.49, 911737050.75)\n",
      "\n",
      "geo_data_1\n",
      "441504277.59207994\n",
      "1.6 %\n",
      "95% доверительный итервал: (35728489.28, 828006639.0)\n",
      "\n",
      "geo_data_2\n",
      "385213195.91423005\n",
      "7.8 %\n",
      "95% доверительный итервал: (-164785166.11, 888206234.2)\n",
      "\n"
     ]
    }
   ],
   "source": [
    "predicted = pd.DataFrame()\n",
    "for name in array_name:\n",
    "    best_model = data['pipelines'][name]\n",
    "    predicted_values = best_model.predict(data['valid'][name][0])\n",
    "    predicted[name]=pd.Series(predicted_values)\n",
    "    print(name)\n",
    "    print('95% доверительный итервал:',confidence_interval(data['valid'][name][1],predicted[name]))\n",
    "    print()"
   ]
  },
  {
   "cell_type": "markdown",
   "metadata": {},
   "source": [
    "Вывод: наименьшие риски наблюдаются в 1 регионе, наибольшая прибыль также для 1 региона. При этом риски соответствувют целевому значению менее 2.5% только для первого региона, поэтому рассматриваем только его. Для региона 0 наблюдаются более повышенные риски - 6.2%, при меньшей прибыли. Для 2 региона риски еще выше - 8.7%, при меньшей прибыли. Таким образом, рекомендуется выбрать 1 регион для разведки новых месторождений."
   ]
  },
  {
   "cell_type": "markdown",
   "metadata": {},
   "source": [
    "<div class='alert alert-danger'>❌тут вывод поменяется у нас\n",
    "</div>"
   ]
  },
  {
   "cell_type": "markdown",
   "metadata": {},
   "source": [
    "<div class='alert alert-success'> ✔️(2)Отличный выбор региона\n",
    "</div>"
   ]
  },
  {
   "cell_type": "markdown",
   "metadata": {},
   "source": [
    "<br/>    \n",
    "<div class=\"alert alert-info\">\n",
    "<h2> Комментарий студента: <a class=\"tocSkip\"> </h2>\n",
    "\n",
    "<b>👋:</b> Переписала вывод по новым значениям\n",
    "</div> "
   ]
  },
  {
   "cell_type": "markdown",
   "metadata": {},
   "source": [
    "<div class='alert alert-info'>🏁 Отличная работа, Полина!  Качественно исследовала и подготовила признаки, корректно выполнила разделение на выборки и построила регрессию. Осталось вернуть значимый признак и переделать выводы в части касающейся.\n",
    "\n",
    "</div>"
   ]
  },
  {
   "cell_type": "markdown",
   "metadata": {},
   "source": [
    "<div class='alert alert-success'> <strong>Ревьюер(2)</strong> <br>\n",
    "\n",
    "Спасибо за сильную работу и удачной учебы, немного активности и все получится!\n",
    "\n",
    "</div>"
   ]
  },
  {
   "cell_type": "markdown",
   "metadata": {},
   "source": [
    "## Чек-лист готовности проекта"
   ]
  },
  {
   "cell_type": "markdown",
   "metadata": {},
   "source": [
    "Поставьте 'x' в выполненных пунктах. Далее нажмите Shift+Enter."
   ]
  },
  {
   "cell_type": "markdown",
   "metadata": {},
   "source": [
    "- [x]  Jupyter Notebook открыт\n",
    "- [x]  Весь код выполняется без ошибок\n",
    "- [x]  Ячейки с кодом расположены в порядке исполнения\n",
    "- [x]  Выполнен шаг 1: данные подготовлены\n",
    "- [x]  Выполнен шаг 2: модели обучены и проверены\n",
    "    - [x]  Данные корректно разбиты на обучающую и валидационную выборки\n",
    "    - [x]  Модели обучены, предсказания сделаны\n",
    "    - [x]  Предсказания и правильные ответы на валидационной выборке сохранены\n",
    "    - [x]  На экране напечатаны результаты\n",
    "    - [x]  Сделаны выводы\n",
    "- [x]  Выполнен шаг 3: проведена подготовка к расчёту прибыли\n",
    "    - [x]  Для всех ключевых значений созданы константы Python\n",
    "    - [x]  Посчитано минимальное среднее количество продукта в месторождениях региона, достаточное для разработки\n",
    "    - [x]  По предыдущему пункту сделаны выводы\n",
    "    - [x]  Написана функция расчёта прибыли\n",
    "- [x]  Выполнен шаг 4: посчитаны риски и прибыль\n",
    "    - [x]  Проведена процедура *Bootstrap*\n",
    "    - [x]  Все параметры бутстрепа соответствуют условию\n",
    "    - [x]  Найдены все нужные величины\n",
    "    - [x]  Предложен регион для разработки месторождения\n",
    "    - [x]  Выбор региона обоснован"
   ]
  },
  {
   "cell_type": "code",
   "execution_count": null,
   "metadata": {},
   "outputs": [],
   "source": []
  }
 ],
 "metadata": {
  "ExecuteTimeLog": [
   {
    "duration": 7342,
    "start_time": "2024-05-28T15:17:16.359Z"
   },
   {
    "duration": 2116,
    "start_time": "2024-05-28T15:17:43.380Z"
   },
   {
    "duration": 3,
    "start_time": "2024-05-28T15:17:55.098Z"
   },
   {
    "duration": 259,
    "start_time": "2024-05-28T15:19:06.898Z"
   },
   {
    "duration": 275,
    "start_time": "2024-05-28T15:19:54.465Z"
   },
   {
    "duration": 247,
    "start_time": "2024-05-28T15:20:12.611Z"
   },
   {
    "duration": 126,
    "start_time": "2024-05-28T15:36:41.267Z"
   },
   {
    "duration": 68,
    "start_time": "2024-05-28T15:38:59.453Z"
   },
   {
    "duration": 44,
    "start_time": "2024-05-29T08:28:37.506Z"
   },
   {
    "duration": 6969,
    "start_time": "2024-05-29T08:28:45.141Z"
   },
   {
    "duration": 1864,
    "start_time": "2024-05-29T08:28:52.112Z"
   },
   {
    "duration": 2,
    "start_time": "2024-05-29T08:28:53.978Z"
   },
   {
    "duration": 580,
    "start_time": "2024-05-29T08:28:53.982Z"
   },
   {
    "duration": 502,
    "start_time": "2024-05-29T08:28:54.563Z"
   },
   {
    "duration": 515,
    "start_time": "2024-05-29T08:28:55.066Z"
   },
   {
    "duration": 134,
    "start_time": "2024-05-29T08:28:55.582Z"
   },
   {
    "duration": 35,
    "start_time": "2024-05-29T08:28:55.717Z"
   },
   {
    "duration": 160,
    "start_time": "2024-05-29T08:28:55.753Z"
   },
   {
    "duration": 10,
    "start_time": "2024-05-29T08:29:33.885Z"
   },
   {
    "duration": 34,
    "start_time": "2024-05-29T08:29:49.916Z"
   },
   {
    "duration": 84,
    "start_time": "2024-05-29T08:30:05.863Z"
   },
   {
    "duration": 5,
    "start_time": "2024-05-29T08:33:05.704Z"
   },
   {
    "duration": 1418,
    "start_time": "2024-05-29T08:33:19.743Z"
   },
   {
    "duration": 4,
    "start_time": "2024-05-29T08:34:43.484Z"
   },
   {
    "duration": 5118,
    "start_time": "2024-05-29T08:36:20.071Z"
   },
   {
    "duration": 1641,
    "start_time": "2024-05-29T08:36:25.191Z"
   },
   {
    "duration": 2,
    "start_time": "2024-05-29T08:36:26.834Z"
   },
   {
    "duration": 155,
    "start_time": "2024-05-29T08:36:26.837Z"
   },
   {
    "duration": 122,
    "start_time": "2024-05-29T08:36:26.994Z"
   },
   {
    "duration": 119,
    "start_time": "2024-05-29T08:36:27.117Z"
   },
   {
    "duration": 119,
    "start_time": "2024-05-29T08:36:27.237Z"
   },
   {
    "duration": 47,
    "start_time": "2024-05-29T08:36:27.357Z"
   },
   {
    "duration": 100,
    "start_time": "2024-05-29T08:36:27.405Z"
   },
   {
    "duration": 4,
    "start_time": "2024-05-29T08:36:27.507Z"
   },
   {
    "duration": 1342,
    "start_time": "2024-05-29T08:36:27.512Z"
   },
   {
    "duration": 1317,
    "start_time": "2024-05-29T08:36:28.855Z"
   },
   {
    "duration": 1299,
    "start_time": "2024-05-29T08:36:30.173Z"
   },
   {
    "duration": 13,
    "start_time": "2024-05-29T08:40:23.139Z"
   },
   {
    "duration": 13,
    "start_time": "2024-05-29T08:41:03.835Z"
   },
   {
    "duration": 12,
    "start_time": "2024-05-29T08:41:04.973Z"
   },
   {
    "duration": 10,
    "start_time": "2024-05-29T08:44:45.455Z"
   },
   {
    "duration": 126,
    "start_time": "2024-05-29T08:55:30.758Z"
   },
   {
    "duration": 5,
    "start_time": "2024-05-29T08:56:17.918Z"
   },
   {
    "duration": 12,
    "start_time": "2024-05-29T08:56:24.268Z"
   },
   {
    "duration": 282,
    "start_time": "2024-05-29T08:56:46.608Z"
   },
   {
    "duration": 274,
    "start_time": "2024-05-29T08:57:30.911Z"
   },
   {
    "duration": 65,
    "start_time": "2024-05-29T09:20:13.006Z"
   },
   {
    "duration": 10,
    "start_time": "2024-05-29T09:20:47.229Z"
   },
   {
    "duration": 11,
    "start_time": "2024-05-29T09:21:02.419Z"
   },
   {
    "duration": 14,
    "start_time": "2024-05-29T09:21:40.833Z"
   },
   {
    "duration": 12,
    "start_time": "2024-05-29T09:22:26.582Z"
   },
   {
    "duration": 11,
    "start_time": "2024-05-29T09:22:51.439Z"
   },
   {
    "duration": 12,
    "start_time": "2024-05-29T09:23:06.214Z"
   },
   {
    "duration": 16,
    "start_time": "2024-05-29T09:31:21.593Z"
   },
   {
    "duration": 321,
    "start_time": "2024-05-29T09:32:51.364Z"
   },
   {
    "duration": 18,
    "start_time": "2024-05-29T09:32:52.185Z"
   },
   {
    "duration": 2,
    "start_time": "2024-05-29T09:41:31.296Z"
   },
   {
    "duration": 3,
    "start_time": "2024-05-29T09:42:16.246Z"
   },
   {
    "duration": 26,
    "start_time": "2024-05-29T09:54:24.595Z"
   },
   {
    "duration": 14,
    "start_time": "2024-05-29T09:55:25.960Z"
   },
   {
    "duration": 12,
    "start_time": "2024-05-29T09:56:57.300Z"
   },
   {
    "duration": 2,
    "start_time": "2024-05-29T09:59:23.042Z"
   },
   {
    "duration": 9,
    "start_time": "2024-05-29T10:00:46.471Z"
   },
   {
    "duration": 12,
    "start_time": "2024-05-29T10:01:21.782Z"
   },
   {
    "duration": 12,
    "start_time": "2024-05-29T10:01:33.686Z"
   },
   {
    "duration": 12,
    "start_time": "2024-05-29T10:01:43.454Z"
   },
   {
    "duration": 3,
    "start_time": "2024-05-29T10:05:58.944Z"
   },
   {
    "duration": 4,
    "start_time": "2024-05-29T10:08:32.332Z"
   },
   {
    "duration": 162,
    "start_time": "2024-05-29T10:08:38.232Z"
   },
   {
    "duration": 90,
    "start_time": "2024-05-29T10:11:11.304Z"
   },
   {
    "duration": 6,
    "start_time": "2024-05-29T11:09:22.765Z"
   },
   {
    "duration": 80,
    "start_time": "2024-05-29T11:09:26.826Z"
   },
   {
    "duration": 100,
    "start_time": "2024-05-29T11:09:40.286Z"
   },
   {
    "duration": 5,
    "start_time": "2024-05-29T11:10:41.257Z"
   },
   {
    "duration": 3,
    "start_time": "2024-05-29T11:10:49.092Z"
   },
   {
    "duration": 78,
    "start_time": "2024-05-29T11:10:54.915Z"
   },
   {
    "duration": 4,
    "start_time": "2024-05-29T11:11:10.629Z"
   },
   {
    "duration": 24,
    "start_time": "2024-05-29T11:11:11.264Z"
   },
   {
    "duration": 4,
    "start_time": "2024-05-29T11:11:30.696Z"
   },
   {
    "duration": 3016,
    "start_time": "2024-05-29T11:11:31.484Z"
   },
   {
    "duration": 3079,
    "start_time": "2024-05-29T11:15:01.426Z"
   },
   {
    "duration": 3,
    "start_time": "2024-05-29T11:27:08.771Z"
   },
   {
    "duration": 3025,
    "start_time": "2024-05-29T11:27:11.478Z"
   },
   {
    "duration": 3,
    "start_time": "2024-05-29T11:34:38.657Z"
   },
   {
    "duration": 2990,
    "start_time": "2024-05-29T11:41:04.521Z"
   },
   {
    "duration": 8,
    "start_time": "2024-05-29T11:41:20.692Z"
   },
   {
    "duration": 5,
    "start_time": "2024-05-29T11:45:10.168Z"
   },
   {
    "duration": 18,
    "start_time": "2024-05-29T11:46:32.947Z"
   },
   {
    "duration": 5,
    "start_time": "2024-05-29T11:47:32.131Z"
   },
   {
    "duration": 5,
    "start_time": "2024-05-29T11:47:48.912Z"
   },
   {
    "duration": 4,
    "start_time": "2024-05-29T12:06:03.382Z"
   },
   {
    "duration": 4,
    "start_time": "2024-05-29T12:17:15.668Z"
   },
   {
    "duration": 19,
    "start_time": "2024-05-29T12:20:03.898Z"
   },
   {
    "duration": 4,
    "start_time": "2024-05-29T12:20:39.005Z"
   },
   {
    "duration": 7,
    "start_time": "2024-05-29T12:20:57.757Z"
   },
   {
    "duration": 8,
    "start_time": "2024-05-29T12:21:07.525Z"
   },
   {
    "duration": 4,
    "start_time": "2024-05-29T12:21:15.477Z"
   },
   {
    "duration": 5,
    "start_time": "2024-05-29T12:21:32.199Z"
   },
   {
    "duration": 9,
    "start_time": "2024-05-29T12:23:57.319Z"
   },
   {
    "duration": 2,
    "start_time": "2024-05-29T12:24:05.232Z"
   },
   {
    "duration": 5,
    "start_time": "2024-05-29T12:24:29.610Z"
   },
   {
    "duration": 8,
    "start_time": "2024-05-29T12:25:24.548Z"
   },
   {
    "duration": 7,
    "start_time": "2024-05-29T12:25:28.381Z"
   },
   {
    "duration": 14,
    "start_time": "2024-05-29T12:25:29.111Z"
   },
   {
    "duration": 8,
    "start_time": "2024-05-29T12:29:03.713Z"
   },
   {
    "duration": 17,
    "start_time": "2024-05-29T12:29:05.440Z"
   },
   {
    "duration": 8,
    "start_time": "2024-05-29T12:29:30.058Z"
   },
   {
    "duration": 8,
    "start_time": "2024-05-29T12:29:55.753Z"
   },
   {
    "duration": 16,
    "start_time": "2024-05-29T12:29:56.853Z"
   },
   {
    "duration": 8,
    "start_time": "2024-05-29T12:30:04.995Z"
   },
   {
    "duration": 6,
    "start_time": "2024-05-29T12:30:18.800Z"
   },
   {
    "duration": 11,
    "start_time": "2024-05-29T12:30:56.105Z"
   },
   {
    "duration": 20,
    "start_time": "2024-05-29T12:30:56.691Z"
   },
   {
    "duration": 4,
    "start_time": "2024-05-29T12:32:44.901Z"
   },
   {
    "duration": 7,
    "start_time": "2024-05-29T12:32:46.035Z"
   },
   {
    "duration": 20,
    "start_time": "2024-05-29T12:32:46.974Z"
   },
   {
    "duration": 10,
    "start_time": "2024-05-29T12:37:04.899Z"
   },
   {
    "duration": 24,
    "start_time": "2024-05-29T12:37:36.165Z"
   },
   {
    "duration": 12,
    "start_time": "2024-05-29T12:39:43.464Z"
   },
   {
    "duration": 4,
    "start_time": "2024-05-29T12:40:06.271Z"
   },
   {
    "duration": 8,
    "start_time": "2024-05-29T12:40:21.637Z"
   },
   {
    "duration": 12,
    "start_time": "2024-05-29T12:42:52.379Z"
   },
   {
    "duration": 21,
    "start_time": "2024-05-29T12:43:09.856Z"
   },
   {
    "duration": 15,
    "start_time": "2024-05-29T12:44:36.345Z"
   },
   {
    "duration": 17,
    "start_time": "2024-05-29T12:44:52.774Z"
   },
   {
    "duration": 9,
    "start_time": "2024-05-29T12:45:14.806Z"
   },
   {
    "duration": 10,
    "start_time": "2024-05-29T12:51:45.410Z"
   },
   {
    "duration": 18,
    "start_time": "2024-05-29T12:51:50.257Z"
   },
   {
    "duration": 14,
    "start_time": "2024-05-29T12:52:03.412Z"
   },
   {
    "duration": 8,
    "start_time": "2024-05-29T12:52:20.545Z"
   },
   {
    "duration": 4,
    "start_time": "2024-05-29T12:52:39.431Z"
   },
   {
    "duration": 16,
    "start_time": "2024-05-29T12:52:48.993Z"
   },
   {
    "duration": 5,
    "start_time": "2024-05-29T12:53:50.199Z"
   },
   {
    "duration": 9,
    "start_time": "2024-05-29T12:54:14.246Z"
   },
   {
    "duration": 17,
    "start_time": "2024-05-29T12:54:39.086Z"
   },
   {
    "duration": 3,
    "start_time": "2024-05-29T15:08:28.516Z"
   },
   {
    "duration": 1078,
    "start_time": "2024-05-29T15:09:54.269Z"
   },
   {
    "duration": 3,
    "start_time": "2024-05-29T15:10:10.104Z"
   },
   {
    "duration": 29,
    "start_time": "2024-05-29T15:10:13.257Z"
   },
   {
    "duration": 19,
    "start_time": "2024-05-29T15:10:40.701Z"
   },
   {
    "duration": 6,
    "start_time": "2024-05-29T15:10:57.937Z"
   },
   {
    "duration": 12,
    "start_time": "2024-05-29T15:12:59.243Z"
   },
   {
    "duration": 5,
    "start_time": "2024-05-29T15:15:19.748Z"
   },
   {
    "duration": 3,
    "start_time": "2024-05-29T15:15:20.852Z"
   },
   {
    "duration": 3,
    "start_time": "2024-05-29T15:15:47.548Z"
   },
   {
    "duration": 5,
    "start_time": "2024-05-29T15:15:55.253Z"
   },
   {
    "duration": 780,
    "start_time": "2024-05-29T15:16:08.063Z"
   },
   {
    "duration": 737,
    "start_time": "2024-05-29T15:16:14.805Z"
   },
   {
    "duration": 3,
    "start_time": "2024-05-29T15:16:42.805Z"
   },
   {
    "duration": 4,
    "start_time": "2024-05-29T15:19:06.014Z"
   },
   {
    "duration": 16,
    "start_time": "2024-05-29T15:19:12.437Z"
   },
   {
    "duration": 5,
    "start_time": "2024-05-29T15:19:13.625Z"
   },
   {
    "duration": 11,
    "start_time": "2024-05-29T15:19:32.389Z"
   },
   {
    "duration": 4,
    "start_time": "2024-05-29T15:20:03.636Z"
   },
   {
    "duration": 3,
    "start_time": "2024-05-29T15:20:04.720Z"
   },
   {
    "duration": 11,
    "start_time": "2024-05-29T15:20:16.992Z"
   },
   {
    "duration": 18,
    "start_time": "2024-05-29T15:20:50.218Z"
   },
   {
    "duration": 5,
    "start_time": "2024-05-29T15:20:53.489Z"
   },
   {
    "duration": 9,
    "start_time": "2024-05-29T15:24:38.674Z"
   },
   {
    "duration": 2,
    "start_time": "2024-05-29T15:25:33.984Z"
   },
   {
    "duration": 4,
    "start_time": "2024-05-29T15:25:41.926Z"
   },
   {
    "duration": 5,
    "start_time": "2024-05-29T15:25:46.633Z"
   },
   {
    "duration": 5,
    "start_time": "2024-05-29T15:25:47.432Z"
   },
   {
    "duration": 20,
    "start_time": "2024-05-29T15:25:58.215Z"
   },
   {
    "duration": 8,
    "start_time": "2024-05-29T15:27:30.452Z"
   },
   {
    "duration": 6,
    "start_time": "2024-05-29T15:27:53.337Z"
   },
   {
    "duration": 17,
    "start_time": "2024-05-29T15:28:02.226Z"
   },
   {
    "duration": 15,
    "start_time": "2024-05-29T15:28:19.933Z"
   },
   {
    "duration": 3,
    "start_time": "2024-05-29T15:34:36.501Z"
   },
   {
    "duration": 6,
    "start_time": "2024-05-29T15:34:40.467Z"
   },
   {
    "duration": 5,
    "start_time": "2024-05-29T15:34:51.145Z"
   },
   {
    "duration": 20,
    "start_time": "2024-05-29T15:34:52.124Z"
   },
   {
    "duration": 5,
    "start_time": "2024-05-29T15:34:54.385Z"
   },
   {
    "duration": 3,
    "start_time": "2024-05-29T15:35:04.251Z"
   },
   {
    "duration": 4,
    "start_time": "2024-05-29T15:35:04.946Z"
   },
   {
    "duration": 13,
    "start_time": "2024-05-29T15:35:10.348Z"
   },
   {
    "duration": 80,
    "start_time": "2024-05-29T15:35:49.161Z"
   },
   {
    "duration": 6,
    "start_time": "2024-05-29T15:35:53.265Z"
   },
   {
    "duration": 3,
    "start_time": "2024-05-29T15:36:04.745Z"
   },
   {
    "duration": 16,
    "start_time": "2024-05-29T15:36:13.208Z"
   },
   {
    "duration": 3,
    "start_time": "2024-05-29T15:39:31.085Z"
   },
   {
    "duration": 4,
    "start_time": "2024-05-29T15:39:31.951Z"
   },
   {
    "duration": 21,
    "start_time": "2024-05-29T15:39:41.684Z"
   },
   {
    "duration": 4,
    "start_time": "2024-05-29T15:40:18.044Z"
   },
   {
    "duration": 4,
    "start_time": "2024-05-29T15:40:18.686Z"
   },
   {
    "duration": 15,
    "start_time": "2024-05-29T15:40:25.779Z"
   },
   {
    "duration": 3,
    "start_time": "2024-05-29T15:41:22.501Z"
   },
   {
    "duration": 4,
    "start_time": "2024-05-29T15:41:23.153Z"
   },
   {
    "duration": 16,
    "start_time": "2024-05-29T15:41:26.138Z"
   },
   {
    "duration": 3,
    "start_time": "2024-05-29T15:42:52.382Z"
   },
   {
    "duration": 4,
    "start_time": "2024-05-29T15:42:53.037Z"
   },
   {
    "duration": 18,
    "start_time": "2024-05-29T15:42:56.449Z"
   },
   {
    "duration": 59,
    "start_time": "2024-05-29T15:43:58.930Z"
   },
   {
    "duration": 65,
    "start_time": "2024-05-29T15:44:05.287Z"
   },
   {
    "duration": 3,
    "start_time": "2024-05-29T15:45:00.995Z"
   },
   {
    "duration": 4,
    "start_time": "2024-05-29T15:45:02.370Z"
   },
   {
    "duration": 18,
    "start_time": "2024-05-29T15:45:05.721Z"
   },
   {
    "duration": 74,
    "start_time": "2024-05-29T15:53:09.571Z"
   },
   {
    "duration": 7,
    "start_time": "2024-05-29T15:53:14.275Z"
   },
   {
    "duration": 4,
    "start_time": "2024-05-29T15:53:16.983Z"
   },
   {
    "duration": 1327,
    "start_time": "2024-05-29T15:53:17.738Z"
   },
   {
    "duration": 1439,
    "start_time": "2024-05-29T15:53:19.067Z"
   },
   {
    "duration": 1315,
    "start_time": "2024-05-29T15:53:20.508Z"
   },
   {
    "duration": 7305,
    "start_time": "2024-05-30T07:47:13.017Z"
   },
   {
    "duration": 2182,
    "start_time": "2024-05-30T07:47:20.324Z"
   },
   {
    "duration": 4,
    "start_time": "2024-05-30T07:47:22.508Z"
   },
   {
    "duration": 304,
    "start_time": "2024-05-30T07:47:22.515Z"
   },
   {
    "duration": 266,
    "start_time": "2024-05-30T07:47:22.820Z"
   },
   {
    "duration": 241,
    "start_time": "2024-05-30T07:47:23.088Z"
   },
   {
    "duration": 181,
    "start_time": "2024-05-30T07:47:23.331Z"
   },
   {
    "duration": 123,
    "start_time": "2024-05-30T07:47:23.514Z"
   },
   {
    "duration": 16,
    "start_time": "2024-05-30T07:47:23.645Z"
   },
   {
    "duration": 102,
    "start_time": "2024-05-30T07:47:23.664Z"
   },
   {
    "duration": 1560,
    "start_time": "2024-05-30T07:47:23.768Z"
   },
   {
    "duration": 1638,
    "start_time": "2024-05-30T07:47:25.329Z"
   },
   {
    "duration": 1621,
    "start_time": "2024-05-30T07:47:26.970Z"
   },
   {
    "duration": 14,
    "start_time": "2024-05-30T07:47:28.593Z"
   },
   {
    "duration": 20,
    "start_time": "2024-05-30T07:47:28.609Z"
   },
   {
    "duration": 26,
    "start_time": "2024-05-30T07:47:28.631Z"
   },
   {
    "duration": 10,
    "start_time": "2024-05-30T07:47:28.659Z"
   },
   {
    "duration": 180,
    "start_time": "2024-05-30T07:47:28.671Z"
   },
   {
    "duration": 0,
    "start_time": "2024-05-30T07:47:28.853Z"
   },
   {
    "duration": 0,
    "start_time": "2024-05-30T07:47:28.854Z"
   },
   {
    "duration": 0,
    "start_time": "2024-05-30T07:47:28.855Z"
   },
   {
    "duration": 0,
    "start_time": "2024-05-30T07:47:28.856Z"
   },
   {
    "duration": 0,
    "start_time": "2024-05-30T07:47:28.857Z"
   },
   {
    "duration": 0,
    "start_time": "2024-05-30T07:47:28.858Z"
   },
   {
    "duration": 0,
    "start_time": "2024-05-30T07:47:28.860Z"
   },
   {
    "duration": 0,
    "start_time": "2024-05-30T07:47:28.861Z"
   },
   {
    "duration": 0,
    "start_time": "2024-05-30T07:47:28.862Z"
   },
   {
    "duration": 0,
    "start_time": "2024-05-30T07:47:28.864Z"
   },
   {
    "duration": 0,
    "start_time": "2024-05-30T07:47:28.865Z"
   },
   {
    "duration": 0,
    "start_time": "2024-05-30T07:47:28.867Z"
   },
   {
    "duration": 0,
    "start_time": "2024-05-30T07:47:28.868Z"
   },
   {
    "duration": 0,
    "start_time": "2024-05-30T07:47:28.869Z"
   },
   {
    "duration": 0,
    "start_time": "2024-05-30T07:47:28.871Z"
   },
   {
    "duration": 0,
    "start_time": "2024-05-30T07:47:28.872Z"
   },
   {
    "duration": 0,
    "start_time": "2024-05-30T07:47:28.873Z"
   },
   {
    "duration": 0,
    "start_time": "2024-05-30T07:47:28.875Z"
   },
   {
    "duration": 0,
    "start_time": "2024-05-30T07:47:28.877Z"
   },
   {
    "duration": 0,
    "start_time": "2024-05-30T07:47:28.878Z"
   },
   {
    "duration": 0,
    "start_time": "2024-05-30T07:47:28.879Z"
   },
   {
    "duration": 0,
    "start_time": "2024-05-30T07:47:28.881Z"
   },
   {
    "duration": 15,
    "start_time": "2024-05-30T07:48:43.910Z"
   },
   {
    "duration": 4765,
    "start_time": "2024-05-30T07:48:53.321Z"
   },
   {
    "duration": 1740,
    "start_time": "2024-05-30T07:48:58.089Z"
   },
   {
    "duration": 2,
    "start_time": "2024-05-30T07:48:59.831Z"
   },
   {
    "duration": 173,
    "start_time": "2024-05-30T07:48:59.835Z"
   },
   {
    "duration": 162,
    "start_time": "2024-05-30T07:49:00.010Z"
   },
   {
    "duration": 150,
    "start_time": "2024-05-30T07:49:00.174Z"
   },
   {
    "duration": 140,
    "start_time": "2024-05-30T07:49:00.325Z"
   },
   {
    "duration": 106,
    "start_time": "2024-05-30T07:49:00.466Z"
   },
   {
    "duration": 3,
    "start_time": "2024-05-30T07:49:00.573Z"
   },
   {
    "duration": 42,
    "start_time": "2024-05-30T07:49:00.577Z"
   },
   {
    "duration": 1658,
    "start_time": "2024-05-30T07:49:00.621Z"
   },
   {
    "duration": 1570,
    "start_time": "2024-05-30T07:49:02.281Z"
   },
   {
    "duration": 1463,
    "start_time": "2024-05-30T07:49:03.852Z"
   },
   {
    "duration": 14,
    "start_time": "2024-05-30T07:49:05.319Z"
   },
   {
    "duration": 24,
    "start_time": "2024-05-30T07:49:05.334Z"
   },
   {
    "duration": 14,
    "start_time": "2024-05-30T07:49:05.359Z"
   },
   {
    "duration": 11,
    "start_time": "2024-05-30T07:49:05.375Z"
   },
   {
    "duration": 359,
    "start_time": "2024-05-30T07:49:05.388Z"
   },
   {
    "duration": 107,
    "start_time": "2024-05-30T07:49:05.749Z"
   },
   {
    "duration": 99,
    "start_time": "2024-05-30T07:49:05.858Z"
   },
   {
    "duration": 86,
    "start_time": "2024-05-30T07:49:05.965Z"
   },
   {
    "duration": 37,
    "start_time": "2024-05-30T07:49:06.052Z"
   },
   {
    "duration": 14,
    "start_time": "2024-05-30T07:49:06.091Z"
   },
   {
    "duration": 141,
    "start_time": "2024-05-30T07:49:06.107Z"
   },
   {
    "duration": 95,
    "start_time": "2024-05-30T07:49:06.250Z"
   },
   {
    "duration": 3760,
    "start_time": "2024-05-30T07:49:06.347Z"
   },
   {
    "duration": 4,
    "start_time": "2024-05-30T07:49:10.108Z"
   },
   {
    "duration": 32,
    "start_time": "2024-05-30T07:49:10.113Z"
   },
   {
    "duration": 18,
    "start_time": "2024-05-30T07:49:10.147Z"
   },
   {
    "duration": 5,
    "start_time": "2024-05-30T07:49:10.167Z"
   },
   {
    "duration": 6,
    "start_time": "2024-05-30T07:49:10.173Z"
   },
   {
    "duration": 167,
    "start_time": "2024-05-30T07:49:10.181Z"
   },
   {
    "duration": 222,
    "start_time": "2024-05-30T07:49:10.350Z"
   },
   {
    "duration": 0,
    "start_time": "2024-05-30T07:49:10.574Z"
   },
   {
    "duration": 0,
    "start_time": "2024-05-30T07:49:10.575Z"
   },
   {
    "duration": 0,
    "start_time": "2024-05-30T07:49:10.576Z"
   },
   {
    "duration": 0,
    "start_time": "2024-05-30T07:49:10.577Z"
   },
   {
    "duration": 0,
    "start_time": "2024-05-30T07:49:10.578Z"
   },
   {
    "duration": 0,
    "start_time": "2024-05-30T07:49:10.579Z"
   },
   {
    "duration": 0,
    "start_time": "2024-05-30T07:49:10.580Z"
   },
   {
    "duration": 196,
    "start_time": "2024-05-30T07:52:37.871Z"
   },
   {
    "duration": 3848,
    "start_time": "2024-05-30T07:52:49.478Z"
   },
   {
    "duration": 3843,
    "start_time": "2024-05-30T07:53:15.963Z"
   },
   {
    "duration": 3815,
    "start_time": "2024-05-30T07:53:38.130Z"
   },
   {
    "duration": 4007,
    "start_time": "2024-05-30T07:54:06.445Z"
   },
   {
    "duration": 3818,
    "start_time": "2024-05-30T07:54:34.059Z"
   },
   {
    "duration": 3584,
    "start_time": "2024-05-30T07:57:06.287Z"
   },
   {
    "duration": 5,
    "start_time": "2024-05-30T07:57:21.776Z"
   },
   {
    "duration": 3604,
    "start_time": "2024-05-30T07:57:27.434Z"
   },
   {
    "duration": 3585,
    "start_time": "2024-05-30T07:57:45.690Z"
   },
   {
    "duration": 3911,
    "start_time": "2024-05-30T07:58:11.766Z"
   },
   {
    "duration": 4017,
    "start_time": "2024-05-30T07:58:23.074Z"
   },
   {
    "duration": 4,
    "start_time": "2024-05-30T08:04:10.787Z"
   },
   {
    "duration": 40,
    "start_time": "2024-05-30T08:04:13.707Z"
   },
   {
    "duration": 6,
    "start_time": "2024-05-30T08:05:42.552Z"
   },
   {
    "duration": 3864,
    "start_time": "2024-05-30T08:06:10.063Z"
   },
   {
    "duration": 11,
    "start_time": "2024-05-30T08:06:56.519Z"
   },
   {
    "duration": 4,
    "start_time": "2024-05-30T08:07:15.399Z"
   },
   {
    "duration": 3805,
    "start_time": "2024-05-30T08:07:16.685Z"
   },
   {
    "duration": 7,
    "start_time": "2024-05-30T08:20:26.859Z"
   },
   {
    "duration": 215,
    "start_time": "2024-05-30T08:20:29.849Z"
   },
   {
    "duration": 1048,
    "start_time": "2024-05-30T08:21:10.354Z"
   },
   {
    "duration": 206,
    "start_time": "2024-05-30T08:21:37.250Z"
   },
   {
    "duration": 114,
    "start_time": "2024-05-30T08:23:22.633Z"
   },
   {
    "duration": 180,
    "start_time": "2024-05-30T08:25:51.774Z"
   },
   {
    "duration": 5,
    "start_time": "2024-05-30T08:25:55.579Z"
   },
   {
    "duration": 213,
    "start_time": "2024-05-30T08:25:56.243Z"
   },
   {
    "duration": 62,
    "start_time": "2024-05-30T08:26:50.093Z"
   },
   {
    "duration": 93,
    "start_time": "2024-05-30T08:27:07.267Z"
   },
   {
    "duration": 5,
    "start_time": "2024-05-30T08:35:13.874Z"
   },
   {
    "duration": 152,
    "start_time": "2024-05-30T08:35:17.704Z"
   },
   {
    "duration": 4,
    "start_time": "2024-05-30T08:35:50.396Z"
   },
   {
    "duration": 3757,
    "start_time": "2024-05-30T08:35:51.447Z"
   },
   {
    "duration": 4,
    "start_time": "2024-05-30T08:36:27.357Z"
   },
   {
    "duration": 3856,
    "start_time": "2024-05-30T08:36:28.107Z"
   },
   {
    "duration": 4,
    "start_time": "2024-05-30T08:42:14.544Z"
   },
   {
    "duration": 147,
    "start_time": "2024-05-30T08:42:16.913Z"
   },
   {
    "duration": 4,
    "start_time": "2024-05-30T08:42:57.203Z"
   },
   {
    "duration": 3639,
    "start_time": "2024-05-30T08:42:57.825Z"
   },
   {
    "duration": 4,
    "start_time": "2024-05-30T08:44:05.445Z"
   },
   {
    "duration": 185,
    "start_time": "2024-05-30T08:44:06.267Z"
   },
   {
    "duration": 4,
    "start_time": "2024-05-30T08:45:43.175Z"
   },
   {
    "duration": 147,
    "start_time": "2024-05-30T08:45:43.911Z"
   },
   {
    "duration": 4,
    "start_time": "2024-05-30T08:46:28.426Z"
   },
   {
    "duration": 177,
    "start_time": "2024-05-30T08:46:29.283Z"
   },
   {
    "duration": 4,
    "start_time": "2024-05-30T08:46:35.944Z"
   },
   {
    "duration": 169,
    "start_time": "2024-05-30T08:46:36.485Z"
   },
   {
    "duration": 4,
    "start_time": "2024-05-30T08:47:33.725Z"
   },
   {
    "duration": 166,
    "start_time": "2024-05-30T08:47:34.207Z"
   },
   {
    "duration": 5,
    "start_time": "2024-05-30T08:48:59.079Z"
   },
   {
    "duration": 184,
    "start_time": "2024-05-30T08:48:59.965Z"
   },
   {
    "duration": 5,
    "start_time": "2024-05-30T08:49:41.534Z"
   },
   {
    "duration": 217,
    "start_time": "2024-05-30T08:49:42.148Z"
   },
   {
    "duration": 4,
    "start_time": "2024-05-30T08:53:53.537Z"
   },
   {
    "duration": 212,
    "start_time": "2024-05-30T08:53:54.635Z"
   },
   {
    "duration": 4,
    "start_time": "2024-05-30T08:54:05.619Z"
   },
   {
    "duration": 4544,
    "start_time": "2024-05-30T08:54:06.722Z"
   },
   {
    "duration": 204,
    "start_time": "2024-05-30T08:54:36.042Z"
   },
   {
    "duration": 3,
    "start_time": "2024-05-30T08:56:16.473Z"
   },
   {
    "duration": 197,
    "start_time": "2024-05-30T08:56:17.053Z"
   },
   {
    "duration": 4,
    "start_time": "2024-05-30T08:57:38.510Z"
   },
   {
    "duration": 156,
    "start_time": "2024-05-30T08:57:39.491Z"
   },
   {
    "duration": 5,
    "start_time": "2024-05-30T08:58:21.048Z"
   },
   {
    "duration": 62,
    "start_time": "2024-05-30T08:58:23.099Z"
   },
   {
    "duration": 3,
    "start_time": "2024-05-30T08:59:12.967Z"
   },
   {
    "duration": 169,
    "start_time": "2024-05-30T08:59:14.078Z"
   },
   {
    "duration": 4,
    "start_time": "2024-05-30T08:59:22.290Z"
   },
   {
    "duration": 209,
    "start_time": "2024-05-30T08:59:23.339Z"
   },
   {
    "duration": 4,
    "start_time": "2024-05-30T09:05:10.219Z"
   },
   {
    "duration": 216,
    "start_time": "2024-05-30T09:05:11.039Z"
   },
   {
    "duration": 4,
    "start_time": "2024-05-30T09:05:39.227Z"
   },
   {
    "duration": 209,
    "start_time": "2024-05-30T09:05:39.542Z"
   },
   {
    "duration": 177,
    "start_time": "2024-05-30T09:08:21.377Z"
   },
   {
    "duration": 3,
    "start_time": "2024-05-30T09:09:16.836Z"
   },
   {
    "duration": 86,
    "start_time": "2024-05-30T09:09:20.270Z"
   },
   {
    "duration": 5,
    "start_time": "2024-05-30T09:09:24.143Z"
   },
   {
    "duration": 4651,
    "start_time": "2024-05-30T09:09:26.680Z"
   },
   {
    "duration": 58,
    "start_time": "2024-05-30T09:10:32.841Z"
   },
   {
    "duration": 3,
    "start_time": "2024-05-30T09:10:54.664Z"
   },
   {
    "duration": 229,
    "start_time": "2024-05-30T09:11:11.726Z"
   },
   {
    "duration": 168,
    "start_time": "2024-05-30T09:11:43.485Z"
   },
   {
    "duration": 30,
    "start_time": "2024-05-30T09:11:52.229Z"
   },
   {
    "duration": 92,
    "start_time": "2024-05-30T09:12:27.660Z"
   },
   {
    "duration": 123,
    "start_time": "2024-05-30T09:12:55.627Z"
   },
   {
    "duration": 4903,
    "start_time": "2024-05-30T09:13:26.295Z"
   },
   {
    "duration": 4,
    "start_time": "2024-05-30T09:14:56.597Z"
   },
   {
    "duration": 4836,
    "start_time": "2024-05-30T09:14:57.232Z"
   },
   {
    "duration": 3,
    "start_time": "2024-05-30T09:17:35.302Z"
   },
   {
    "duration": 218,
    "start_time": "2024-05-30T09:17:36.043Z"
   },
   {
    "duration": 3,
    "start_time": "2024-05-30T09:18:33.175Z"
   },
   {
    "duration": 211,
    "start_time": "2024-05-30T09:18:33.739Z"
   },
   {
    "duration": 3,
    "start_time": "2024-05-30T09:21:07.317Z"
   },
   {
    "duration": 177,
    "start_time": "2024-05-30T09:21:07.887Z"
   },
   {
    "duration": 271,
    "start_time": "2024-05-30T09:23:17.675Z"
   },
   {
    "duration": 5,
    "start_time": "2024-05-30T09:23:18.506Z"
   },
   {
    "duration": 3,
    "start_time": "2024-05-30T09:23:45.125Z"
   },
   {
    "duration": 208,
    "start_time": "2024-05-30T09:23:45.847Z"
   },
   {
    "duration": 4,
    "start_time": "2024-05-30T09:23:46.820Z"
   },
   {
    "duration": 8728,
    "start_time": "2024-05-30T09:23:47.839Z"
   },
   {
    "duration": 3,
    "start_time": "2024-05-30T09:24:14.979Z"
   },
   {
    "duration": 175,
    "start_time": "2024-05-30T09:24:17.679Z"
   },
   {
    "duration": 5,
    "start_time": "2024-05-30T09:24:24.267Z"
   },
   {
    "duration": 5284,
    "start_time": "2024-05-30T09:24:27.995Z"
   },
   {
    "duration": 5424,
    "start_time": "2024-05-30T09:25:01.785Z"
   },
   {
    "duration": 4,
    "start_time": "2024-05-30T09:25:33.021Z"
   },
   {
    "duration": 5357,
    "start_time": "2024-05-30T09:25:33.724Z"
   },
   {
    "duration": 4,
    "start_time": "2024-05-30T09:27:06.817Z"
   },
   {
    "duration": 8765,
    "start_time": "2024-05-30T09:27:07.419Z"
   },
   {
    "duration": 4,
    "start_time": "2024-05-30T09:28:39.887Z"
   },
   {
    "duration": 178,
    "start_time": "2024-05-30T09:28:40.677Z"
   },
   {
    "duration": 6,
    "start_time": "2024-05-30T09:29:27.474Z"
   },
   {
    "duration": 9165,
    "start_time": "2024-05-30T09:29:28.115Z"
   },
   {
    "duration": 4,
    "start_time": "2024-05-30T09:29:56.977Z"
   },
   {
    "duration": 9080,
    "start_time": "2024-05-30T09:29:57.449Z"
   },
   {
    "duration": 4,
    "start_time": "2024-05-30T09:30:55.767Z"
   },
   {
    "duration": 9182,
    "start_time": "2024-05-30T09:30:56.433Z"
   },
   {
    "duration": 5,
    "start_time": "2024-05-30T09:34:33.069Z"
   },
   {
    "duration": 8405,
    "start_time": "2024-05-30T09:34:33.759Z"
   },
   {
    "duration": 4,
    "start_time": "2024-05-30T09:35:06.532Z"
   },
   {
    "duration": 8394,
    "start_time": "2024-05-30T09:35:07.253Z"
   },
   {
    "duration": 4692,
    "start_time": "2024-05-30T10:08:23.668Z"
   },
   {
    "duration": 1718,
    "start_time": "2024-05-30T10:08:28.362Z"
   },
   {
    "duration": 3,
    "start_time": "2024-05-30T10:08:30.084Z"
   },
   {
    "duration": 201,
    "start_time": "2024-05-30T10:08:30.088Z"
   },
   {
    "duration": 157,
    "start_time": "2024-05-30T10:08:30.290Z"
   },
   {
    "duration": 149,
    "start_time": "2024-05-30T10:08:30.448Z"
   },
   {
    "duration": 133,
    "start_time": "2024-05-30T10:08:30.598Z"
   },
   {
    "duration": 117,
    "start_time": "2024-05-30T10:08:30.733Z"
   },
   {
    "duration": 3,
    "start_time": "2024-05-30T10:08:30.852Z"
   },
   {
    "duration": 150,
    "start_time": "2024-05-30T10:08:30.856Z"
   },
   {
    "duration": 1530,
    "start_time": "2024-05-30T10:08:31.007Z"
   },
   {
    "duration": 1491,
    "start_time": "2024-05-30T10:08:32.538Z"
   },
   {
    "duration": 1386,
    "start_time": "2024-05-30T10:08:34.031Z"
   },
   {
    "duration": 14,
    "start_time": "2024-05-30T10:08:35.419Z"
   },
   {
    "duration": 26,
    "start_time": "2024-05-30T10:08:35.445Z"
   },
   {
    "duration": 27,
    "start_time": "2024-05-30T10:08:35.472Z"
   },
   {
    "duration": 21,
    "start_time": "2024-05-30T10:08:35.500Z"
   },
   {
    "duration": 423,
    "start_time": "2024-05-30T10:08:35.522Z"
   },
   {
    "duration": 204,
    "start_time": "2024-05-30T10:08:35.947Z"
   },
   {
    "duration": 94,
    "start_time": "2024-05-30T10:08:36.153Z"
   },
   {
    "duration": 111,
    "start_time": "2024-05-30T10:08:36.249Z"
   },
   {
    "duration": 35,
    "start_time": "2024-05-30T10:08:36.362Z"
   },
   {
    "duration": 5,
    "start_time": "2024-05-30T10:08:36.399Z"
   },
   {
    "duration": 148,
    "start_time": "2024-05-30T10:08:36.406Z"
   },
   {
    "duration": 7,
    "start_time": "2024-05-30T10:08:36.646Z"
   },
   {
    "duration": 8322,
    "start_time": "2024-05-30T10:08:36.655Z"
   },
   {
    "duration": 5,
    "start_time": "2024-05-30T10:09:15.308Z"
   },
   {
    "duration": 10925,
    "start_time": "2024-05-30T10:09:21.747Z"
   },
   {
    "duration": 4,
    "start_time": "2024-05-30T10:11:34.434Z"
   },
   {
    "duration": 10414,
    "start_time": "2024-05-30T10:11:35.057Z"
   },
   {
    "duration": 4,
    "start_time": "2024-05-30T10:12:03.920Z"
   },
   {
    "duration": 10432,
    "start_time": "2024-05-30T10:12:04.594Z"
   },
   {
    "duration": 5,
    "start_time": "2024-05-30T10:12:16.276Z"
   },
   {
    "duration": 4249,
    "start_time": "2024-05-30T10:12:16.832Z"
   },
   {
    "duration": 4556,
    "start_time": "2024-05-30T10:17:46.817Z"
   },
   {
    "duration": 1682,
    "start_time": "2024-05-30T10:17:51.375Z"
   },
   {
    "duration": 3,
    "start_time": "2024-05-30T10:17:53.058Z"
   },
   {
    "duration": 165,
    "start_time": "2024-05-30T10:17:53.062Z"
   },
   {
    "duration": 136,
    "start_time": "2024-05-30T10:17:53.229Z"
   },
   {
    "duration": 144,
    "start_time": "2024-05-30T10:17:53.366Z"
   },
   {
    "duration": 141,
    "start_time": "2024-05-30T10:17:53.512Z"
   },
   {
    "duration": 97,
    "start_time": "2024-05-30T10:17:53.654Z"
   },
   {
    "duration": 2,
    "start_time": "2024-05-30T10:17:53.753Z"
   },
   {
    "duration": 65,
    "start_time": "2024-05-30T10:17:53.757Z"
   },
   {
    "duration": 1398,
    "start_time": "2024-05-30T10:17:53.823Z"
   },
   {
    "duration": 1467,
    "start_time": "2024-05-30T10:17:55.223Z"
   },
   {
    "duration": 1525,
    "start_time": "2024-05-30T10:17:56.692Z"
   },
   {
    "duration": 28,
    "start_time": "2024-05-30T10:17:58.219Z"
   },
   {
    "duration": 13,
    "start_time": "2024-05-30T10:17:58.248Z"
   },
   {
    "duration": 12,
    "start_time": "2024-05-30T10:17:58.263Z"
   },
   {
    "duration": 28,
    "start_time": "2024-05-30T10:17:58.276Z"
   },
   {
    "duration": 341,
    "start_time": "2024-05-30T10:17:58.306Z"
   },
   {
    "duration": 199,
    "start_time": "2024-05-30T10:17:58.649Z"
   },
   {
    "duration": 3,
    "start_time": "2024-05-30T10:17:58.850Z"
   },
   {
    "duration": 5,
    "start_time": "2024-05-30T10:17:58.946Z"
   },
   {
    "duration": 18,
    "start_time": "2024-05-30T10:17:58.953Z"
   },
   {
    "duration": 4,
    "start_time": "2024-05-30T10:17:59.046Z"
   },
   {
    "duration": 204,
    "start_time": "2024-05-30T10:17:59.051Z"
   },
   {
    "duration": 89,
    "start_time": "2024-05-30T10:17:59.257Z"
   },
   {
    "duration": 4254,
    "start_time": "2024-05-30T10:17:59.348Z"
   },
   {
    "duration": 1445,
    "start_time": "2024-05-30T10:21:22.939Z"
   },
   {
    "duration": 3,
    "start_time": "2024-05-30T10:21:24.386Z"
   },
   {
    "duration": 178,
    "start_time": "2024-05-30T10:21:24.390Z"
   },
   {
    "duration": 168,
    "start_time": "2024-05-30T10:21:24.570Z"
   },
   {
    "duration": 172,
    "start_time": "2024-05-30T10:21:24.745Z"
   },
   {
    "duration": 151,
    "start_time": "2024-05-30T10:21:24.919Z"
   },
   {
    "duration": 111,
    "start_time": "2024-05-30T10:21:25.072Z"
   },
   {
    "duration": 6,
    "start_time": "2024-05-30T10:21:25.184Z"
   },
   {
    "duration": 1587,
    "start_time": "2024-05-30T10:21:25.193Z"
   },
   {
    "duration": 1654,
    "start_time": "2024-05-30T10:21:26.782Z"
   },
   {
    "duration": 1601,
    "start_time": "2024-05-30T10:21:28.445Z"
   },
   {
    "duration": 15,
    "start_time": "2024-05-30T10:21:30.047Z"
   },
   {
    "duration": 52,
    "start_time": "2024-05-30T10:21:30.064Z"
   },
   {
    "duration": 61,
    "start_time": "2024-05-30T10:21:30.118Z"
   },
   {
    "duration": 29,
    "start_time": "2024-05-30T10:21:30.180Z"
   },
   {
    "duration": 359,
    "start_time": "2024-05-30T10:21:30.211Z"
   },
   {
    "duration": 112,
    "start_time": "2024-05-30T10:21:30.646Z"
   },
   {
    "duration": 227,
    "start_time": "2024-05-30T10:21:30.760Z"
   },
   {
    "duration": 236,
    "start_time": "2024-05-30T10:21:30.994Z"
   },
   {
    "duration": 87,
    "start_time": "2024-05-30T10:21:31.232Z"
   },
   {
    "duration": 88,
    "start_time": "2024-05-30T10:21:31.321Z"
   },
   {
    "duration": 237,
    "start_time": "2024-05-30T10:21:31.410Z"
   },
   {
    "duration": 113,
    "start_time": "2024-05-30T10:21:31.650Z"
   },
   {
    "duration": 4719,
    "start_time": "2024-05-30T10:21:31.765Z"
   },
   {
    "duration": 1571,
    "start_time": "2024-05-30T10:54:29.165Z"
   },
   {
    "duration": 2,
    "start_time": "2024-05-30T10:54:30.738Z"
   },
   {
    "duration": 565,
    "start_time": "2024-05-30T10:54:32.993Z"
   },
   {
    "duration": 507,
    "start_time": "2024-05-30T10:54:33.560Z"
   },
   {
    "duration": 511,
    "start_time": "2024-05-30T10:54:34.069Z"
   },
   {
    "duration": 113,
    "start_time": "2024-05-30T10:54:40.393Z"
   },
   {
    "duration": 90,
    "start_time": "2024-05-30T10:54:42.070Z"
   },
   {
    "duration": 5,
    "start_time": "2024-05-30T10:55:40.786Z"
   },
   {
    "duration": 1478,
    "start_time": "2024-05-30T10:55:41.698Z"
   },
   {
    "duration": 1367,
    "start_time": "2024-05-30T10:55:44.769Z"
   },
   {
    "duration": 1379,
    "start_time": "2024-05-30T10:55:54.202Z"
   },
   {
    "duration": 9,
    "start_time": "2024-05-30T10:57:51.650Z"
   },
   {
    "duration": 274,
    "start_time": "2024-05-30T10:58:43.818Z"
   },
   {
    "duration": 16,
    "start_time": "2024-05-30T10:58:52.836Z"
   },
   {
    "duration": 3,
    "start_time": "2024-05-30T10:59:55.550Z"
   },
   {
    "duration": 3,
    "start_time": "2024-05-30T10:59:55.887Z"
   },
   {
    "duration": 13,
    "start_time": "2024-05-30T11:00:16.351Z"
   },
   {
    "duration": 3,
    "start_time": "2024-05-30T11:01:02.867Z"
   },
   {
    "duration": 167,
    "start_time": "2024-05-30T11:02:04.625Z"
   },
   {
    "duration": 5,
    "start_time": "2024-05-30T11:02:05.717Z"
   },
   {
    "duration": 3573,
    "start_time": "2024-05-30T11:02:12.699Z"
   },
   {
    "duration": 5,
    "start_time": "2024-05-30T11:02:24.592Z"
   },
   {
    "duration": 5,
    "start_time": "2024-05-30T11:10:39.683Z"
   },
   {
    "duration": 5,
    "start_time": "2024-05-30T11:10:39.690Z"
   },
   {
    "duration": 139,
    "start_time": "2024-05-30T11:10:39.697Z"
   },
   {
    "duration": 125,
    "start_time": "2024-05-30T11:10:39.838Z"
   },
   {
    "duration": 131,
    "start_time": "2024-05-30T11:10:39.965Z"
   },
   {
    "duration": 125,
    "start_time": "2024-05-30T11:10:40.097Z"
   },
   {
    "duration": 96,
    "start_time": "2024-05-30T11:10:40.224Z"
   },
   {
    "duration": 5,
    "start_time": "2024-05-30T11:10:40.321Z"
   },
   {
    "duration": 1521,
    "start_time": "2024-05-30T11:10:40.327Z"
   },
   {
    "duration": 1449,
    "start_time": "2024-05-30T11:10:41.850Z"
   },
   {
    "duration": 1401,
    "start_time": "2024-05-30T11:10:43.300Z"
   },
   {
    "duration": 14,
    "start_time": "2024-05-30T11:10:44.702Z"
   },
   {
    "duration": 13,
    "start_time": "2024-05-30T11:10:44.718Z"
   },
   {
    "duration": 14,
    "start_time": "2024-05-30T11:10:44.733Z"
   },
   {
    "duration": 8,
    "start_time": "2024-05-30T11:10:44.748Z"
   },
   {
    "duration": 410,
    "start_time": "2024-05-30T11:10:44.784Z"
   },
   {
    "duration": 197,
    "start_time": "2024-05-30T11:10:45.196Z"
   },
   {
    "duration": 5,
    "start_time": "2024-05-30T11:10:45.394Z"
   },
   {
    "duration": 4,
    "start_time": "2024-05-30T11:10:45.486Z"
   },
   {
    "duration": 101,
    "start_time": "2024-05-30T11:10:45.492Z"
   },
   {
    "duration": 4,
    "start_time": "2024-05-30T11:10:45.594Z"
   },
   {
    "duration": 192,
    "start_time": "2024-05-30T11:10:45.599Z"
   },
   {
    "duration": 92,
    "start_time": "2024-05-30T11:10:45.793Z"
   },
   {
    "duration": 3921,
    "start_time": "2024-05-30T11:10:45.887Z"
   },
   {
    "duration": 6,
    "start_time": "2024-05-30T11:11:26.513Z"
   },
   {
    "duration": 3170,
    "start_time": "2024-05-30T11:11:28.873Z"
   },
   {
    "duration": 5,
    "start_time": "2024-05-30T11:12:25.121Z"
   },
   {
    "duration": 25367,
    "start_time": "2024-05-30T11:12:28.076Z"
   },
   {
    "duration": 3,
    "start_time": "2024-05-30T11:13:11.012Z"
   },
   {
    "duration": 6,
    "start_time": "2024-05-30T11:13:11.017Z"
   },
   {
    "duration": 137,
    "start_time": "2024-05-30T11:13:11.024Z"
   },
   {
    "duration": 126,
    "start_time": "2024-05-30T11:13:11.162Z"
   },
   {
    "duration": 123,
    "start_time": "2024-05-30T11:13:11.290Z"
   },
   {
    "duration": 109,
    "start_time": "2024-05-30T11:13:11.415Z"
   },
   {
    "duration": 92,
    "start_time": "2024-05-30T11:13:11.525Z"
   },
   {
    "duration": 4,
    "start_time": "2024-05-30T11:13:11.618Z"
   },
   {
    "duration": 1430,
    "start_time": "2024-05-30T11:13:11.624Z"
   },
   {
    "duration": 1344,
    "start_time": "2024-05-30T11:13:13.055Z"
   },
   {
    "duration": 1457,
    "start_time": "2024-05-30T11:13:14.401Z"
   },
   {
    "duration": 13,
    "start_time": "2024-05-30T11:13:15.859Z"
   },
   {
    "duration": 18,
    "start_time": "2024-05-30T11:13:15.874Z"
   },
   {
    "duration": 13,
    "start_time": "2024-05-30T11:13:15.894Z"
   },
   {
    "duration": 9,
    "start_time": "2024-05-30T11:13:15.909Z"
   },
   {
    "duration": 272,
    "start_time": "2024-05-30T11:13:15.919Z"
   },
   {
    "duration": 100,
    "start_time": "2024-05-30T11:13:16.193Z"
   },
   {
    "duration": 91,
    "start_time": "2024-05-30T11:13:16.294Z"
   },
   {
    "duration": 98,
    "start_time": "2024-05-30T11:13:16.387Z"
   },
   {
    "duration": 28,
    "start_time": "2024-05-30T11:13:16.487Z"
   },
   {
    "duration": 4,
    "start_time": "2024-05-30T11:13:16.516Z"
   },
   {
    "duration": 168,
    "start_time": "2024-05-30T11:13:16.521Z"
   },
   {
    "duration": 94,
    "start_time": "2024-05-30T11:13:16.691Z"
   },
   {
    "duration": 3780,
    "start_time": "2024-05-30T11:13:16.786Z"
   },
   {
    "duration": 5,
    "start_time": "2024-05-30T12:48:28.354Z"
   },
   {
    "duration": 1228,
    "start_time": "2024-05-30T12:49:48.308Z"
   },
   {
    "duration": 2,
    "start_time": "2024-05-30T12:49:49.538Z"
   },
   {
    "duration": 195,
    "start_time": "2024-05-30T12:49:49.541Z"
   },
   {
    "duration": 136,
    "start_time": "2024-05-30T12:49:49.737Z"
   },
   {
    "duration": 145,
    "start_time": "2024-05-30T12:49:49.875Z"
   },
   {
    "duration": 134,
    "start_time": "2024-05-30T12:49:50.022Z"
   },
   {
    "duration": 103,
    "start_time": "2024-05-30T12:49:50.158Z"
   },
   {
    "duration": 4,
    "start_time": "2024-05-30T12:49:50.263Z"
   },
   {
    "duration": 1521,
    "start_time": "2024-05-30T12:49:50.269Z"
   },
   {
    "duration": 1566,
    "start_time": "2024-05-30T12:49:51.792Z"
   },
   {
    "duration": 1438,
    "start_time": "2024-05-30T12:49:53.360Z"
   },
   {
    "duration": 13,
    "start_time": "2024-05-30T12:49:54.800Z"
   },
   {
    "duration": 35,
    "start_time": "2024-05-30T12:49:54.814Z"
   },
   {
    "duration": 19,
    "start_time": "2024-05-30T12:49:54.850Z"
   },
   {
    "duration": 379,
    "start_time": "2024-05-30T12:49:54.870Z"
   },
   {
    "duration": 201,
    "start_time": "2024-05-30T12:49:55.251Z"
   },
   {
    "duration": 91,
    "start_time": "2024-05-30T12:49:55.454Z"
   },
   {
    "duration": 14,
    "start_time": "2024-05-30T12:49:55.546Z"
   },
   {
    "duration": 38,
    "start_time": "2024-05-30T12:49:55.562Z"
   },
   {
    "duration": 4,
    "start_time": "2024-05-30T12:49:55.644Z"
   },
   {
    "duration": 107,
    "start_time": "2024-05-30T12:49:55.649Z"
   },
   {
    "duration": 6,
    "start_time": "2024-05-30T12:49:55.846Z"
   },
   {
    "duration": 3815,
    "start_time": "2024-05-30T12:49:55.854Z"
   },
   {
    "duration": 514,
    "start_time": "2024-05-30T12:50:58.830Z"
   },
   {
    "duration": 74,
    "start_time": "2024-05-30T12:50:59.671Z"
   },
   {
    "duration": 13,
    "start_time": "2024-05-30T12:51:41.883Z"
   },
   {
    "duration": 4,
    "start_time": "2024-05-30T12:51:55.593Z"
   },
   {
    "duration": 32,
    "start_time": "2024-05-30T12:51:57.321Z"
   },
   {
    "duration": 5,
    "start_time": "2024-05-30T12:52:02.554Z"
   },
   {
    "duration": 3716,
    "start_time": "2024-05-30T12:52:10.176Z"
   },
   {
    "duration": 1297,
    "start_time": "2024-05-30T12:55:29.151Z"
   },
   {
    "duration": 2,
    "start_time": "2024-05-30T12:55:30.450Z"
   },
   {
    "duration": 219,
    "start_time": "2024-05-30T12:55:30.453Z"
   },
   {
    "duration": 140,
    "start_time": "2024-05-30T12:55:30.673Z"
   },
   {
    "duration": 147,
    "start_time": "2024-05-30T12:55:30.815Z"
   },
   {
    "duration": 136,
    "start_time": "2024-05-30T12:55:30.963Z"
   },
   {
    "duration": 102,
    "start_time": "2024-05-30T12:55:31.100Z"
   },
   {
    "duration": 33,
    "start_time": "2024-05-30T12:55:31.204Z"
   },
   {
    "duration": 1514,
    "start_time": "2024-05-30T12:55:31.239Z"
   },
   {
    "duration": 1475,
    "start_time": "2024-05-30T12:55:32.755Z"
   },
   {
    "duration": 1402,
    "start_time": "2024-05-30T12:55:34.232Z"
   },
   {
    "duration": 15,
    "start_time": "2024-05-30T12:55:35.636Z"
   },
   {
    "duration": 46,
    "start_time": "2024-05-30T12:55:35.652Z"
   },
   {
    "duration": 14,
    "start_time": "2024-05-30T12:55:35.700Z"
   },
   {
    "duration": 343,
    "start_time": "2024-05-30T12:55:35.716Z"
   },
   {
    "duration": 200,
    "start_time": "2024-05-30T12:55:36.146Z"
   },
   {
    "duration": 3,
    "start_time": "2024-05-30T12:55:36.349Z"
   },
   {
    "duration": 14,
    "start_time": "2024-05-30T12:55:36.454Z"
   },
   {
    "duration": 41,
    "start_time": "2024-05-30T12:55:36.470Z"
   },
   {
    "duration": 15,
    "start_time": "2024-05-30T12:55:36.512Z"
   },
   {
    "duration": 323,
    "start_time": "2024-05-30T12:55:36.528Z"
   },
   {
    "duration": 12,
    "start_time": "2024-05-30T12:55:36.853Z"
   },
   {
    "duration": 3841,
    "start_time": "2024-05-30T12:55:36.945Z"
   },
   {
    "duration": 5,
    "start_time": "2024-05-30T12:56:55.460Z"
   },
   {
    "duration": 3750,
    "start_time": "2024-05-30T12:57:02.146Z"
   }
  ],
  "kernelspec": {
   "display_name": "Python 3 (ipykernel)",
   "language": "python",
   "name": "python3"
  },
  "language_info": {
   "codemirror_mode": {
    "name": "ipython",
    "version": 3
   },
   "file_extension": ".py",
   "mimetype": "text/x-python",
   "name": "python",
   "nbconvert_exporter": "python",
   "pygments_lexer": "ipython3",
   "version": "3.9.5"
  },
  "toc": {
   "base_numbering": 1,
   "nav_menu": {},
   "number_sections": true,
   "sideBar": true,
   "skip_h1_title": true,
   "title_cell": "Table of Contents",
   "title_sidebar": "Contents",
   "toc_cell": false,
   "toc_position": {},
   "toc_section_display": true,
   "toc_window_display": false
  }
 },
 "nbformat": 4,
 "nbformat_minor": 2
}
